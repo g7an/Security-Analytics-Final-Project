{
 "cells": [
  {
   "cell_type": "markdown",
   "id": "a44ab8e9",
   "metadata": {},
   "source": [
    "# Network Intrusion Detection - Data Preprocessing & Feature Slection\n",
    "\n",
    "#### After the EDA, we performed some standard data preprocessing techniques. It was done wherever we felt that it would affect our process.\n",
    "\n",
    "#### In this part, we will fo these methods:\n",
    "\n",
    "- Data Preprocessing - drop duplicates, handling missing values, finding outliers etc. Meanwhile, encoding the catagorical data and normalize the data.\n",
    "\n",
    "- Feature Selection - Removing redundant features or selecting the most \"useful\" features. We used recursive feature elimination for feature selection.  "
   ]
  },
  {
   "cell_type": "code",
   "execution_count": 1,
   "id": "24ec1128",
   "metadata": {},
   "outputs": [],
   "source": [
    "import pandas as pd\n",
    "import numpy as np\n",
    "import matplotlib.pyplot as plt\n",
    "import seaborn as sns\n",
    "from sklearn.preprocessing import StandardScaler, LabelEncoder, OneHotEncoder\n",
    "from sklearn.metrics import mean_squared_error\n",
    "from math import sqrt\n",
    "from sklearn.model_selection import train_test_split\n",
    "from sklearn.linear_model import LinearRegression\n",
    "from sklearn.linear_model import Lasso\n",
    "from sklearn.linear_model import Ridge\n",
    "from sklearn.linear_model import ElasticNet\n",
    "from sklearn.ensemble import RandomForestRegressor\n",
    "from sklearn.ensemble import GradientBoostingRegressor\n",
    "\n",
    "# for normalization\n",
    "from sklearn.preprocessing import StandardScaler\n",
    "# for encoding\n",
    "from sklearn.preprocessing import LabelEncoder\n",
    "# for feature selection\n",
    "from sklearn.ensemble import RandomForestClassifier\n",
    "from sklearn.feature_selection import RFE\n",
    "\n",
    "# for model selection and training\n",
    "from sklearn.svm import SVC\n",
    "from sklearn.linear_model import LogisticRegression\n",
    "\n",
    "# for feature selection\n",
    "from sklearn.model_selection import train_test_split\n",
    "from sklearn.ensemble import RandomForestClassifier\n",
    "from sklearn.preprocessing import StandardScaler\n",
    "from sklearn.svm import SVR\n",
    "from sklearn.feature_selection import RFECV\n",
    "\n",
    "df = pd.read_csv('/Users/mengchuli/Documents/Security_Analytics/final_project/intrusion-classification/training.csv')"
   ]
  },
  {
   "cell_type": "markdown",
   "id": "54ead6dd",
   "metadata": {},
   "source": [
    "# *1 Data Preprocessing*\n",
    "\n",
    "## 1.1 Data Cleaning\n",
    "First of all, we want to drop thoese useless columns and to check whether there are any duplicate values in our dataset. If there is any, we will need to drop them."
   ]
  },
  {
   "cell_type": "code",
   "execution_count": 2,
   "id": "2324ef66",
   "metadata": {},
   "outputs": [
    {
     "data": {
      "text/plain": [
       "(449940, 43)"
      ]
     },
     "execution_count": 2,
     "metadata": {},
     "output_type": "execute_result"
    }
   ],
   "source": [
    "df.shape"
   ]
  },
  {
   "cell_type": "code",
   "execution_count": 3,
   "id": "6076f980",
   "metadata": {},
   "outputs": [],
   "source": [
    "# \"Id\" column looks like useless, drop it.\n",
    "del df['Id']"
   ]
  },
  {
   "cell_type": "code",
   "execution_count": 4,
   "id": "a03d60a1",
   "metadata": {},
   "outputs": [
    {
     "data": {
      "text/html": [
       "<div>\n",
       "<style scoped>\n",
       "    .dataframe tbody tr th:only-of-type {\n",
       "        vertical-align: middle;\n",
       "    }\n",
       "\n",
       "    .dataframe tbody tr th {\n",
       "        vertical-align: top;\n",
       "    }\n",
       "\n",
       "    .dataframe thead th {\n",
       "        text-align: right;\n",
       "    }\n",
       "</style>\n",
       "<table border=\"1\" class=\"dataframe\">\n",
       "  <thead>\n",
       "    <tr style=\"text-align: right;\">\n",
       "      <th></th>\n",
       "      <th>duration</th>\n",
       "      <th>protocol_type</th>\n",
       "      <th>service</th>\n",
       "      <th>flag</th>\n",
       "      <th>src_bytes</th>\n",
       "      <th>dst_bytes</th>\n",
       "      <th>land</th>\n",
       "      <th>wrong_fragment</th>\n",
       "      <th>urgent</th>\n",
       "      <th>hot</th>\n",
       "      <th>...</th>\n",
       "      <th>dst_host_srv_count</th>\n",
       "      <th>dst_host_same_srv_rate</th>\n",
       "      <th>dst_host_diff_srv_rate</th>\n",
       "      <th>dst_host_same_src_port_rate</th>\n",
       "      <th>dst_host_srv_diff_host_rate</th>\n",
       "      <th>dst_host_serror_rate</th>\n",
       "      <th>dst_host_srv_serror_rate</th>\n",
       "      <th>dst_host_rerror_rate</th>\n",
       "      <th>dst_host_srv_rerror_rate</th>\n",
       "      <th>target</th>\n",
       "    </tr>\n",
       "  </thead>\n",
       "  <tbody>\n",
       "    <tr>\n",
       "      <th>0</th>\n",
       "      <td>0</td>\n",
       "      <td>tcp</td>\n",
       "      <td>private</td>\n",
       "      <td>REJ</td>\n",
       "      <td>0</td>\n",
       "      <td>0</td>\n",
       "      <td>0</td>\n",
       "      <td>0</td>\n",
       "      <td>0</td>\n",
       "      <td>0</td>\n",
       "      <td>...</td>\n",
       "      <td>7</td>\n",
       "      <td>0.03</td>\n",
       "      <td>0.06</td>\n",
       "      <td>0.00</td>\n",
       "      <td>0.00</td>\n",
       "      <td>0.0</td>\n",
       "      <td>0.00</td>\n",
       "      <td>1.0</td>\n",
       "      <td>1.0</td>\n",
       "      <td>0</td>\n",
       "    </tr>\n",
       "    <tr>\n",
       "      <th>1</th>\n",
       "      <td>0</td>\n",
       "      <td>icmp</td>\n",
       "      <td>ecr_i</td>\n",
       "      <td>SF</td>\n",
       "      <td>1032</td>\n",
       "      <td>0</td>\n",
       "      <td>0</td>\n",
       "      <td>0</td>\n",
       "      <td>0</td>\n",
       "      <td>0</td>\n",
       "      <td>...</td>\n",
       "      <td>255</td>\n",
       "      <td>1.00</td>\n",
       "      <td>0.00</td>\n",
       "      <td>1.00</td>\n",
       "      <td>0.00</td>\n",
       "      <td>0.0</td>\n",
       "      <td>0.00</td>\n",
       "      <td>0.0</td>\n",
       "      <td>0.0</td>\n",
       "      <td>0</td>\n",
       "    </tr>\n",
       "    <tr>\n",
       "      <th>2</th>\n",
       "      <td>0</td>\n",
       "      <td>tcp</td>\n",
       "      <td>http</td>\n",
       "      <td>SF</td>\n",
       "      <td>302</td>\n",
       "      <td>1023</td>\n",
       "      <td>0</td>\n",
       "      <td>0</td>\n",
       "      <td>0</td>\n",
       "      <td>0</td>\n",
       "      <td>...</td>\n",
       "      <td>255</td>\n",
       "      <td>1.00</td>\n",
       "      <td>0.00</td>\n",
       "      <td>0.00</td>\n",
       "      <td>0.00</td>\n",
       "      <td>0.0</td>\n",
       "      <td>0.00</td>\n",
       "      <td>0.0</td>\n",
       "      <td>0.0</td>\n",
       "      <td>1</td>\n",
       "    </tr>\n",
       "    <tr>\n",
       "      <th>3</th>\n",
       "      <td>0</td>\n",
       "      <td>udp</td>\n",
       "      <td>ntp_u</td>\n",
       "      <td>SF</td>\n",
       "      <td>48</td>\n",
       "      <td>48</td>\n",
       "      <td>0</td>\n",
       "      <td>0</td>\n",
       "      <td>0</td>\n",
       "      <td>0</td>\n",
       "      <td>...</td>\n",
       "      <td>9</td>\n",
       "      <td>0.08</td>\n",
       "      <td>0.02</td>\n",
       "      <td>0.08</td>\n",
       "      <td>0.00</td>\n",
       "      <td>0.0</td>\n",
       "      <td>0.00</td>\n",
       "      <td>0.0</td>\n",
       "      <td>0.0</td>\n",
       "      <td>1</td>\n",
       "    </tr>\n",
       "    <tr>\n",
       "      <th>4</th>\n",
       "      <td>0</td>\n",
       "      <td>tcp</td>\n",
       "      <td>http</td>\n",
       "      <td>SF</td>\n",
       "      <td>334</td>\n",
       "      <td>2096</td>\n",
       "      <td>0</td>\n",
       "      <td>0</td>\n",
       "      <td>0</td>\n",
       "      <td>0</td>\n",
       "      <td>...</td>\n",
       "      <td>255</td>\n",
       "      <td>1.00</td>\n",
       "      <td>0.00</td>\n",
       "      <td>0.03</td>\n",
       "      <td>0.03</td>\n",
       "      <td>0.0</td>\n",
       "      <td>0.00</td>\n",
       "      <td>0.0</td>\n",
       "      <td>0.0</td>\n",
       "      <td>1</td>\n",
       "    </tr>\n",
       "    <tr>\n",
       "      <th>...</th>\n",
       "      <td>...</td>\n",
       "      <td>...</td>\n",
       "      <td>...</td>\n",
       "      <td>...</td>\n",
       "      <td>...</td>\n",
       "      <td>...</td>\n",
       "      <td>...</td>\n",
       "      <td>...</td>\n",
       "      <td>...</td>\n",
       "      <td>...</td>\n",
       "      <td>...</td>\n",
       "      <td>...</td>\n",
       "      <td>...</td>\n",
       "      <td>...</td>\n",
       "      <td>...</td>\n",
       "      <td>...</td>\n",
       "      <td>...</td>\n",
       "      <td>...</td>\n",
       "      <td>...</td>\n",
       "      <td>...</td>\n",
       "      <td>...</td>\n",
       "    </tr>\n",
       "    <tr>\n",
       "      <th>449935</th>\n",
       "      <td>0</td>\n",
       "      <td>tcp</td>\n",
       "      <td>http</td>\n",
       "      <td>SF</td>\n",
       "      <td>215</td>\n",
       "      <td>3205</td>\n",
       "      <td>0</td>\n",
       "      <td>0</td>\n",
       "      <td>0</td>\n",
       "      <td>0</td>\n",
       "      <td>...</td>\n",
       "      <td>163</td>\n",
       "      <td>1.00</td>\n",
       "      <td>0.00</td>\n",
       "      <td>0.10</td>\n",
       "      <td>0.06</td>\n",
       "      <td>0.0</td>\n",
       "      <td>0.01</td>\n",
       "      <td>0.0</td>\n",
       "      <td>0.0</td>\n",
       "      <td>1</td>\n",
       "    </tr>\n",
       "    <tr>\n",
       "      <th>449936</th>\n",
       "      <td>1180</td>\n",
       "      <td>udp</td>\n",
       "      <td>other</td>\n",
       "      <td>SF</td>\n",
       "      <td>147</td>\n",
       "      <td>105</td>\n",
       "      <td>0</td>\n",
       "      <td>0</td>\n",
       "      <td>0</td>\n",
       "      <td>0</td>\n",
       "      <td>...</td>\n",
       "      <td>1</td>\n",
       "      <td>0.00</td>\n",
       "      <td>0.67</td>\n",
       "      <td>0.94</td>\n",
       "      <td>0.00</td>\n",
       "      <td>0.0</td>\n",
       "      <td>0.00</td>\n",
       "      <td>0.0</td>\n",
       "      <td>0.0</td>\n",
       "      <td>1</td>\n",
       "    </tr>\n",
       "    <tr>\n",
       "      <th>449937</th>\n",
       "      <td>0</td>\n",
       "      <td>tcp</td>\n",
       "      <td>http</td>\n",
       "      <td>SF</td>\n",
       "      <td>212</td>\n",
       "      <td>3542</td>\n",
       "      <td>0</td>\n",
       "      <td>0</td>\n",
       "      <td>0</td>\n",
       "      <td>0</td>\n",
       "      <td>...</td>\n",
       "      <td>255</td>\n",
       "      <td>1.00</td>\n",
       "      <td>0.00</td>\n",
       "      <td>0.01</td>\n",
       "      <td>0.01</td>\n",
       "      <td>0.0</td>\n",
       "      <td>0.00</td>\n",
       "      <td>0.0</td>\n",
       "      <td>0.0</td>\n",
       "      <td>1</td>\n",
       "    </tr>\n",
       "    <tr>\n",
       "      <th>449938</th>\n",
       "      <td>0</td>\n",
       "      <td>icmp</td>\n",
       "      <td>ecr_i</td>\n",
       "      <td>SF</td>\n",
       "      <td>1032</td>\n",
       "      <td>0</td>\n",
       "      <td>0</td>\n",
       "      <td>0</td>\n",
       "      <td>0</td>\n",
       "      <td>0</td>\n",
       "      <td>...</td>\n",
       "      <td>255</td>\n",
       "      <td>1.00</td>\n",
       "      <td>0.00</td>\n",
       "      <td>1.00</td>\n",
       "      <td>0.00</td>\n",
       "      <td>0.0</td>\n",
       "      <td>0.00</td>\n",
       "      <td>0.0</td>\n",
       "      <td>0.0</td>\n",
       "      <td>0</td>\n",
       "    </tr>\n",
       "    <tr>\n",
       "      <th>449939</th>\n",
       "      <td>0</td>\n",
       "      <td>icmp</td>\n",
       "      <td>ecr_i</td>\n",
       "      <td>SF</td>\n",
       "      <td>1032</td>\n",
       "      <td>0</td>\n",
       "      <td>0</td>\n",
       "      <td>0</td>\n",
       "      <td>0</td>\n",
       "      <td>0</td>\n",
       "      <td>...</td>\n",
       "      <td>255</td>\n",
       "      <td>1.00</td>\n",
       "      <td>0.00</td>\n",
       "      <td>1.00</td>\n",
       "      <td>0.00</td>\n",
       "      <td>0.0</td>\n",
       "      <td>0.00</td>\n",
       "      <td>0.0</td>\n",
       "      <td>0.0</td>\n",
       "      <td>0</td>\n",
       "    </tr>\n",
       "  </tbody>\n",
       "</table>\n",
       "<p>449940 rows × 42 columns</p>\n",
       "</div>"
      ],
      "text/plain": [
       "        duration protocol_type  service flag  src_bytes  dst_bytes  land  \\\n",
       "0              0           tcp  private  REJ          0          0     0   \n",
       "1              0          icmp    ecr_i   SF       1032          0     0   \n",
       "2              0           tcp     http   SF        302       1023     0   \n",
       "3              0           udp    ntp_u   SF         48         48     0   \n",
       "4              0           tcp     http   SF        334       2096     0   \n",
       "...          ...           ...      ...  ...        ...        ...   ...   \n",
       "449935         0           tcp     http   SF        215       3205     0   \n",
       "449936      1180           udp    other   SF        147        105     0   \n",
       "449937         0           tcp     http   SF        212       3542     0   \n",
       "449938         0          icmp    ecr_i   SF       1032          0     0   \n",
       "449939         0          icmp    ecr_i   SF       1032          0     0   \n",
       "\n",
       "        wrong_fragment  urgent  hot  ...  dst_host_srv_count  \\\n",
       "0                    0       0    0  ...                   7   \n",
       "1                    0       0    0  ...                 255   \n",
       "2                    0       0    0  ...                 255   \n",
       "3                    0       0    0  ...                   9   \n",
       "4                    0       0    0  ...                 255   \n",
       "...                ...     ...  ...  ...                 ...   \n",
       "449935               0       0    0  ...                 163   \n",
       "449936               0       0    0  ...                   1   \n",
       "449937               0       0    0  ...                 255   \n",
       "449938               0       0    0  ...                 255   \n",
       "449939               0       0    0  ...                 255   \n",
       "\n",
       "        dst_host_same_srv_rate  dst_host_diff_srv_rate  \\\n",
       "0                         0.03                    0.06   \n",
       "1                         1.00                    0.00   \n",
       "2                         1.00                    0.00   \n",
       "3                         0.08                    0.02   \n",
       "4                         1.00                    0.00   \n",
       "...                        ...                     ...   \n",
       "449935                    1.00                    0.00   \n",
       "449936                    0.00                    0.67   \n",
       "449937                    1.00                    0.00   \n",
       "449938                    1.00                    0.00   \n",
       "449939                    1.00                    0.00   \n",
       "\n",
       "        dst_host_same_src_port_rate  dst_host_srv_diff_host_rate  \\\n",
       "0                              0.00                         0.00   \n",
       "1                              1.00                         0.00   \n",
       "2                              0.00                         0.00   \n",
       "3                              0.08                         0.00   \n",
       "4                              0.03                         0.03   \n",
       "...                             ...                          ...   \n",
       "449935                         0.10                         0.06   \n",
       "449936                         0.94                         0.00   \n",
       "449937                         0.01                         0.01   \n",
       "449938                         1.00                         0.00   \n",
       "449939                         1.00                         0.00   \n",
       "\n",
       "        dst_host_serror_rate  dst_host_srv_serror_rate  dst_host_rerror_rate  \\\n",
       "0                        0.0                      0.00                   1.0   \n",
       "1                        0.0                      0.00                   0.0   \n",
       "2                        0.0                      0.00                   0.0   \n",
       "3                        0.0                      0.00                   0.0   \n",
       "4                        0.0                      0.00                   0.0   \n",
       "...                      ...                       ...                   ...   \n",
       "449935                   0.0                      0.01                   0.0   \n",
       "449936                   0.0                      0.00                   0.0   \n",
       "449937                   0.0                      0.00                   0.0   \n",
       "449938                   0.0                      0.00                   0.0   \n",
       "449939                   0.0                      0.00                   0.0   \n",
       "\n",
       "        dst_host_srv_rerror_rate  target  \n",
       "0                            1.0       0  \n",
       "1                            0.0       0  \n",
       "2                            0.0       1  \n",
       "3                            0.0       1  \n",
       "4                            0.0       1  \n",
       "...                          ...     ...  \n",
       "449935                       0.0       1  \n",
       "449936                       0.0       1  \n",
       "449937                       0.0       1  \n",
       "449938                       0.0       0  \n",
       "449939                       0.0       0  \n",
       "\n",
       "[449940 rows x 42 columns]"
      ]
     },
     "execution_count": 4,
     "metadata": {},
     "output_type": "execute_result"
    }
   ],
   "source": [
    "df"
   ]
  },
  {
   "cell_type": "code",
   "execution_count": 5,
   "id": "6c18c60d",
   "metadata": {},
   "outputs": [
    {
     "data": {
      "text/plain": [
       "(235464, 42)"
      ]
     },
     "execution_count": 5,
     "metadata": {},
     "output_type": "execute_result"
    }
   ],
   "source": [
    "# drop duplicates\n",
    "sum(df.duplicated(df.columns))\n",
    "df = df.drop_duplicates(df.columns, keep='last')\n",
    "df = df.reset_index(drop=True)\n",
    "df.shape"
   ]
  },
  {
   "cell_type": "markdown",
   "id": "6339faab",
   "metadata": {},
   "source": [
    "Now, Let's look into details."
   ]
  },
  {
   "cell_type": "code",
   "execution_count": 6,
   "id": "57c16130",
   "metadata": {},
   "outputs": [
    {
     "name": "stdout",
     "output_type": "stream",
     "text": [
      "<class 'pandas.core.frame.DataFrame'>\n",
      "RangeIndex: 235464 entries, 0 to 235463\n",
      "Data columns (total 42 columns):\n",
      " #   Column                       Non-Null Count   Dtype  \n",
      "---  ------                       --------------   -----  \n",
      " 0   duration                     235464 non-null  int64  \n",
      " 1   protocol_type                235464 non-null  object \n",
      " 2   service                      235464 non-null  object \n",
      " 3   flag                         235464 non-null  object \n",
      " 4   src_bytes                    235464 non-null  int64  \n",
      " 5   dst_bytes                    235464 non-null  int64  \n",
      " 6   land                         235464 non-null  int64  \n",
      " 7   wrong_fragment               235464 non-null  int64  \n",
      " 8   urgent                       235464 non-null  int64  \n",
      " 9   hot                          235464 non-null  int64  \n",
      " 10  num_failed_logins            235464 non-null  int64  \n",
      " 11  logged_in                    235464 non-null  int64  \n",
      " 12  num_compromised              235464 non-null  int64  \n",
      " 13  root_shell                   235464 non-null  int64  \n",
      " 14  su_attempted                 235464 non-null  int64  \n",
      " 15  num_root                     235464 non-null  int64  \n",
      " 16  num_file_creations           235464 non-null  int64  \n",
      " 17  num_shells                   235464 non-null  int64  \n",
      " 18  num_access_files             235464 non-null  int64  \n",
      " 19  num_outbound_cmds            235464 non-null  int64  \n",
      " 20  is_host_login                235464 non-null  int64  \n",
      " 21  is_guest_login               235464 non-null  int64  \n",
      " 22  count                        235464 non-null  int64  \n",
      " 23  srv_count                    235464 non-null  int64  \n",
      " 24  serror_rate                  235464 non-null  float64\n",
      " 25  srv_serror_rate              235464 non-null  float64\n",
      " 26  rerror_rate                  235464 non-null  float64\n",
      " 27  srv_rerror_rate              235464 non-null  float64\n",
      " 28  same_srv_rate                235464 non-null  float64\n",
      " 29  diff_srv_rate                235464 non-null  float64\n",
      " 30  srv_diff_host_rate           235464 non-null  float64\n",
      " 31  dst_host_count               235464 non-null  int64  \n",
      " 32  dst_host_srv_count           235464 non-null  int64  \n",
      " 33  dst_host_same_srv_rate       235464 non-null  float64\n",
      " 34  dst_host_diff_srv_rate       235464 non-null  float64\n",
      " 35  dst_host_same_src_port_rate  235464 non-null  float64\n",
      " 36  dst_host_srv_diff_host_rate  235464 non-null  float64\n",
      " 37  dst_host_serror_rate         235464 non-null  float64\n",
      " 38  dst_host_srv_serror_rate     235464 non-null  float64\n",
      " 39  dst_host_rerror_rate         235464 non-null  float64\n",
      " 40  dst_host_srv_rerror_rate     235464 non-null  float64\n",
      " 41  target                       235464 non-null  int64  \n",
      "dtypes: float64(15), int64(24), object(3)\n",
      "memory usage: 75.5+ MB\n"
     ]
    }
   ],
   "source": [
    "df.info()"
   ]
  },
  {
   "cell_type": "markdown",
   "id": "bffd09d4",
   "metadata": {},
   "source": [
    "After browsing the information of dataset, we want to see if there are any missing values in the dataset, so before prediction, we should clean these rows in the data table."
   ]
  },
  {
   "cell_type": "code",
   "execution_count": 7,
   "id": "a2817f29",
   "metadata": {},
   "outputs": [],
   "source": [
    "variables = df.columns\n",
    "\n",
    "data = []\n",
    "for variable in variables:\n",
    "    l = df[variable].count()\n",
    "    data.append(l)\n",
    "available_per = np.round(pd.Series(data)/len(df), 3)"
   ]
  },
  {
   "cell_type": "code",
   "execution_count": 8,
   "id": "06f6fa81",
   "metadata": {},
   "outputs": [
    {
     "data": {
      "text/plain": [
       "0     True\n",
       "1     True\n",
       "2     True\n",
       "3     True\n",
       "4     True\n",
       "5     True\n",
       "6     True\n",
       "7     True\n",
       "8     True\n",
       "9     True\n",
       "10    True\n",
       "11    True\n",
       "12    True\n",
       "13    True\n",
       "14    True\n",
       "15    True\n",
       "16    True\n",
       "17    True\n",
       "18    True\n",
       "19    True\n",
       "20    True\n",
       "21    True\n",
       "22    True\n",
       "23    True\n",
       "24    True\n",
       "25    True\n",
       "26    True\n",
       "27    True\n",
       "28    True\n",
       "29    True\n",
       "30    True\n",
       "31    True\n",
       "32    True\n",
       "33    True\n",
       "34    True\n",
       "35    True\n",
       "36    True\n",
       "37    True\n",
       "38    True\n",
       "39    True\n",
       "40    True\n",
       "41    True\n",
       "dtype: bool"
      ]
     },
     "execution_count": 8,
     "metadata": {},
     "output_type": "execute_result"
    }
   ],
   "source": [
    "available_per == 1.0"
   ]
  },
  {
   "cell_type": "markdown",
   "id": "661b6478",
   "metadata": {},
   "source": [
    "From the available percentage of data, we can see that all the features are 100% full of excat values, so we skip this step."
   ]
  },
  {
   "cell_type": "code",
   "execution_count": 9,
   "id": "a3e7a8be",
   "metadata": {},
   "outputs": [
    {
     "data": {
      "text/html": [
       "<div>\n",
       "<style scoped>\n",
       "    .dataframe tbody tr th:only-of-type {\n",
       "        vertical-align: middle;\n",
       "    }\n",
       "\n",
       "    .dataframe tbody tr th {\n",
       "        vertical-align: top;\n",
       "    }\n",
       "\n",
       "    .dataframe thead th {\n",
       "        text-align: right;\n",
       "    }\n",
       "</style>\n",
       "<table border=\"1\" class=\"dataframe\">\n",
       "  <thead>\n",
       "    <tr style=\"text-align: right;\">\n",
       "      <th></th>\n",
       "      <th>duration</th>\n",
       "      <th>src_bytes</th>\n",
       "      <th>dst_bytes</th>\n",
       "      <th>land</th>\n",
       "      <th>wrong_fragment</th>\n",
       "      <th>urgent</th>\n",
       "      <th>hot</th>\n",
       "      <th>num_failed_logins</th>\n",
       "      <th>logged_in</th>\n",
       "      <th>num_compromised</th>\n",
       "      <th>...</th>\n",
       "      <th>dst_host_srv_count</th>\n",
       "      <th>dst_host_same_srv_rate</th>\n",
       "      <th>dst_host_diff_srv_rate</th>\n",
       "      <th>dst_host_same_src_port_rate</th>\n",
       "      <th>dst_host_srv_diff_host_rate</th>\n",
       "      <th>dst_host_serror_rate</th>\n",
       "      <th>dst_host_srv_serror_rate</th>\n",
       "      <th>dst_host_rerror_rate</th>\n",
       "      <th>dst_host_srv_rerror_rate</th>\n",
       "      <th>target</th>\n",
       "    </tr>\n",
       "  </thead>\n",
       "  <tbody>\n",
       "    <tr>\n",
       "      <th>count</th>\n",
       "      <td>235464.000000</td>\n",
       "      <td>2.354640e+05</td>\n",
       "      <td>2.354640e+05</td>\n",
       "      <td>235464.000000</td>\n",
       "      <td>235464.000000</td>\n",
       "      <td>235464.000000</td>\n",
       "      <td>235464.000000</td>\n",
       "      <td>235464.000000</td>\n",
       "      <td>235464.000000</td>\n",
       "      <td>235464.000000</td>\n",
       "      <td>...</td>\n",
       "      <td>235464.000000</td>\n",
       "      <td>235464.000000</td>\n",
       "      <td>235464.000000</td>\n",
       "      <td>235464.000000</td>\n",
       "      <td>235464.000000</td>\n",
       "      <td>235464.000000</td>\n",
       "      <td>235464.000000</td>\n",
       "      <td>235464.000000</td>\n",
       "      <td>235464.000000</td>\n",
       "      <td>235464.000000</td>\n",
       "    </tr>\n",
       "    <tr>\n",
       "      <th>mean</th>\n",
       "      <td>140.371360</td>\n",
       "      <td>3.654130e+03</td>\n",
       "      <td>3.627808e+03</td>\n",
       "      <td>0.000038</td>\n",
       "      <td>0.000713</td>\n",
       "      <td>0.000021</td>\n",
       "      <td>0.077311</td>\n",
       "      <td>0.001869</td>\n",
       "      <td>0.731216</td>\n",
       "      <td>0.061092</td>\n",
       "      <td>...</td>\n",
       "      <td>187.128538</td>\n",
       "      <td>0.786191</td>\n",
       "      <td>0.045092</td>\n",
       "      <td>0.110826</td>\n",
       "      <td>0.024205</td>\n",
       "      <td>0.042885</td>\n",
       "      <td>0.042296</td>\n",
       "      <td>0.099786</td>\n",
       "      <td>0.097800</td>\n",
       "      <td>0.934308</td>\n",
       "    </tr>\n",
       "    <tr>\n",
       "      <th>std</th>\n",
       "      <td>1266.381212</td>\n",
       "      <td>4.594754e+05</td>\n",
       "      <td>5.271162e+04</td>\n",
       "      <td>0.006182</td>\n",
       "      <td>0.040692</td>\n",
       "      <td>0.005452</td>\n",
       "      <td>1.225303</td>\n",
       "      <td>0.043871</td>\n",
       "      <td>0.443328</td>\n",
       "      <td>15.852534</td>\n",
       "      <td>...</td>\n",
       "      <td>98.507433</td>\n",
       "      <td>0.363795</td>\n",
       "      <td>0.144631</td>\n",
       "      <td>0.252989</td>\n",
       "      <td>0.057898</td>\n",
       "      <td>0.196689</td>\n",
       "      <td>0.198604</td>\n",
       "      <td>0.291052</td>\n",
       "      <td>0.289511</td>\n",
       "      <td>0.389891</td>\n",
       "    </tr>\n",
       "    <tr>\n",
       "      <th>min</th>\n",
       "      <td>0.000000</td>\n",
       "      <td>0.000000e+00</td>\n",
       "      <td>0.000000e+00</td>\n",
       "      <td>0.000000</td>\n",
       "      <td>0.000000</td>\n",
       "      <td>0.000000</td>\n",
       "      <td>0.000000</td>\n",
       "      <td>0.000000</td>\n",
       "      <td>0.000000</td>\n",
       "      <td>0.000000</td>\n",
       "      <td>...</td>\n",
       "      <td>0.000000</td>\n",
       "      <td>0.000000</td>\n",
       "      <td>0.000000</td>\n",
       "      <td>0.000000</td>\n",
       "      <td>0.000000</td>\n",
       "      <td>0.000000</td>\n",
       "      <td>0.000000</td>\n",
       "      <td>0.000000</td>\n",
       "      <td>0.000000</td>\n",
       "      <td>0.000000</td>\n",
       "    </tr>\n",
       "    <tr>\n",
       "      <th>25%</th>\n",
       "      <td>0.000000</td>\n",
       "      <td>1.470000e+02</td>\n",
       "      <td>1.050000e+02</td>\n",
       "      <td>0.000000</td>\n",
       "      <td>0.000000</td>\n",
       "      <td>0.000000</td>\n",
       "      <td>0.000000</td>\n",
       "      <td>0.000000</td>\n",
       "      <td>0.000000</td>\n",
       "      <td>0.000000</td>\n",
       "      <td>...</td>\n",
       "      <td>106.000000</td>\n",
       "      <td>0.690000</td>\n",
       "      <td>0.000000</td>\n",
       "      <td>0.000000</td>\n",
       "      <td>0.000000</td>\n",
       "      <td>0.000000</td>\n",
       "      <td>0.000000</td>\n",
       "      <td>0.000000</td>\n",
       "      <td>0.000000</td>\n",
       "      <td>1.000000</td>\n",
       "    </tr>\n",
       "    <tr>\n",
       "      <th>50%</th>\n",
       "      <td>0.000000</td>\n",
       "      <td>2.320000e+02</td>\n",
       "      <td>4.760000e+02</td>\n",
       "      <td>0.000000</td>\n",
       "      <td>0.000000</td>\n",
       "      <td>0.000000</td>\n",
       "      <td>0.000000</td>\n",
       "      <td>0.000000</td>\n",
       "      <td>1.000000</td>\n",
       "      <td>0.000000</td>\n",
       "      <td>...</td>\n",
       "      <td>255.000000</td>\n",
       "      <td>1.000000</td>\n",
       "      <td>0.000000</td>\n",
       "      <td>0.010000</td>\n",
       "      <td>0.010000</td>\n",
       "      <td>0.000000</td>\n",
       "      <td>0.000000</td>\n",
       "      <td>0.000000</td>\n",
       "      <td>0.000000</td>\n",
       "      <td>1.000000</td>\n",
       "    </tr>\n",
       "    <tr>\n",
       "      <th>75%</th>\n",
       "      <td>0.000000</td>\n",
       "      <td>3.130000e+02</td>\n",
       "      <td>2.265000e+03</td>\n",
       "      <td>0.000000</td>\n",
       "      <td>0.000000</td>\n",
       "      <td>0.000000</td>\n",
       "      <td>0.000000</td>\n",
       "      <td>0.000000</td>\n",
       "      <td>1.000000</td>\n",
       "      <td>0.000000</td>\n",
       "      <td>...</td>\n",
       "      <td>255.000000</td>\n",
       "      <td>1.000000</td>\n",
       "      <td>0.030000</td>\n",
       "      <td>0.050000</td>\n",
       "      <td>0.030000</td>\n",
       "      <td>0.000000</td>\n",
       "      <td>0.000000</td>\n",
       "      <td>0.000000</td>\n",
       "      <td>0.000000</td>\n",
       "      <td>1.000000</td>\n",
       "    </tr>\n",
       "    <tr>\n",
       "      <th>max</th>\n",
       "      <td>54451.000000</td>\n",
       "      <td>2.172773e+08</td>\n",
       "      <td>7.068759e+06</td>\n",
       "      <td>1.000000</td>\n",
       "      <td>3.000000</td>\n",
       "      <td>2.000000</td>\n",
       "      <td>101.000000</td>\n",
       "      <td>3.000000</td>\n",
       "      <td>1.000000</td>\n",
       "      <td>7479.000000</td>\n",
       "      <td>...</td>\n",
       "      <td>255.000000</td>\n",
       "      <td>1.000000</td>\n",
       "      <td>1.000000</td>\n",
       "      <td>1.000000</td>\n",
       "      <td>1.000000</td>\n",
       "      <td>1.000000</td>\n",
       "      <td>1.000000</td>\n",
       "      <td>1.000000</td>\n",
       "      <td>1.000000</td>\n",
       "      <td>4.000000</td>\n",
       "    </tr>\n",
       "  </tbody>\n",
       "</table>\n",
       "<p>8 rows × 39 columns</p>\n",
       "</div>"
      ],
      "text/plain": [
       "            duration     src_bytes     dst_bytes           land  \\\n",
       "count  235464.000000  2.354640e+05  2.354640e+05  235464.000000   \n",
       "mean      140.371360  3.654130e+03  3.627808e+03       0.000038   \n",
       "std      1266.381212  4.594754e+05  5.271162e+04       0.006182   \n",
       "min         0.000000  0.000000e+00  0.000000e+00       0.000000   \n",
       "25%         0.000000  1.470000e+02  1.050000e+02       0.000000   \n",
       "50%         0.000000  2.320000e+02  4.760000e+02       0.000000   \n",
       "75%         0.000000  3.130000e+02  2.265000e+03       0.000000   \n",
       "max     54451.000000  2.172773e+08  7.068759e+06       1.000000   \n",
       "\n",
       "       wrong_fragment         urgent            hot  num_failed_logins  \\\n",
       "count   235464.000000  235464.000000  235464.000000      235464.000000   \n",
       "mean         0.000713       0.000021       0.077311           0.001869   \n",
       "std          0.040692       0.005452       1.225303           0.043871   \n",
       "min          0.000000       0.000000       0.000000           0.000000   \n",
       "25%          0.000000       0.000000       0.000000           0.000000   \n",
       "50%          0.000000       0.000000       0.000000           0.000000   \n",
       "75%          0.000000       0.000000       0.000000           0.000000   \n",
       "max          3.000000       2.000000     101.000000           3.000000   \n",
       "\n",
       "           logged_in  num_compromised  ...  dst_host_srv_count  \\\n",
       "count  235464.000000    235464.000000  ...       235464.000000   \n",
       "mean        0.731216         0.061092  ...          187.128538   \n",
       "std         0.443328        15.852534  ...           98.507433   \n",
       "min         0.000000         0.000000  ...            0.000000   \n",
       "25%         0.000000         0.000000  ...          106.000000   \n",
       "50%         1.000000         0.000000  ...          255.000000   \n",
       "75%         1.000000         0.000000  ...          255.000000   \n",
       "max         1.000000      7479.000000  ...          255.000000   \n",
       "\n",
       "       dst_host_same_srv_rate  dst_host_diff_srv_rate  \\\n",
       "count           235464.000000           235464.000000   \n",
       "mean                 0.786191                0.045092   \n",
       "std                  0.363795                0.144631   \n",
       "min                  0.000000                0.000000   \n",
       "25%                  0.690000                0.000000   \n",
       "50%                  1.000000                0.000000   \n",
       "75%                  1.000000                0.030000   \n",
       "max                  1.000000                1.000000   \n",
       "\n",
       "       dst_host_same_src_port_rate  dst_host_srv_diff_host_rate  \\\n",
       "count                235464.000000                235464.000000   \n",
       "mean                      0.110826                     0.024205   \n",
       "std                       0.252989                     0.057898   \n",
       "min                       0.000000                     0.000000   \n",
       "25%                       0.000000                     0.000000   \n",
       "50%                       0.010000                     0.010000   \n",
       "75%                       0.050000                     0.030000   \n",
       "max                       1.000000                     1.000000   \n",
       "\n",
       "       dst_host_serror_rate  dst_host_srv_serror_rate  dst_host_rerror_rate  \\\n",
       "count         235464.000000             235464.000000         235464.000000   \n",
       "mean               0.042885                  0.042296              0.099786   \n",
       "std                0.196689                  0.198604              0.291052   \n",
       "min                0.000000                  0.000000              0.000000   \n",
       "25%                0.000000                  0.000000              0.000000   \n",
       "50%                0.000000                  0.000000              0.000000   \n",
       "75%                0.000000                  0.000000              0.000000   \n",
       "max                1.000000                  1.000000              1.000000   \n",
       "\n",
       "       dst_host_srv_rerror_rate         target  \n",
       "count             235464.000000  235464.000000  \n",
       "mean                   0.097800       0.934308  \n",
       "std                    0.289511       0.389891  \n",
       "min                    0.000000       0.000000  \n",
       "25%                    0.000000       1.000000  \n",
       "50%                    0.000000       1.000000  \n",
       "75%                    0.000000       1.000000  \n",
       "max                    1.000000       4.000000  \n",
       "\n",
       "[8 rows x 39 columns]"
      ]
     },
     "execution_count": 9,
     "metadata": {},
     "output_type": "execute_result"
    }
   ],
   "source": [
    "df.describe()"
   ]
  },
  {
   "cell_type": "markdown",
   "id": "82a58391",
   "metadata": {},
   "source": [
    "Finally, check the outliers in our datasets, let's first look into the column target.\n",
    "\n",
    "### Target\n",
    "\n",
    "In this section, we are encoding the target class to 0s and 1s, so that it can be used for further analysis and training:\n",
    "\n",
    "0 for \"normal\" connections -- target = 1;\n",
    "\n",
    "1 for \"anomaly\" connections -- target in {0,2,3,4};"
   ]
  },
  {
   "cell_type": "code",
   "execution_count": 10,
   "id": "2ce25b03",
   "metadata": {},
   "outputs": [],
   "source": [
    "import warnings\n",
    "warnings.filterwarnings('ignore')\n",
    "\n",
    "# map nomarl with 0, inrusion attack with 1\n",
    "df['target'] = df['target'].apply(lambda x: 0 if x==1  else 1)\n",
    "\n",
    "# tg = df['target']\n",
    "# for idx in range(len(tg)):\n",
    "#     if tg[idx] == 1:\n",
    "#         df['target'][idx] = 0\n",
    "#     else:\n",
    "#         df['target'][idx] = 1"
   ]
  },
  {
   "cell_type": "code",
   "execution_count": 11,
   "id": "e42a4ee9",
   "metadata": {},
   "outputs": [
    {
     "data": {
      "application/vnd.plotly.v1+json": {
       "config": {
        "plotlyServerURL": "https://plot.ly"
       },
       "data": [
        {
         "labels": [
          [
           0
          ],
          [
           1
          ]
         ],
         "textposition": "inside",
         "type": "pie",
         "values": [
          206872,
          28592
         ]
        }
       ],
       "layout": {
        "template": {
         "data": {
          "bar": [
           {
            "error_x": {
             "color": "#2a3f5f"
            },
            "error_y": {
             "color": "#2a3f5f"
            },
            "marker": {
             "line": {
              "color": "#E5ECF6",
              "width": 0.5
             },
             "pattern": {
              "fillmode": "overlay",
              "size": 10,
              "solidity": 0.2
             }
            },
            "type": "bar"
           }
          ],
          "barpolar": [
           {
            "marker": {
             "line": {
              "color": "#E5ECF6",
              "width": 0.5
             },
             "pattern": {
              "fillmode": "overlay",
              "size": 10,
              "solidity": 0.2
             }
            },
            "type": "barpolar"
           }
          ],
          "carpet": [
           {
            "aaxis": {
             "endlinecolor": "#2a3f5f",
             "gridcolor": "white",
             "linecolor": "white",
             "minorgridcolor": "white",
             "startlinecolor": "#2a3f5f"
            },
            "baxis": {
             "endlinecolor": "#2a3f5f",
             "gridcolor": "white",
             "linecolor": "white",
             "minorgridcolor": "white",
             "startlinecolor": "#2a3f5f"
            },
            "type": "carpet"
           }
          ],
          "choropleth": [
           {
            "colorbar": {
             "outlinewidth": 0,
             "ticks": ""
            },
            "type": "choropleth"
           }
          ],
          "contour": [
           {
            "colorbar": {
             "outlinewidth": 0,
             "ticks": ""
            },
            "colorscale": [
             [
              0,
              "#0d0887"
             ],
             [
              0.1111111111111111,
              "#46039f"
             ],
             [
              0.2222222222222222,
              "#7201a8"
             ],
             [
              0.3333333333333333,
              "#9c179e"
             ],
             [
              0.4444444444444444,
              "#bd3786"
             ],
             [
              0.5555555555555556,
              "#d8576b"
             ],
             [
              0.6666666666666666,
              "#ed7953"
             ],
             [
              0.7777777777777778,
              "#fb9f3a"
             ],
             [
              0.8888888888888888,
              "#fdca26"
             ],
             [
              1,
              "#f0f921"
             ]
            ],
            "type": "contour"
           }
          ],
          "contourcarpet": [
           {
            "colorbar": {
             "outlinewidth": 0,
             "ticks": ""
            },
            "type": "contourcarpet"
           }
          ],
          "heatmap": [
           {
            "colorbar": {
             "outlinewidth": 0,
             "ticks": ""
            },
            "colorscale": [
             [
              0,
              "#0d0887"
             ],
             [
              0.1111111111111111,
              "#46039f"
             ],
             [
              0.2222222222222222,
              "#7201a8"
             ],
             [
              0.3333333333333333,
              "#9c179e"
             ],
             [
              0.4444444444444444,
              "#bd3786"
             ],
             [
              0.5555555555555556,
              "#d8576b"
             ],
             [
              0.6666666666666666,
              "#ed7953"
             ],
             [
              0.7777777777777778,
              "#fb9f3a"
             ],
             [
              0.8888888888888888,
              "#fdca26"
             ],
             [
              1,
              "#f0f921"
             ]
            ],
            "type": "heatmap"
           }
          ],
          "heatmapgl": [
           {
            "colorbar": {
             "outlinewidth": 0,
             "ticks": ""
            },
            "colorscale": [
             [
              0,
              "#0d0887"
             ],
             [
              0.1111111111111111,
              "#46039f"
             ],
             [
              0.2222222222222222,
              "#7201a8"
             ],
             [
              0.3333333333333333,
              "#9c179e"
             ],
             [
              0.4444444444444444,
              "#bd3786"
             ],
             [
              0.5555555555555556,
              "#d8576b"
             ],
             [
              0.6666666666666666,
              "#ed7953"
             ],
             [
              0.7777777777777778,
              "#fb9f3a"
             ],
             [
              0.8888888888888888,
              "#fdca26"
             ],
             [
              1,
              "#f0f921"
             ]
            ],
            "type": "heatmapgl"
           }
          ],
          "histogram": [
           {
            "marker": {
             "pattern": {
              "fillmode": "overlay",
              "size": 10,
              "solidity": 0.2
             }
            },
            "type": "histogram"
           }
          ],
          "histogram2d": [
           {
            "colorbar": {
             "outlinewidth": 0,
             "ticks": ""
            },
            "colorscale": [
             [
              0,
              "#0d0887"
             ],
             [
              0.1111111111111111,
              "#46039f"
             ],
             [
              0.2222222222222222,
              "#7201a8"
             ],
             [
              0.3333333333333333,
              "#9c179e"
             ],
             [
              0.4444444444444444,
              "#bd3786"
             ],
             [
              0.5555555555555556,
              "#d8576b"
             ],
             [
              0.6666666666666666,
              "#ed7953"
             ],
             [
              0.7777777777777778,
              "#fb9f3a"
             ],
             [
              0.8888888888888888,
              "#fdca26"
             ],
             [
              1,
              "#f0f921"
             ]
            ],
            "type": "histogram2d"
           }
          ],
          "histogram2dcontour": [
           {
            "colorbar": {
             "outlinewidth": 0,
             "ticks": ""
            },
            "colorscale": [
             [
              0,
              "#0d0887"
             ],
             [
              0.1111111111111111,
              "#46039f"
             ],
             [
              0.2222222222222222,
              "#7201a8"
             ],
             [
              0.3333333333333333,
              "#9c179e"
             ],
             [
              0.4444444444444444,
              "#bd3786"
             ],
             [
              0.5555555555555556,
              "#d8576b"
             ],
             [
              0.6666666666666666,
              "#ed7953"
             ],
             [
              0.7777777777777778,
              "#fb9f3a"
             ],
             [
              0.8888888888888888,
              "#fdca26"
             ],
             [
              1,
              "#f0f921"
             ]
            ],
            "type": "histogram2dcontour"
           }
          ],
          "mesh3d": [
           {
            "colorbar": {
             "outlinewidth": 0,
             "ticks": ""
            },
            "type": "mesh3d"
           }
          ],
          "parcoords": [
           {
            "line": {
             "colorbar": {
              "outlinewidth": 0,
              "ticks": ""
             }
            },
            "type": "parcoords"
           }
          ],
          "pie": [
           {
            "automargin": true,
            "type": "pie"
           }
          ],
          "scatter": [
           {
            "fillpattern": {
             "fillmode": "overlay",
             "size": 10,
             "solidity": 0.2
            },
            "type": "scatter"
           }
          ],
          "scatter3d": [
           {
            "line": {
             "colorbar": {
              "outlinewidth": 0,
              "ticks": ""
             }
            },
            "marker": {
             "colorbar": {
              "outlinewidth": 0,
              "ticks": ""
             }
            },
            "type": "scatter3d"
           }
          ],
          "scattercarpet": [
           {
            "marker": {
             "colorbar": {
              "outlinewidth": 0,
              "ticks": ""
             }
            },
            "type": "scattercarpet"
           }
          ],
          "scattergeo": [
           {
            "marker": {
             "colorbar": {
              "outlinewidth": 0,
              "ticks": ""
             }
            },
            "type": "scattergeo"
           }
          ],
          "scattergl": [
           {
            "marker": {
             "colorbar": {
              "outlinewidth": 0,
              "ticks": ""
             }
            },
            "type": "scattergl"
           }
          ],
          "scattermapbox": [
           {
            "marker": {
             "colorbar": {
              "outlinewidth": 0,
              "ticks": ""
             }
            },
            "type": "scattermapbox"
           }
          ],
          "scatterpolar": [
           {
            "marker": {
             "colorbar": {
              "outlinewidth": 0,
              "ticks": ""
             }
            },
            "type": "scatterpolar"
           }
          ],
          "scatterpolargl": [
           {
            "marker": {
             "colorbar": {
              "outlinewidth": 0,
              "ticks": ""
             }
            },
            "type": "scatterpolargl"
           }
          ],
          "scatterternary": [
           {
            "marker": {
             "colorbar": {
              "outlinewidth": 0,
              "ticks": ""
             }
            },
            "type": "scatterternary"
           }
          ],
          "surface": [
           {
            "colorbar": {
             "outlinewidth": 0,
             "ticks": ""
            },
            "colorscale": [
             [
              0,
              "#0d0887"
             ],
             [
              0.1111111111111111,
              "#46039f"
             ],
             [
              0.2222222222222222,
              "#7201a8"
             ],
             [
              0.3333333333333333,
              "#9c179e"
             ],
             [
              0.4444444444444444,
              "#bd3786"
             ],
             [
              0.5555555555555556,
              "#d8576b"
             ],
             [
              0.6666666666666666,
              "#ed7953"
             ],
             [
              0.7777777777777778,
              "#fb9f3a"
             ],
             [
              0.8888888888888888,
              "#fdca26"
             ],
             [
              1,
              "#f0f921"
             ]
            ],
            "type": "surface"
           }
          ],
          "table": [
           {
            "cells": {
             "fill": {
              "color": "#EBF0F8"
             },
             "line": {
              "color": "white"
             }
            },
            "header": {
             "fill": {
              "color": "#C8D4E3"
             },
             "line": {
              "color": "white"
             }
            },
            "type": "table"
           }
          ]
         },
         "layout": {
          "annotationdefaults": {
           "arrowcolor": "#2a3f5f",
           "arrowhead": 0,
           "arrowwidth": 1
          },
          "autotypenumbers": "strict",
          "coloraxis": {
           "colorbar": {
            "outlinewidth": 0,
            "ticks": ""
           }
          },
          "colorscale": {
           "diverging": [
            [
             0,
             "#8e0152"
            ],
            [
             0.1,
             "#c51b7d"
            ],
            [
             0.2,
             "#de77ae"
            ],
            [
             0.3,
             "#f1b6da"
            ],
            [
             0.4,
             "#fde0ef"
            ],
            [
             0.5,
             "#f7f7f7"
            ],
            [
             0.6,
             "#e6f5d0"
            ],
            [
             0.7,
             "#b8e186"
            ],
            [
             0.8,
             "#7fbc41"
            ],
            [
             0.9,
             "#4d9221"
            ],
            [
             1,
             "#276419"
            ]
           ],
           "sequential": [
            [
             0,
             "#0d0887"
            ],
            [
             0.1111111111111111,
             "#46039f"
            ],
            [
             0.2222222222222222,
             "#7201a8"
            ],
            [
             0.3333333333333333,
             "#9c179e"
            ],
            [
             0.4444444444444444,
             "#bd3786"
            ],
            [
             0.5555555555555556,
             "#d8576b"
            ],
            [
             0.6666666666666666,
             "#ed7953"
            ],
            [
             0.7777777777777778,
             "#fb9f3a"
            ],
            [
             0.8888888888888888,
             "#fdca26"
            ],
            [
             1,
             "#f0f921"
            ]
           ],
           "sequentialminus": [
            [
             0,
             "#0d0887"
            ],
            [
             0.1111111111111111,
             "#46039f"
            ],
            [
             0.2222222222222222,
             "#7201a8"
            ],
            [
             0.3333333333333333,
             "#9c179e"
            ],
            [
             0.4444444444444444,
             "#bd3786"
            ],
            [
             0.5555555555555556,
             "#d8576b"
            ],
            [
             0.6666666666666666,
             "#ed7953"
            ],
            [
             0.7777777777777778,
             "#fb9f3a"
            ],
            [
             0.8888888888888888,
             "#fdca26"
            ],
            [
             1,
             "#f0f921"
            ]
           ]
          },
          "colorway": [
           "#636efa",
           "#EF553B",
           "#00cc96",
           "#ab63fa",
           "#FFA15A",
           "#19d3f3",
           "#FF6692",
           "#B6E880",
           "#FF97FF",
           "#FECB52"
          ],
          "font": {
           "color": "#2a3f5f"
          },
          "geo": {
           "bgcolor": "white",
           "lakecolor": "white",
           "landcolor": "#E5ECF6",
           "showlakes": true,
           "showland": true,
           "subunitcolor": "white"
          },
          "hoverlabel": {
           "align": "left"
          },
          "hovermode": "closest",
          "mapbox": {
           "style": "light"
          },
          "paper_bgcolor": "white",
          "plot_bgcolor": "#E5ECF6",
          "polar": {
           "angularaxis": {
            "gridcolor": "white",
            "linecolor": "white",
            "ticks": ""
           },
           "bgcolor": "#E5ECF6",
           "radialaxis": {
            "gridcolor": "white",
            "linecolor": "white",
            "ticks": ""
           }
          },
          "scene": {
           "xaxis": {
            "backgroundcolor": "#E5ECF6",
            "gridcolor": "white",
            "gridwidth": 2,
            "linecolor": "white",
            "showbackground": true,
            "ticks": "",
            "zerolinecolor": "white"
           },
           "yaxis": {
            "backgroundcolor": "#E5ECF6",
            "gridcolor": "white",
            "gridwidth": 2,
            "linecolor": "white",
            "showbackground": true,
            "ticks": "",
            "zerolinecolor": "white"
           },
           "zaxis": {
            "backgroundcolor": "#E5ECF6",
            "gridcolor": "white",
            "gridwidth": 2,
            "linecolor": "white",
            "showbackground": true,
            "ticks": "",
            "zerolinecolor": "white"
           }
          },
          "shapedefaults": {
           "line": {
            "color": "#2a3f5f"
           }
          },
          "ternary": {
           "aaxis": {
            "gridcolor": "white",
            "linecolor": "white",
            "ticks": ""
           },
           "baxis": {
            "gridcolor": "white",
            "linecolor": "white",
            "ticks": ""
           },
           "bgcolor": "#E5ECF6",
           "caxis": {
            "gridcolor": "white",
            "linecolor": "white",
            "ticks": ""
           }
          },
          "title": {
           "x": 0.05
          },
          "xaxis": {
           "automargin": true,
           "gridcolor": "white",
           "linecolor": "white",
           "ticks": "",
           "title": {
            "standoff": 15
           },
           "zerolinecolor": "white",
           "zerolinewidth": 2
          },
          "yaxis": {
           "automargin": true,
           "gridcolor": "white",
           "linecolor": "white",
           "ticks": "",
           "title": {
            "standoff": 15
           },
           "zerolinecolor": "white",
           "zerolinewidth": 2
          }
         }
        },
        "title": {
         "text": "Pie Chart of Groundtruths"
        },
        "uniformtext": {
         "minsize": 12,
         "mode": "hide"
        }
       }
      }
     },
     "metadata": {},
     "output_type": "display_data"
    }
   ],
   "source": [
    "import os \n",
    "import warnings\n",
    "import gc\n",
    "\n",
    "import pandas as pd \n",
    "import numpy as np \n",
    "from plotly.subplots import make_subplots\n",
    "import plotly.express as px \n",
    "import plotly.graph_objects as go\n",
    "from sklearn.preprocessing import LabelEncoder\n",
    "from sklearn.model_selection import train_test_split, KFold\n",
    "from sklearn.ensemble import RandomForestClassifier\n",
    "from sklearn.metrics import precision_recall_fscore_support, classification_report\n",
    "\n",
    "class_count = pd.DataFrame(df['target']).value_counts()\n",
    "fig = go.Figure()\n",
    "fig.add_trace(go.Pie(\n",
    "    labels=class_count.index,\n",
    "    values=class_count\n",
    "))\n",
    "fig.update_traces(textposition='inside') \n",
    "fig.update_layout(\n",
    "    title=f\"Pie Chart of Groundtruths\",\n",
    "    uniformtext_minsize=12, \n",
    "    uniformtext_mode='hide'\n",
    ")\n",
    "fig.show()"
   ]
  },
  {
   "cell_type": "markdown",
   "id": "5080e9b6",
   "metadata": {},
   "source": [
    "### Features\n",
    "\n",
    "In this section, we are trying to find outlier in feature values. Such as deleting the extranous 2 in feature only has 0 or 1. \n",
    "\n",
    "Based on the discribe data bafore. We first compute a table for each seemingly anomaly feature(like su_attemped with a max value 2), group by the different feature values and their corresponding target type counts. From this table, we could easily find the outliers and delete them."
   ]
  },
  {
   "cell_type": "code",
   "execution_count": 12,
   "id": "b2d29047",
   "metadata": {},
   "outputs": [
    {
     "data": {
      "text/html": [
       "<div>\n",
       "<style scoped>\n",
       "    .dataframe tbody tr th:only-of-type {\n",
       "        vertical-align: middle;\n",
       "    }\n",
       "\n",
       "    .dataframe tbody tr th {\n",
       "        vertical-align: top;\n",
       "    }\n",
       "\n",
       "    .dataframe thead th {\n",
       "        text-align: right;\n",
       "    }\n",
       "</style>\n",
       "<table border=\"1\" class=\"dataframe\">\n",
       "  <thead>\n",
       "    <tr style=\"text-align: right;\">\n",
       "      <th></th>\n",
       "      <th>su_attempted</th>\n",
       "      <th>target</th>\n",
       "    </tr>\n",
       "  </thead>\n",
       "  <tbody>\n",
       "    <tr>\n",
       "      <th>0</th>\n",
       "      <td>0</td>\n",
       "      <td>235435</td>\n",
       "    </tr>\n",
       "    <tr>\n",
       "      <th>1</th>\n",
       "      <td>1</td>\n",
       "      <td>14</td>\n",
       "    </tr>\n",
       "    <tr>\n",
       "      <th>2</th>\n",
       "      <td>2</td>\n",
       "      <td>15</td>\n",
       "    </tr>\n",
       "  </tbody>\n",
       "</table>\n",
       "</div>"
      ],
      "text/plain": [
       "   su_attempted  target\n",
       "0             0  235435\n",
       "1             1      14\n",
       "2             2      15"
      ]
     },
     "execution_count": 12,
     "metadata": {},
     "output_type": "execute_result"
    }
   ],
   "source": [
    "df[[\"su_attempted\", \"target\"]].groupby(['su_attempted'], as_index=False).count().sort_values(by='su_attempted', ascending=True)"
   ]
  },
  {
   "cell_type": "markdown",
   "id": "0b90356a",
   "metadata": {},
   "source": [
    "From the table, wo can see that there exist outliers \"2\" in __su_attempted__ feature, so we delete them."
   ]
  },
  {
   "cell_type": "code",
   "execution_count": 13,
   "id": "2acce88a",
   "metadata": {},
   "outputs": [],
   "source": [
    "df = df[df['su_attempted'] != 2] "
   ]
  },
  {
   "cell_type": "code",
   "execution_count": 14,
   "id": "7147b856",
   "metadata": {},
   "outputs": [
    {
     "data": {
      "text/html": [
       "<div>\n",
       "<style scoped>\n",
       "    .dataframe tbody tr th:only-of-type {\n",
       "        vertical-align: middle;\n",
       "    }\n",
       "\n",
       "    .dataframe tbody tr th {\n",
       "        vertical-align: top;\n",
       "    }\n",
       "\n",
       "    .dataframe thead th {\n",
       "        text-align: right;\n",
       "    }\n",
       "</style>\n",
       "<table border=\"1\" class=\"dataframe\">\n",
       "  <thead>\n",
       "    <tr style=\"text-align: right;\">\n",
       "      <th></th>\n",
       "      <th>is_guest_login</th>\n",
       "      <th>target</th>\n",
       "    </tr>\n",
       "  </thead>\n",
       "  <tbody>\n",
       "    <tr>\n",
       "      <th>0</th>\n",
       "      <td>0</td>\n",
       "      <td>233880</td>\n",
       "    </tr>\n",
       "    <tr>\n",
       "      <th>1</th>\n",
       "      <td>1</td>\n",
       "      <td>1569</td>\n",
       "    </tr>\n",
       "  </tbody>\n",
       "</table>\n",
       "</div>"
      ],
      "text/plain": [
       "   is_guest_login  target\n",
       "0               0  233880\n",
       "1               1    1569"
      ]
     },
     "execution_count": 14,
     "metadata": {},
     "output_type": "execute_result"
    }
   ],
   "source": [
    "df[[\"is_guest_login\", \"target\"]].groupby(['is_guest_login'], as_index=False).count().sort_values(by='target', ascending=False)\n"
   ]
  },
  {
   "cell_type": "code",
   "execution_count": 15,
   "id": "60c226ed",
   "metadata": {},
   "outputs": [
    {
     "data": {
      "text/html": [
       "<div>\n",
       "<style scoped>\n",
       "    .dataframe tbody tr th:only-of-type {\n",
       "        vertical-align: middle;\n",
       "    }\n",
       "\n",
       "    .dataframe tbody tr th {\n",
       "        vertical-align: top;\n",
       "    }\n",
       "\n",
       "    .dataframe thead th {\n",
       "        text-align: right;\n",
       "    }\n",
       "</style>\n",
       "<table border=\"1\" class=\"dataframe\">\n",
       "  <thead>\n",
       "    <tr style=\"text-align: right;\">\n",
       "      <th></th>\n",
       "      <th>num_compromised</th>\n",
       "      <th>target</th>\n",
       "    </tr>\n",
       "  </thead>\n",
       "  <tbody>\n",
       "    <tr>\n",
       "      <th>0</th>\n",
       "      <td>0</td>\n",
       "      <td>234954</td>\n",
       "    </tr>\n",
       "    <tr>\n",
       "      <th>1</th>\n",
       "      <td>1</td>\n",
       "      <td>366</td>\n",
       "    </tr>\n",
       "    <tr>\n",
       "      <th>2</th>\n",
       "      <td>2</td>\n",
       "      <td>46</td>\n",
       "    </tr>\n",
       "    <tr>\n",
       "      <th>3</th>\n",
       "      <td>3</td>\n",
       "      <td>27</td>\n",
       "    </tr>\n",
       "    <tr>\n",
       "      <th>4</th>\n",
       "      <td>4</td>\n",
       "      <td>20</td>\n",
       "    </tr>\n",
       "    <tr>\n",
       "      <th>5</th>\n",
       "      <td>5</td>\n",
       "      <td>5</td>\n",
       "    </tr>\n",
       "    <tr>\n",
       "      <th>6</th>\n",
       "      <td>6</td>\n",
       "      <td>7</td>\n",
       "    </tr>\n",
       "    <tr>\n",
       "      <th>7</th>\n",
       "      <td>7</td>\n",
       "      <td>3</td>\n",
       "    </tr>\n",
       "    <tr>\n",
       "      <th>8</th>\n",
       "      <td>9</td>\n",
       "      <td>3</td>\n",
       "    </tr>\n",
       "    <tr>\n",
       "      <th>9</th>\n",
       "      <td>10</td>\n",
       "      <td>2</td>\n",
       "    </tr>\n",
       "    <tr>\n",
       "      <th>10</th>\n",
       "      <td>12</td>\n",
       "      <td>3</td>\n",
       "    </tr>\n",
       "    <tr>\n",
       "      <th>11</th>\n",
       "      <td>13</td>\n",
       "      <td>1</td>\n",
       "    </tr>\n",
       "    <tr>\n",
       "      <th>12</th>\n",
       "      <td>14</td>\n",
       "      <td>1</td>\n",
       "    </tr>\n",
       "    <tr>\n",
       "      <th>13</th>\n",
       "      <td>16</td>\n",
       "      <td>2</td>\n",
       "    </tr>\n",
       "    <tr>\n",
       "      <th>14</th>\n",
       "      <td>21</td>\n",
       "      <td>2</td>\n",
       "    </tr>\n",
       "    <tr>\n",
       "      <th>15</th>\n",
       "      <td>22</td>\n",
       "      <td>1</td>\n",
       "    </tr>\n",
       "    <tr>\n",
       "      <th>16</th>\n",
       "      <td>27</td>\n",
       "      <td>1</td>\n",
       "    </tr>\n",
       "    <tr>\n",
       "      <th>17</th>\n",
       "      <td>38</td>\n",
       "      <td>1</td>\n",
       "    </tr>\n",
       "    <tr>\n",
       "      <th>18</th>\n",
       "      <td>41</td>\n",
       "      <td>1</td>\n",
       "    </tr>\n",
       "    <tr>\n",
       "      <th>19</th>\n",
       "      <td>281</td>\n",
       "      <td>1</td>\n",
       "    </tr>\n",
       "    <tr>\n",
       "      <th>20</th>\n",
       "      <td>381</td>\n",
       "      <td>1</td>\n",
       "    </tr>\n",
       "    <tr>\n",
       "      <th>21</th>\n",
       "      <td>7479</td>\n",
       "      <td>1</td>\n",
       "    </tr>\n",
       "  </tbody>\n",
       "</table>\n",
       "</div>"
      ],
      "text/plain": [
       "    num_compromised  target\n",
       "0                 0  234954\n",
       "1                 1     366\n",
       "2                 2      46\n",
       "3                 3      27\n",
       "4                 4      20\n",
       "5                 5       5\n",
       "6                 6       7\n",
       "7                 7       3\n",
       "8                 9       3\n",
       "9                10       2\n",
       "10               12       3\n",
       "11               13       1\n",
       "12               14       1\n",
       "13               16       2\n",
       "14               21       2\n",
       "15               22       1\n",
       "16               27       1\n",
       "17               38       1\n",
       "18               41       1\n",
       "19              281       1\n",
       "20              381       1\n",
       "21             7479       1"
      ]
     },
     "execution_count": 15,
     "metadata": {},
     "output_type": "execute_result"
    }
   ],
   "source": [
    "df[[\"num_compromised\", \"target\"]].groupby(['num_compromised'], as_index=False).count().sort_values(by='num_compromised', ascending=True)\n"
   ]
  },
  {
   "cell_type": "markdown",
   "id": "50132378",
   "metadata": {},
   "source": [
    "Delete outlier \"7479\" in __num_compromised__ feature."
   ]
  },
  {
   "cell_type": "code",
   "execution_count": 16,
   "id": "7f28a4d8",
   "metadata": {},
   "outputs": [],
   "source": [
    "df = df[df['num_compromised'] != 7479] "
   ]
  },
  {
   "cell_type": "code",
   "execution_count": 17,
   "id": "473e63ef",
   "metadata": {},
   "outputs": [
    {
     "data": {
      "text/html": [
       "<div>\n",
       "<style scoped>\n",
       "    .dataframe tbody tr th:only-of-type {\n",
       "        vertical-align: middle;\n",
       "    }\n",
       "\n",
       "    .dataframe tbody tr th {\n",
       "        vertical-align: top;\n",
       "    }\n",
       "\n",
       "    .dataframe thead th {\n",
       "        text-align: right;\n",
       "    }\n",
       "</style>\n",
       "<table border=\"1\" class=\"dataframe\">\n",
       "  <thead>\n",
       "    <tr style=\"text-align: right;\">\n",
       "      <th></th>\n",
       "      <th>num_root</th>\n",
       "      <th>target</th>\n",
       "    </tr>\n",
       "  </thead>\n",
       "  <tbody>\n",
       "    <tr>\n",
       "      <th>0</th>\n",
       "      <td>0</td>\n",
       "      <td>234316</td>\n",
       "    </tr>\n",
       "    <tr>\n",
       "      <th>1</th>\n",
       "      <td>1</td>\n",
       "      <td>505</td>\n",
       "    </tr>\n",
       "    <tr>\n",
       "      <th>2</th>\n",
       "      <td>2</td>\n",
       "      <td>31</td>\n",
       "    </tr>\n",
       "    <tr>\n",
       "      <th>3</th>\n",
       "      <td>3</td>\n",
       "      <td>1</td>\n",
       "    </tr>\n",
       "    <tr>\n",
       "      <th>4</th>\n",
       "      <td>4</td>\n",
       "      <td>18</td>\n",
       "    </tr>\n",
       "    <tr>\n",
       "      <th>5</th>\n",
       "      <td>5</td>\n",
       "      <td>41</td>\n",
       "    </tr>\n",
       "    <tr>\n",
       "      <th>6</th>\n",
       "      <td>6</td>\n",
       "      <td>236</td>\n",
       "    </tr>\n",
       "    <tr>\n",
       "      <th>7</th>\n",
       "      <td>9</td>\n",
       "      <td>291</td>\n",
       "    </tr>\n",
       "    <tr>\n",
       "      <th>8</th>\n",
       "      <td>10</td>\n",
       "      <td>1</td>\n",
       "    </tr>\n",
       "    <tr>\n",
       "      <th>9</th>\n",
       "      <td>17</td>\n",
       "      <td>1</td>\n",
       "    </tr>\n",
       "    <tr>\n",
       "      <th>10</th>\n",
       "      <td>26</td>\n",
       "      <td>2</td>\n",
       "    </tr>\n",
       "    <tr>\n",
       "      <th>11</th>\n",
       "      <td>39</td>\n",
       "      <td>1</td>\n",
       "    </tr>\n",
       "    <tr>\n",
       "      <th>12</th>\n",
       "      <td>41</td>\n",
       "      <td>1</td>\n",
       "    </tr>\n",
       "    <tr>\n",
       "      <th>13</th>\n",
       "      <td>54</td>\n",
       "      <td>1</td>\n",
       "    </tr>\n",
       "    <tr>\n",
       "      <th>14</th>\n",
       "      <td>278</td>\n",
       "      <td>1</td>\n",
       "    </tr>\n",
       "    <tr>\n",
       "      <th>15</th>\n",
       "      <td>401</td>\n",
       "      <td>1</td>\n",
       "    </tr>\n",
       "  </tbody>\n",
       "</table>\n",
       "</div>"
      ],
      "text/plain": [
       "    num_root  target\n",
       "0          0  234316\n",
       "1          1     505\n",
       "2          2      31\n",
       "3          3       1\n",
       "4          4      18\n",
       "5          5      41\n",
       "6          6     236\n",
       "7          9     291\n",
       "8         10       1\n",
       "9         17       1\n",
       "10        26       2\n",
       "11        39       1\n",
       "12        41       1\n",
       "13        54       1\n",
       "14       278       1\n",
       "15       401       1"
      ]
     },
     "execution_count": 17,
     "metadata": {},
     "output_type": "execute_result"
    }
   ],
   "source": [
    "df[[\"num_root\", \"target\"]].groupby(['num_root'], as_index=False).count().sort_values(by='num_root', ascending=True)\n"
   ]
  },
  {
   "cell_type": "code",
   "execution_count": 18,
   "id": "b05f6500",
   "metadata": {},
   "outputs": [
    {
     "data": {
      "text/html": [
       "<div>\n",
       "<style scoped>\n",
       "    .dataframe tbody tr th:only-of-type {\n",
       "        vertical-align: middle;\n",
       "    }\n",
       "\n",
       "    .dataframe tbody tr th {\n",
       "        vertical-align: top;\n",
       "    }\n",
       "\n",
       "    .dataframe thead th {\n",
       "        text-align: right;\n",
       "    }\n",
       "</style>\n",
       "<table border=\"1\" class=\"dataframe\">\n",
       "  <thead>\n",
       "    <tr style=\"text-align: right;\">\n",
       "      <th></th>\n",
       "      <th>src_bytes</th>\n",
       "      <th>target</th>\n",
       "    </tr>\n",
       "  </thead>\n",
       "  <tbody>\n",
       "    <tr>\n",
       "      <th>0</th>\n",
       "      <td>0</td>\n",
       "      <td>32854</td>\n",
       "    </tr>\n",
       "    <tr>\n",
       "      <th>1</th>\n",
       "      <td>1</td>\n",
       "      <td>474</td>\n",
       "    </tr>\n",
       "    <tr>\n",
       "      <th>2</th>\n",
       "      <td>2</td>\n",
       "      <td>1</td>\n",
       "    </tr>\n",
       "    <tr>\n",
       "      <th>3</th>\n",
       "      <td>4</td>\n",
       "      <td>6</td>\n",
       "    </tr>\n",
       "    <tr>\n",
       "      <th>4</th>\n",
       "      <td>5</td>\n",
       "      <td>42</td>\n",
       "    </tr>\n",
       "    <tr>\n",
       "      <th>...</th>\n",
       "      <td>...</td>\n",
       "      <td>...</td>\n",
       "    </tr>\n",
       "    <tr>\n",
       "      <th>4410</th>\n",
       "      <td>7847476</td>\n",
       "      <td>1</td>\n",
       "    </tr>\n",
       "    <tr>\n",
       "      <th>4411</th>\n",
       "      <td>11396904</td>\n",
       "      <td>1</td>\n",
       "    </tr>\n",
       "    <tr>\n",
       "      <th>4412</th>\n",
       "      <td>14584085</td>\n",
       "      <td>1</td>\n",
       "    </tr>\n",
       "    <tr>\n",
       "      <th>4413</th>\n",
       "      <td>24418776</td>\n",
       "      <td>1</td>\n",
       "    </tr>\n",
       "    <tr>\n",
       "      <th>4414</th>\n",
       "      <td>217277339</td>\n",
       "      <td>1</td>\n",
       "    </tr>\n",
       "  </tbody>\n",
       "</table>\n",
       "<p>4415 rows × 2 columns</p>\n",
       "</div>"
      ],
      "text/plain": [
       "      src_bytes  target\n",
       "0             0   32854\n",
       "1             1     474\n",
       "2             2       1\n",
       "3             4       6\n",
       "4             5      42\n",
       "...         ...     ...\n",
       "4410    7847476       1\n",
       "4411   11396904       1\n",
       "4412   14584085       1\n",
       "4413   24418776       1\n",
       "4414  217277339       1\n",
       "\n",
       "[4415 rows x 2 columns]"
      ]
     },
     "execution_count": 18,
     "metadata": {},
     "output_type": "execute_result"
    }
   ],
   "source": [
    "df[[\"src_bytes\", \"target\"]].groupby(['src_bytes'], as_index=False).count().sort_values(by='src_bytes', ascending=True)\n"
   ]
  },
  {
   "cell_type": "markdown",
   "id": "d949ac38",
   "metadata": {},
   "source": [
    "Delete outlier \"217277339\" in __num_compromised__ feature."
   ]
  },
  {
   "cell_type": "code",
   "execution_count": 19,
   "id": "8c648798",
   "metadata": {},
   "outputs": [],
   "source": [
    "df = df[df['src_bytes'] != 217277339] "
   ]
  },
  {
   "cell_type": "code",
   "execution_count": 20,
   "id": "e6307299",
   "metadata": {},
   "outputs": [
    {
     "data": {
      "text/html": [
       "<div>\n",
       "<style scoped>\n",
       "    .dataframe tbody tr th:only-of-type {\n",
       "        vertical-align: middle;\n",
       "    }\n",
       "\n",
       "    .dataframe tbody tr th {\n",
       "        vertical-align: top;\n",
       "    }\n",
       "\n",
       "    .dataframe thead th {\n",
       "        text-align: right;\n",
       "    }\n",
       "</style>\n",
       "<table border=\"1\" class=\"dataframe\">\n",
       "  <thead>\n",
       "    <tr style=\"text-align: right;\">\n",
       "      <th></th>\n",
       "      <th>hot</th>\n",
       "      <th>target</th>\n",
       "    </tr>\n",
       "  </thead>\n",
       "  <tbody>\n",
       "    <tr>\n",
       "      <th>0</th>\n",
       "      <td>0</td>\n",
       "      <td>233081</td>\n",
       "    </tr>\n",
       "    <tr>\n",
       "      <th>1</th>\n",
       "      <td>1</td>\n",
       "      <td>371</td>\n",
       "    </tr>\n",
       "    <tr>\n",
       "      <th>2</th>\n",
       "      <td>2</td>\n",
       "      <td>864</td>\n",
       "    </tr>\n",
       "    <tr>\n",
       "      <th>3</th>\n",
       "      <td>3</td>\n",
       "      <td>32</td>\n",
       "    </tr>\n",
       "    <tr>\n",
       "      <th>4</th>\n",
       "      <td>4</td>\n",
       "      <td>234</td>\n",
       "    </tr>\n",
       "    <tr>\n",
       "      <th>5</th>\n",
       "      <td>5</td>\n",
       "      <td>86</td>\n",
       "    </tr>\n",
       "    <tr>\n",
       "      <th>6</th>\n",
       "      <td>6</td>\n",
       "      <td>195</td>\n",
       "    </tr>\n",
       "    <tr>\n",
       "      <th>7</th>\n",
       "      <td>7</td>\n",
       "      <td>16</td>\n",
       "    </tr>\n",
       "    <tr>\n",
       "      <th>8</th>\n",
       "      <td>9</td>\n",
       "      <td>3</td>\n",
       "    </tr>\n",
       "    <tr>\n",
       "      <th>9</th>\n",
       "      <td>10</td>\n",
       "      <td>1</td>\n",
       "    </tr>\n",
       "    <tr>\n",
       "      <th>10</th>\n",
       "      <td>11</td>\n",
       "      <td>1</td>\n",
       "    </tr>\n",
       "    <tr>\n",
       "      <th>11</th>\n",
       "      <td>12</td>\n",
       "      <td>2</td>\n",
       "    </tr>\n",
       "    <tr>\n",
       "      <th>12</th>\n",
       "      <td>13</td>\n",
       "      <td>1</td>\n",
       "    </tr>\n",
       "    <tr>\n",
       "      <th>13</th>\n",
       "      <td>14</td>\n",
       "      <td>58</td>\n",
       "    </tr>\n",
       "    <tr>\n",
       "      <th>14</th>\n",
       "      <td>15</td>\n",
       "      <td>4</td>\n",
       "    </tr>\n",
       "    <tr>\n",
       "      <th>15</th>\n",
       "      <td>16</td>\n",
       "      <td>1</td>\n",
       "    </tr>\n",
       "    <tr>\n",
       "      <th>16</th>\n",
       "      <td>17</td>\n",
       "      <td>1</td>\n",
       "    </tr>\n",
       "    <tr>\n",
       "      <th>17</th>\n",
       "      <td>18</td>\n",
       "      <td>67</td>\n",
       "    </tr>\n",
       "    <tr>\n",
       "      <th>18</th>\n",
       "      <td>19</td>\n",
       "      <td>51</td>\n",
       "    </tr>\n",
       "    <tr>\n",
       "      <th>19</th>\n",
       "      <td>20</td>\n",
       "      <td>11</td>\n",
       "    </tr>\n",
       "    <tr>\n",
       "      <th>20</th>\n",
       "      <td>21</td>\n",
       "      <td>3</td>\n",
       "    </tr>\n",
       "    <tr>\n",
       "      <th>21</th>\n",
       "      <td>22</td>\n",
       "      <td>43</td>\n",
       "    </tr>\n",
       "    <tr>\n",
       "      <th>22</th>\n",
       "      <td>24</td>\n",
       "      <td>49</td>\n",
       "    </tr>\n",
       "    <tr>\n",
       "      <th>23</th>\n",
       "      <td>25</td>\n",
       "      <td>1</td>\n",
       "    </tr>\n",
       "    <tr>\n",
       "      <th>24</th>\n",
       "      <td>28</td>\n",
       "      <td>220</td>\n",
       "    </tr>\n",
       "    <tr>\n",
       "      <th>25</th>\n",
       "      <td>30</td>\n",
       "      <td>49</td>\n",
       "    </tr>\n",
       "    <tr>\n",
       "      <th>26</th>\n",
       "      <td>33</td>\n",
       "      <td>1</td>\n",
       "    </tr>\n",
       "    <tr>\n",
       "      <th>27</th>\n",
       "      <td>101</td>\n",
       "      <td>1</td>\n",
       "    </tr>\n",
       "  </tbody>\n",
       "</table>\n",
       "</div>"
      ],
      "text/plain": [
       "    hot  target\n",
       "0     0  233081\n",
       "1     1     371\n",
       "2     2     864\n",
       "3     3      32\n",
       "4     4     234\n",
       "5     5      86\n",
       "6     6     195\n",
       "7     7      16\n",
       "8     9       3\n",
       "9    10       1\n",
       "10   11       1\n",
       "11   12       2\n",
       "12   13       1\n",
       "13   14      58\n",
       "14   15       4\n",
       "15   16       1\n",
       "16   17       1\n",
       "17   18      67\n",
       "18   19      51\n",
       "19   20      11\n",
       "20   21       3\n",
       "21   22      43\n",
       "22   24      49\n",
       "23   25       1\n",
       "24   28     220\n",
       "25   30      49\n",
       "26   33       1\n",
       "27  101       1"
      ]
     },
     "execution_count": 20,
     "metadata": {},
     "output_type": "execute_result"
    }
   ],
   "source": [
    "df[[\"hot\", \"target\"]].groupby(['hot'], as_index=False).count().sort_values(by='hot', ascending=True)\n"
   ]
  },
  {
   "cell_type": "markdown",
   "id": "4b3a10df",
   "metadata": {},
   "source": [
    "Delete outlier \"101\" in __hot__ feature."
   ]
  },
  {
   "cell_type": "code",
   "execution_count": 21,
   "id": "9a89f1f5",
   "metadata": {},
   "outputs": [],
   "source": [
    "df = df[df['hot'] != 101] "
   ]
  },
  {
   "cell_type": "code",
   "execution_count": 22,
   "id": "a9b80fbf",
   "metadata": {},
   "outputs": [
    {
     "data": {
      "text/html": [
       "<div>\n",
       "<style scoped>\n",
       "    .dataframe tbody tr th:only-of-type {\n",
       "        vertical-align: middle;\n",
       "    }\n",
       "\n",
       "    .dataframe tbody tr th {\n",
       "        vertical-align: top;\n",
       "    }\n",
       "\n",
       "    .dataframe thead th {\n",
       "        text-align: right;\n",
       "    }\n",
       "</style>\n",
       "<table border=\"1\" class=\"dataframe\">\n",
       "  <thead>\n",
       "    <tr style=\"text-align: right;\">\n",
       "      <th></th>\n",
       "      <th>num_root</th>\n",
       "      <th>target</th>\n",
       "    </tr>\n",
       "  </thead>\n",
       "  <tbody>\n",
       "    <tr>\n",
       "      <th>0</th>\n",
       "      <td>0</td>\n",
       "      <td>234314</td>\n",
       "    </tr>\n",
       "    <tr>\n",
       "      <th>1</th>\n",
       "      <td>1</td>\n",
       "      <td>505</td>\n",
       "    </tr>\n",
       "    <tr>\n",
       "      <th>2</th>\n",
       "      <td>2</td>\n",
       "      <td>31</td>\n",
       "    </tr>\n",
       "    <tr>\n",
       "      <th>3</th>\n",
       "      <td>3</td>\n",
       "      <td>1</td>\n",
       "    </tr>\n",
       "    <tr>\n",
       "      <th>4</th>\n",
       "      <td>4</td>\n",
       "      <td>18</td>\n",
       "    </tr>\n",
       "    <tr>\n",
       "      <th>5</th>\n",
       "      <td>5</td>\n",
       "      <td>41</td>\n",
       "    </tr>\n",
       "    <tr>\n",
       "      <th>6</th>\n",
       "      <td>6</td>\n",
       "      <td>236</td>\n",
       "    </tr>\n",
       "    <tr>\n",
       "      <th>7</th>\n",
       "      <td>9</td>\n",
       "      <td>291</td>\n",
       "    </tr>\n",
       "    <tr>\n",
       "      <th>8</th>\n",
       "      <td>10</td>\n",
       "      <td>1</td>\n",
       "    </tr>\n",
       "    <tr>\n",
       "      <th>9</th>\n",
       "      <td>17</td>\n",
       "      <td>1</td>\n",
       "    </tr>\n",
       "    <tr>\n",
       "      <th>10</th>\n",
       "      <td>26</td>\n",
       "      <td>2</td>\n",
       "    </tr>\n",
       "    <tr>\n",
       "      <th>11</th>\n",
       "      <td>39</td>\n",
       "      <td>1</td>\n",
       "    </tr>\n",
       "    <tr>\n",
       "      <th>12</th>\n",
       "      <td>41</td>\n",
       "      <td>1</td>\n",
       "    </tr>\n",
       "    <tr>\n",
       "      <th>13</th>\n",
       "      <td>54</td>\n",
       "      <td>1</td>\n",
       "    </tr>\n",
       "    <tr>\n",
       "      <th>14</th>\n",
       "      <td>278</td>\n",
       "      <td>1</td>\n",
       "    </tr>\n",
       "    <tr>\n",
       "      <th>15</th>\n",
       "      <td>401</td>\n",
       "      <td>1</td>\n",
       "    </tr>\n",
       "  </tbody>\n",
       "</table>\n",
       "</div>"
      ],
      "text/plain": [
       "    num_root  target\n",
       "0          0  234314\n",
       "1          1     505\n",
       "2          2      31\n",
       "3          3       1\n",
       "4          4      18\n",
       "5          5      41\n",
       "6          6     236\n",
       "7          9     291\n",
       "8         10       1\n",
       "9         17       1\n",
       "10        26       2\n",
       "11        39       1\n",
       "12        41       1\n",
       "13        54       1\n",
       "14       278       1\n",
       "15       401       1"
      ]
     },
     "execution_count": 22,
     "metadata": {},
     "output_type": "execute_result"
    }
   ],
   "source": [
    "df[[\"num_root\", \"target\"]].groupby(['num_root'], as_index=False).count().sort_values(by='num_root', ascending=True)\n"
   ]
  },
  {
   "cell_type": "markdown",
   "id": "42fba66f",
   "metadata": {},
   "source": [
    "Delete outlier \"401\" in __num_root__ feature."
   ]
  },
  {
   "cell_type": "code",
   "execution_count": 23,
   "id": "44922a71",
   "metadata": {},
   "outputs": [],
   "source": [
    "df = df[df['num_root'] != 401] "
   ]
  },
  {
   "cell_type": "code",
   "execution_count": 24,
   "id": "cfd714cc",
   "metadata": {},
   "outputs": [
    {
     "data": {
      "text/html": [
       "<div>\n",
       "<style scoped>\n",
       "    .dataframe tbody tr th:only-of-type {\n",
       "        vertical-align: middle;\n",
       "    }\n",
       "\n",
       "    .dataframe tbody tr th {\n",
       "        vertical-align: top;\n",
       "    }\n",
       "\n",
       "    .dataframe thead th {\n",
       "        text-align: right;\n",
       "    }\n",
       "</style>\n",
       "<table border=\"1\" class=\"dataframe\">\n",
       "  <thead>\n",
       "    <tr style=\"text-align: right;\">\n",
       "      <th></th>\n",
       "      <th>num_outbound_cmds</th>\n",
       "      <th>target</th>\n",
       "    </tr>\n",
       "  </thead>\n",
       "  <tbody>\n",
       "    <tr>\n",
       "      <th>0</th>\n",
       "      <td>0</td>\n",
       "      <td>235445</td>\n",
       "    </tr>\n",
       "  </tbody>\n",
       "</table>\n",
       "</div>"
      ],
      "text/plain": [
       "   num_outbound_cmds  target\n",
       "0                  0  235445"
      ]
     },
     "execution_count": 24,
     "metadata": {},
     "output_type": "execute_result"
    }
   ],
   "source": [
    "df[[\"num_outbound_cmds\", \"target\"]].groupby(['num_outbound_cmds'], as_index=False).count().sort_values(by='num_outbound_cmds', ascending=True)\n"
   ]
  },
  {
   "cell_type": "code",
   "execution_count": 25,
   "id": "ece4a3a2",
   "metadata": {},
   "outputs": [],
   "source": [
    "# 'num_outbound_cmds' are redundant column so remove it from data.\n",
    "df.drop(['num_outbound_cmds'], axis=1, inplace=True)"
   ]
  },
  {
   "cell_type": "markdown",
   "id": "0f3dbe27",
   "metadata": {},
   "source": [
    "Here, we found that __num_outbound_cmds__ have only one unique value i.e., 0. This introduces redundancy, as a feature with only 1 value won't affect our model. We can remove it and reduce the size of the data and hence improve the training process."
   ]
  },
  {
   "cell_type": "code",
   "execution_count": 26,
   "id": "adb204d8",
   "metadata": {},
   "outputs": [
    {
     "data": {
      "text/html": [
       "<div>\n",
       "<style scoped>\n",
       "    .dataframe tbody tr th:only-of-type {\n",
       "        vertical-align: middle;\n",
       "    }\n",
       "\n",
       "    .dataframe tbody tr th {\n",
       "        vertical-align: top;\n",
       "    }\n",
       "\n",
       "    .dataframe thead th {\n",
       "        text-align: right;\n",
       "    }\n",
       "</style>\n",
       "<table border=\"1\" class=\"dataframe\">\n",
       "  <thead>\n",
       "    <tr style=\"text-align: right;\">\n",
       "      <th></th>\n",
       "      <th>count</th>\n",
       "      <th>target</th>\n",
       "    </tr>\n",
       "  </thead>\n",
       "  <tbody>\n",
       "    <tr>\n",
       "      <th>0</th>\n",
       "      <td>0</td>\n",
       "      <td>5</td>\n",
       "    </tr>\n",
       "    <tr>\n",
       "      <th>1</th>\n",
       "      <td>1</td>\n",
       "      <td>65613</td>\n",
       "    </tr>\n",
       "    <tr>\n",
       "      <th>2</th>\n",
       "      <td>2</td>\n",
       "      <td>20658</td>\n",
       "    </tr>\n",
       "    <tr>\n",
       "      <th>3</th>\n",
       "      <td>3</td>\n",
       "      <td>12967</td>\n",
       "    </tr>\n",
       "    <tr>\n",
       "      <th>4</th>\n",
       "      <td>4</td>\n",
       "      <td>11244</td>\n",
       "    </tr>\n",
       "    <tr>\n",
       "      <th>...</th>\n",
       "      <td>...</td>\n",
       "      <td>...</td>\n",
       "    </tr>\n",
       "    <tr>\n",
       "      <th>494</th>\n",
       "      <td>507</td>\n",
       "      <td>18</td>\n",
       "    </tr>\n",
       "    <tr>\n",
       "      <th>495</th>\n",
       "      <td>508</td>\n",
       "      <td>59</td>\n",
       "    </tr>\n",
       "    <tr>\n",
       "      <th>496</th>\n",
       "      <td>509</td>\n",
       "      <td>206</td>\n",
       "    </tr>\n",
       "    <tr>\n",
       "      <th>497</th>\n",
       "      <td>510</td>\n",
       "      <td>197</td>\n",
       "    </tr>\n",
       "    <tr>\n",
       "      <th>498</th>\n",
       "      <td>511</td>\n",
       "      <td>573</td>\n",
       "    </tr>\n",
       "  </tbody>\n",
       "</table>\n",
       "<p>499 rows × 2 columns</p>\n",
       "</div>"
      ],
      "text/plain": [
       "     count  target\n",
       "0        0       5\n",
       "1        1   65613\n",
       "2        2   20658\n",
       "3        3   12967\n",
       "4        4   11244\n",
       "..     ...     ...\n",
       "494    507      18\n",
       "495    508      59\n",
       "496    509     206\n",
       "497    510     197\n",
       "498    511     573\n",
       "\n",
       "[499 rows x 2 columns]"
      ]
     },
     "execution_count": 26,
     "metadata": {},
     "output_type": "execute_result"
    }
   ],
   "source": [
    "df[[\"count\", \"target\"]].groupby(['count'], as_index=False).count().sort_values(by='count', ascending=True)\n"
   ]
  },
  {
   "cell_type": "code",
   "execution_count": 27,
   "id": "ea431b34",
   "metadata": {},
   "outputs": [
    {
     "data": {
      "text/html": [
       "<div>\n",
       "<style scoped>\n",
       "    .dataframe tbody tr th:only-of-type {\n",
       "        vertical-align: middle;\n",
       "    }\n",
       "\n",
       "    .dataframe tbody tr th {\n",
       "        vertical-align: top;\n",
       "    }\n",
       "\n",
       "    .dataframe thead th {\n",
       "        text-align: right;\n",
       "    }\n",
       "</style>\n",
       "<table border=\"1\" class=\"dataframe\">\n",
       "  <thead>\n",
       "    <tr style=\"text-align: right;\">\n",
       "      <th></th>\n",
       "      <th>srv_count</th>\n",
       "      <th>target</th>\n",
       "    </tr>\n",
       "  </thead>\n",
       "  <tbody>\n",
       "    <tr>\n",
       "      <th>0</th>\n",
       "      <td>0</td>\n",
       "      <td>5</td>\n",
       "    </tr>\n",
       "    <tr>\n",
       "      <th>1</th>\n",
       "      <td>1</td>\n",
       "      <td>48151</td>\n",
       "    </tr>\n",
       "    <tr>\n",
       "      <th>2</th>\n",
       "      <td>2</td>\n",
       "      <td>26474</td>\n",
       "    </tr>\n",
       "    <tr>\n",
       "      <th>3</th>\n",
       "      <td>3</td>\n",
       "      <td>14450</td>\n",
       "    </tr>\n",
       "    <tr>\n",
       "      <th>4</th>\n",
       "      <td>4</td>\n",
       "      <td>11463</td>\n",
       "    </tr>\n",
       "    <tr>\n",
       "      <th>...</th>\n",
       "      <td>...</td>\n",
       "      <td>...</td>\n",
       "    </tr>\n",
       "    <tr>\n",
       "      <th>478</th>\n",
       "      <td>507</td>\n",
       "      <td>16</td>\n",
       "    </tr>\n",
       "    <tr>\n",
       "      <th>479</th>\n",
       "      <td>508</td>\n",
       "      <td>27</td>\n",
       "    </tr>\n",
       "    <tr>\n",
       "      <th>480</th>\n",
       "      <td>509</td>\n",
       "      <td>68</td>\n",
       "    </tr>\n",
       "    <tr>\n",
       "      <th>481</th>\n",
       "      <td>510</td>\n",
       "      <td>86</td>\n",
       "    </tr>\n",
       "    <tr>\n",
       "      <th>482</th>\n",
       "      <td>511</td>\n",
       "      <td>254</td>\n",
       "    </tr>\n",
       "  </tbody>\n",
       "</table>\n",
       "<p>483 rows × 2 columns</p>\n",
       "</div>"
      ],
      "text/plain": [
       "     srv_count  target\n",
       "0            0       5\n",
       "1            1   48151\n",
       "2            2   26474\n",
       "3            3   14450\n",
       "4            4   11463\n",
       "..         ...     ...\n",
       "478        507      16\n",
       "479        508      27\n",
       "480        509      68\n",
       "481        510      86\n",
       "482        511     254\n",
       "\n",
       "[483 rows x 2 columns]"
      ]
     },
     "execution_count": 27,
     "metadata": {},
     "output_type": "execute_result"
    }
   ],
   "source": [
    "df[[\"srv_count\", \"target\"]].groupby(['srv_count'], as_index=False).count().sort_values(by='srv_count', ascending=True)\n"
   ]
  },
  {
   "cell_type": "markdown",
   "id": "fff353db",
   "metadata": {},
   "source": [
    "## 1.2 Data Encoding & Data Normalization"
   ]
  },
  {
   "cell_type": "markdown",
   "id": "71b091ab",
   "metadata": {},
   "source": [
    "Encoding the catagorical data.\n",
    "\n",
    "- Data Encoding - Most of the models cannot process strings/objects. So the data needs to be transformed to numerical data. This process is known as data encoding(also data transformation)\n",
    "\n",
    "- Data Scaling and Normalization - Scaling or Normalisation is common preprocessing technique used in machine learning where the data is ususally normalised to a scale of 0 to 1."
   ]
  },
  {
   "cell_type": "code",
   "execution_count": 28,
   "id": "68b0848a",
   "metadata": {},
   "outputs": [],
   "source": [
    "# Custom Label Encoder for handling unknown values\n",
    "class LabelEncoderExt(object):\n",
    "    def __init__(self):\n",
    "        self.label_encoder = LabelEncoder()\n",
    "\n",
    "    def fit(self, data):\n",
    "        self.label_encoder = self.label_encoder.fit(list(data) + ['Unknown'])\n",
    "        self.classes_ = self.label_encoder.classes_\n",
    "        return self\n",
    "\n",
    "    def transform(self, data):\n",
    "        new_data = list(data)\n",
    "        for unique_item in np.unique(data):\n",
    "            if unique_item not in self.label_encoder.classes_:\n",
    "                new_data = ['Unknown' if x==unique_item else x for x in new_data]\n",
    "        return self.label_encoder.transform(new_data)"
   ]
  },
  {
   "cell_type": "code",
   "execution_count": 29,
   "id": "013fb2bb",
   "metadata": {},
   "outputs": [],
   "source": [
    "X, y = df.iloc[:, :-1], df['target']"
   ]
  },
  {
   "cell_type": "code",
   "execution_count": 30,
   "id": "eeb38747",
   "metadata": {},
   "outputs": [],
   "source": [
    "le = LabelEncoderExt()\n",
    "\n",
    "# encode the selected columns\n",
    "for col in X.select_dtypes(\"object\"):\n",
    "    le.fit(X[col])\n",
    "    X[col] = le.transform(X[col])\n"
   ]
  },
  {
   "cell_type": "markdown",
   "id": "521be261",
   "metadata": {},
   "source": [
    "Normalizing the numerical data."
   ]
  },
  {
   "cell_type": "code",
   "execution_count": 31,
   "id": "b7e926fa",
   "metadata": {},
   "outputs": [],
   "source": [
    "scaler = StandardScaler()\n",
    "# store the columns\n",
    "cols = X.columns\n",
    "\n",
    "# transform the data\n",
    "X_scaled = scaler.fit_transform(X)\n",
    "X_scaled = pd.DataFrame(X_scaled, columns = cols)"
   ]
  },
  {
   "cell_type": "code",
   "execution_count": 32,
   "id": "21eb3ff9",
   "metadata": {},
   "outputs": [],
   "source": [
    "new_df = X.join(y)\n",
    "#new_df.to_csv('data_cleaned.csv',index=False)"
   ]
  },
  {
   "cell_type": "markdown",
   "id": "92661db5",
   "metadata": {},
   "source": [
    "# *2 Feature Selection*\n",
    "\n",
    "Next, let's do the feature selection part. In this part, we gonna:\n",
    "\n",
    "- Removing redundant features or selecting the most \"useful\" features. We used recursive feature elimination for feature selection.\n",
    "- Ranking the features using different approaches.\n",
    "- Further process the data by RFE based on Random Forest."
   ]
  },
  {
   "cell_type": "markdown",
   "id": "6954f488",
   "metadata": {},
   "source": [
    "## 2.1 Heatmap"
   ]
  },
  {
   "cell_type": "code",
   "execution_count": 33,
   "id": "0f641aec",
   "metadata": {},
   "outputs": [
    {
     "data": {
      "text/plain": [
       "<AxesSubplot:>"
      ]
     },
     "execution_count": 33,
     "metadata": {},
     "output_type": "execute_result"
    },
    {
     "data": {
      "image/png": "[encoded data removed]",
      "text/plain": [
       "<Figure size 864x864 with 2 Axes>"
      ]
     },
     "metadata": {
      "needs_background": "light"
     },
     "output_type": "display_data"
    }
   ],
   "source": [
    "# draw correlation heatmap\n",
    "corr = new_df.select_dtypes(include = ['float64', 'int64']).iloc[:, 1:].corr()\n",
    "plt.figure(figsize=(12, 12))\n",
    "sns.heatmap(corr, vmax=1, square=True)"
   ]
  },
  {
   "cell_type": "markdown",
   "id": "ac306223",
   "metadata": {},
   "source": [
    "## 2.2 Sorting Correlation Table"
   ]
  },
  {
   "cell_type": "code",
   "execution_count": 34,
   "id": "8d579b16",
   "metadata": {},
   "outputs": [
    {
     "data": {
      "image/png": "[encoded data removed]",
      "text/plain": [
       "<Figure size 1080x1080 with 1 Axes>"
      ]
     },
     "metadata": {
      "needs_background": "light"
     },
     "output_type": "display_data"
    }
   ],
   "source": [
    "X, y = new_df.drop(['target'], axis=1), new_df['target']\n",
    "corr_mat = X.corr()\n",
    "sorted_pairs = corr_mat.unstack().sort_values(kind=\"quicksort\")\n",
    "strong_corr = sorted_pairs[abs(sorted_pairs) > 0.8]\n",
    "strong_corr.plot(kind=\"barh\", figsize=(15, 15))\n",
    "plt.show()"
   ]
  },
  {
   "cell_type": "markdown",
   "id": "9479e6bb",
   "metadata": {},
   "source": [
    "From the above bar graph, we can see there are so many difference pairs features with strong correlations, it is not easy to handle these pairs of features one by one using PCA. which is also not a efficient way to get important features. Then we are trying to implement some feature selections techniques to find the most important features. "
   ]
  },
  {
   "cell_type": "markdown",
   "id": "55ee8e1e",
   "metadata": {},
   "source": [
    "## 2.3 Feature Seletion Using Random Forest"
   ]
  },
  {
   "cell_type": "code",
   "execution_count": 35,
   "id": "a55dd2e4",
   "metadata": {},
   "outputs": [
    {
     "data": {
      "image/png": "[encoded data removed]",
      "text/plain": [
       "<Figure size 1296x1296 with 1 Axes>"
      ]
     },
     "metadata": {
      "needs_background": "light"
     },
     "output_type": "display_data"
    }
   ],
   "source": [
    "#X_train,y_train,X_test,y_test = train_test_split(X,y,test_size=0.3)\n",
    "features = X.columns\n",
    "rf = RandomForestClassifier(random_state=0) \n",
    "rf.fit(X,y)\n",
    "f_i = list(zip(features,rf.feature_importances_))\n",
    "f_i.sort(key = lambda x : x[1])\n",
    "plt.figure(figsize=(18, 18))\n",
    "plt.barh([x[0] for x in f_i],[x[1] for x in f_i])\n",
    "plt.show()"
   ]
  },
  {
   "cell_type": "markdown",
   "id": "0c8b7bea",
   "metadata": {},
   "source": [
    "\n",
    "## 2.4 Univariate Feature Selection"
   ]
  },
  {
   "cell_type": "code",
   "execution_count": 36,
   "id": "858945f0",
   "metadata": {},
   "outputs": [
    {
     "name": "stdout",
     "output_type": "stream",
     "text": [
      "                       Features         Score\n",
      "4                     src_bytes  7.694078e+08\n",
      "21                        count  2.153583e+07\n",
      "5                     dst_bytes  6.923755e+06\n",
      "31           dst_host_srv_count  4.248411e+06\n",
      "30               dst_host_count  1.590108e+06\n",
      "2                       service  1.927078e+05\n",
      "3                          flag  7.248479e+04\n",
      "37     dst_host_srv_serror_rate  6.821255e+04\n",
      "24              srv_serror_rate  6.718275e+04\n",
      "23                  serror_rate  6.696301e+04\n",
      "36         dst_host_serror_rate  6.585238e+04\n",
      "25                  rerror_rate  5.117645e+04\n",
      "26              srv_rerror_rate  5.045001e+04\n",
      "39     dst_host_srv_rerror_rate  5.002377e+04\n",
      "38         dst_host_rerror_rate  4.950722e+04\n",
      "22                    srv_count  4.811785e+04\n",
      "0                      duration  3.646377e+04\n",
      "11                    logged_in  1.900785e+04\n",
      "9                           hot  1.796482e+04\n",
      "27                same_srv_rate  1.570051e+04\n",
      "32       dst_host_same_srv_rate  1.568146e+04\n",
      "28                diff_srv_rate  5.575930e+03\n",
      "29           srv_diff_host_rate  2.875848e+03\n",
      "10            num_failed_logins  2.862495e+03\n",
      "33       dst_host_diff_srv_rate  2.492067e+03\n",
      "20               is_guest_login  1.777481e+03\n",
      "15                     num_root  4.798446e+02\n",
      "12              num_compromised  4.262267e+02\n",
      "1                 protocol_type  2.725887e+02\n",
      "7                wrong_fragment  1.787292e+02\n",
      "18             num_access_files  1.134409e+02\n",
      "16           num_file_creations  8.436109e+01\n",
      "6                          land  4.968600e+01\n",
      "8                        urgent  2.157943e+01\n",
      "35  dst_host_srv_diff_host_rate  1.798748e+01\n",
      "19                is_host_login  1.446987e+01\n",
      "13                   root_shell  2.358911e+00\n",
      "34  dst_host_same_src_port_rate  6.997551e-01\n",
      "14                 su_attempted  3.281300e-01\n",
      "17                   num_shells  2.603238e-01\n"
     ]
    }
   ],
   "source": [
    "from sklearn.feature_selection import SelectKBest, f_classif, chi2\n",
    "X, y = new_df.drop(['target'], axis=1), new_df['target']\n",
    "bestfeatures = SelectKBest(score_func=chi2, k=40)\n",
    "fit = bestfeatures.fit(X,y)\n",
    "dfscores = pd.DataFrame(fit.scores_)\n",
    "dfcolumns = pd.DataFrame(X.columns) \n",
    "featureScores = pd.concat([dfcolumns,dfscores],axis=1)\n",
    "featureScores.columns = ['Features','Score'] \n",
    "print(featureScores.nlargest(40,'Score'))"
   ]
  },
  {
   "cell_type": "markdown",
   "id": "237fbbee",
   "metadata": {},
   "source": [
    "## 2.5 Select the Best set of features according to RFE "
   ]
  },
  {
   "cell_type": "code",
   "execution_count": 41,
   "id": "ea0d3217",
   "metadata": {},
   "outputs": [
    {
     "data": {
      "text/html": [
       "<div>\n",
       "<style scoped>\n",
       "    .dataframe tbody tr th:only-of-type {\n",
       "        vertical-align: middle;\n",
       "    }\n",
       "\n",
       "    .dataframe tbody tr th {\n",
       "        vertical-align: top;\n",
       "    }\n",
       "\n",
       "    .dataframe thead th {\n",
       "        text-align: right;\n",
       "    }\n",
       "</style>\n",
       "<table border=\"1\" class=\"dataframe\">\n",
       "  <thead>\n",
       "    <tr style=\"text-align: right;\">\n",
       "      <th></th>\n",
       "      <th>feature</th>\n",
       "      <th>weight</th>\n",
       "    </tr>\n",
       "  </thead>\n",
       "  <tbody>\n",
       "    <tr>\n",
       "      <th>0</th>\n",
       "      <td>is_host_login</td>\n",
       "      <td>0.000000</td>\n",
       "    </tr>\n",
       "    <tr>\n",
       "      <th>1</th>\n",
       "      <td>su_attempted</td>\n",
       "      <td>0.000008</td>\n",
       "    </tr>\n",
       "    <tr>\n",
       "      <th>2</th>\n",
       "      <td>urgent</td>\n",
       "      <td>0.000022</td>\n",
       "    </tr>\n",
       "    <tr>\n",
       "      <th>3</th>\n",
       "      <td>land</td>\n",
       "      <td>0.000024</td>\n",
       "    </tr>\n",
       "    <tr>\n",
       "      <th>4</th>\n",
       "      <td>num_shells</td>\n",
       "      <td>0.000054</td>\n",
       "    </tr>\n",
       "    <tr>\n",
       "      <th>5</th>\n",
       "      <td>num_access_files</td>\n",
       "      <td>0.000057</td>\n",
       "    </tr>\n",
       "    <tr>\n",
       "      <th>6</th>\n",
       "      <td>root_shell</td>\n",
       "      <td>0.000067</td>\n",
       "    </tr>\n",
       "    <tr>\n",
       "      <th>7</th>\n",
       "      <td>num_file_creations</td>\n",
       "      <td>0.000102</td>\n",
       "    </tr>\n",
       "    <tr>\n",
       "      <th>8</th>\n",
       "      <td>num_root</td>\n",
       "      <td>0.000159</td>\n",
       "    </tr>\n",
       "    <tr>\n",
       "      <th>9</th>\n",
       "      <td>wrong_fragment</td>\n",
       "      <td>0.000292</td>\n",
       "    </tr>\n",
       "    <tr>\n",
       "      <th>10</th>\n",
       "      <td>srv_diff_host_rate</td>\n",
       "      <td>0.002272</td>\n",
       "    </tr>\n",
       "    <tr>\n",
       "      <th>11</th>\n",
       "      <td>num_compromised</td>\n",
       "      <td>0.002940</td>\n",
       "    </tr>\n",
       "    <tr>\n",
       "      <th>12</th>\n",
       "      <td>srv_rerror_rate</td>\n",
       "      <td>0.003840</td>\n",
       "    </tr>\n",
       "    <tr>\n",
       "      <th>13</th>\n",
       "      <td>is_guest_login</td>\n",
       "      <td>0.005918</td>\n",
       "    </tr>\n",
       "    <tr>\n",
       "      <th>14</th>\n",
       "      <td>rerror_rate</td>\n",
       "      <td>0.007205</td>\n",
       "    </tr>\n",
       "    <tr>\n",
       "      <th>15</th>\n",
       "      <td>num_failed_logins</td>\n",
       "      <td>0.007896</td>\n",
       "    </tr>\n",
       "    <tr>\n",
       "      <th>16</th>\n",
       "      <td>dst_host_rerror_rate</td>\n",
       "      <td>0.009045</td>\n",
       "    </tr>\n",
       "    <tr>\n",
       "      <th>17</th>\n",
       "      <td>srv_count</td>\n",
       "      <td>0.009252</td>\n",
       "    </tr>\n",
       "    <tr>\n",
       "      <th>18</th>\n",
       "      <td>duration</td>\n",
       "      <td>0.011267</td>\n",
       "    </tr>\n",
       "    <tr>\n",
       "      <th>19</th>\n",
       "      <td>serror_rate</td>\n",
       "      <td>0.011325</td>\n",
       "    </tr>\n",
       "    <tr>\n",
       "      <th>20</th>\n",
       "      <td>srv_serror_rate</td>\n",
       "      <td>0.011633</td>\n",
       "    </tr>\n",
       "    <tr>\n",
       "      <th>21</th>\n",
       "      <td>hot</td>\n",
       "      <td>0.012179</td>\n",
       "    </tr>\n",
       "    <tr>\n",
       "      <th>22</th>\n",
       "      <td>logged_in</td>\n",
       "      <td>0.014062</td>\n",
       "    </tr>\n",
       "    <tr>\n",
       "      <th>23</th>\n",
       "      <td>dst_host_srv_serror_rate</td>\n",
       "      <td>0.016165</td>\n",
       "    </tr>\n",
       "    <tr>\n",
       "      <th>24</th>\n",
       "      <td>dst_host_srv_diff_host_rate</td>\n",
       "      <td>0.016621</td>\n",
       "    </tr>\n",
       "    <tr>\n",
       "      <th>25</th>\n",
       "      <td>protocol_type</td>\n",
       "      <td>0.017481</td>\n",
       "    </tr>\n",
       "    <tr>\n",
       "      <th>26</th>\n",
       "      <td>dst_host_count</td>\n",
       "      <td>0.019035</td>\n",
       "    </tr>\n",
       "    <tr>\n",
       "      <th>27</th>\n",
       "      <td>dst_host_diff_srv_rate</td>\n",
       "      <td>0.020853</td>\n",
       "    </tr>\n",
       "    <tr>\n",
       "      <th>28</th>\n",
       "      <td>dst_host_serror_rate</td>\n",
       "      <td>0.020858</td>\n",
       "    </tr>\n",
       "    <tr>\n",
       "      <th>29</th>\n",
       "      <td>dst_host_srv_rerror_rate</td>\n",
       "      <td>0.026304</td>\n",
       "    </tr>\n",
       "    <tr>\n",
       "      <th>30</th>\n",
       "      <td>service</td>\n",
       "      <td>0.027953</td>\n",
       "    </tr>\n",
       "    <tr>\n",
       "      <th>31</th>\n",
       "      <td>dst_host_same_src_port_rate</td>\n",
       "      <td>0.033575</td>\n",
       "    </tr>\n",
       "    <tr>\n",
       "      <th>32</th>\n",
       "      <td>dst_host_srv_count</td>\n",
       "      <td>0.047176</td>\n",
       "    </tr>\n",
       "    <tr>\n",
       "      <th>33</th>\n",
       "      <td>dst_host_same_srv_rate</td>\n",
       "      <td>0.054205</td>\n",
       "    </tr>\n",
       "    <tr>\n",
       "      <th>34</th>\n",
       "      <td>dst_bytes</td>\n",
       "      <td>0.059006</td>\n",
       "    </tr>\n",
       "    <tr>\n",
       "      <th>35</th>\n",
       "      <td>flag</td>\n",
       "      <td>0.060716</td>\n",
       "    </tr>\n",
       "    <tr>\n",
       "      <th>36</th>\n",
       "      <td>diff_srv_rate</td>\n",
       "      <td>0.083487</td>\n",
       "    </tr>\n",
       "    <tr>\n",
       "      <th>37</th>\n",
       "      <td>src_bytes</td>\n",
       "      <td>0.090677</td>\n",
       "    </tr>\n",
       "    <tr>\n",
       "      <th>38</th>\n",
       "      <td>same_srv_rate</td>\n",
       "      <td>0.128394</td>\n",
       "    </tr>\n",
       "    <tr>\n",
       "      <th>39</th>\n",
       "      <td>count</td>\n",
       "      <td>0.167877</td>\n",
       "    </tr>\n",
       "  </tbody>\n",
       "</table>\n",
       "</div>"
      ],
      "text/plain": [
       "                        feature    weight\n",
       "0                 is_host_login  0.000000\n",
       "1                  su_attempted  0.000008\n",
       "2                        urgent  0.000022\n",
       "3                          land  0.000024\n",
       "4                    num_shells  0.000054\n",
       "5              num_access_files  0.000057\n",
       "6                    root_shell  0.000067\n",
       "7            num_file_creations  0.000102\n",
       "8                      num_root  0.000159\n",
       "9                wrong_fragment  0.000292\n",
       "10           srv_diff_host_rate  0.002272\n",
       "11              num_compromised  0.002940\n",
       "12              srv_rerror_rate  0.003840\n",
       "13               is_guest_login  0.005918\n",
       "14                  rerror_rate  0.007205\n",
       "15            num_failed_logins  0.007896\n",
       "16         dst_host_rerror_rate  0.009045\n",
       "17                    srv_count  0.009252\n",
       "18                     duration  0.011267\n",
       "19                  serror_rate  0.011325\n",
       "20              srv_serror_rate  0.011633\n",
       "21                          hot  0.012179\n",
       "22                    logged_in  0.014062\n",
       "23     dst_host_srv_serror_rate  0.016165\n",
       "24  dst_host_srv_diff_host_rate  0.016621\n",
       "25                protocol_type  0.017481\n",
       "26               dst_host_count  0.019035\n",
       "27       dst_host_diff_srv_rate  0.020853\n",
       "28         dst_host_serror_rate  0.020858\n",
       "29     dst_host_srv_rerror_rate  0.026304\n",
       "30                      service  0.027953\n",
       "31  dst_host_same_src_port_rate  0.033575\n",
       "32           dst_host_srv_count  0.047176\n",
       "33       dst_host_same_srv_rate  0.054205\n",
       "34                    dst_bytes  0.059006\n",
       "35                         flag  0.060716\n",
       "36                diff_srv_rate  0.083487\n",
       "37                    src_bytes  0.090677\n",
       "38                same_srv_rate  0.128394\n",
       "39                        count  0.167877"
      ]
     },
     "execution_count": 41,
     "metadata": {},
     "output_type": "execute_result"
    }
   ],
   "source": [
    "X_train, X_test, y_train, y_test = train_test_split(\n",
    "    X, y, test_size=0.3, random_state=0\n",
    ")\n",
    "\n",
    "## Standardize the data\n",
    "X_train_std = StandardScaler().fit_transform(X_train)\n",
    "X_test_std = StandardScaler().fit_transform(X_test)\n",
    "\n",
    "## Fix dimensionality issue\n",
    "y_train = y_train.values.reshape(-1, 1)\n",
    "y_test = y_test.values.reshape(-1, 1)\n",
    "\n",
    "forest = RandomForestClassifier()\n",
    "_ = forest.fit(X_train_std, y_train)\n",
    "forest.score(X_test_std, y_test)\n",
    "\n",
    "pd.DataFrame(\n",
    "    zip(X_train.columns, abs(forest.feature_importances_)),\n",
    "    columns=[\"feature\", \"weight\"],\n",
    ").sort_values(\"weight\").reset_index(drop=True)\n"
   ]
  },
  {
   "cell_type": "markdown",
   "id": "b281739b",
   "metadata": {},
   "source": [
    "Removing features with close to 0 weights, see from the above there are many features close to 0. "
   ]
  },
  {
   "cell_type": "code",
   "execution_count": 38,
   "id": "48b82de0",
   "metadata": {},
   "outputs": [
    {
     "name": "stdout",
     "output_type": "stream",
     "text": [
      "Index(['service', 'flag', 'src_bytes', 'dst_bytes', 'count', 'same_srv_rate',\n",
      "       'diff_srv_rate', 'dst_host_srv_count', 'dst_host_same_srv_rate',\n",
      "       'dst_host_diff_srv_rate'],\n",
      "      dtype='object')\n"
     ]
    }
   ],
   "source": [
    "rfe = RFE(estimator=RandomForestClassifier(), \n",
    "          n_features_to_select=10, step=10)\n",
    "_ = rfe.fit(X_train_std, y_train)\n",
    "\n",
    "print(X_train.columns[rfe.support_])\n"
   ]
  },
  {
   "cell_type": "code",
   "execution_count": 53,
   "id": "462f9cdd",
   "metadata": {},
   "outputs": [],
   "source": [
    "selected = ['service', 'flag', 'src_bytes', 'dst_bytes', 'count', 'same_srv_rate', 'diff_srv_rate', 'dst_host_srv_count', 'dst_host_srv_serror_rate', 'dst_host_diff_srv_rate']"
   ]
  },
  {
   "cell_type": "code",
   "execution_count": 54,
   "id": "173ecfbc",
   "metadata": {},
   "outputs": [],
   "source": [
    "scaler = StandardScaler()\n",
    "# store the columns\n",
    "cols = X.columns\n",
    "\n",
    "# transform the data\n",
    "X_scaled = scaler.fit_transform(X)\n",
    "X_scaled = pd.DataFrame(X_scaled, columns = cols)"
   ]
  },
  {
   "cell_type": "code",
   "execution_count": 55,
   "id": "12e292d5",
   "metadata": {},
   "outputs": [],
   "source": [
    "df_scaled = X_scaled.join(y, how = 'outer')\n",
    "df_scaled.to_csv('data_scaled.csv',index=False)\n",
    "cle_fea = df_scaled[selected]\n",
    "cle_df = cle_fea.join(y, how='outer')\n",
    "cle_df.to_csv('data_scaled_wbset10.csv',index=False)"
   ]
  },
  {
   "cell_type": "code",
   "execution_count": 56,
   "id": "20f032b2",
   "metadata": {},
   "outputs": [
    {
     "name": "stdout",
     "output_type": "stream",
     "text": [
      "<class 'pandas.core.frame.DataFrame'>\n",
      "Int64Index: 235464 entries, 0 to 235463\n",
      "Data columns (total 11 columns):\n",
      " #   Column                    Non-Null Count   Dtype  \n",
      "---  ------                    --------------   -----  \n",
      " 0   service                   235445 non-null  float64\n",
      " 1   flag                      235445 non-null  float64\n",
      " 2   src_bytes                 235445 non-null  float64\n",
      " 3   dst_bytes                 235445 non-null  float64\n",
      " 4   count                     235445 non-null  float64\n",
      " 5   same_srv_rate             235445 non-null  float64\n",
      " 6   diff_srv_rate             235445 non-null  float64\n",
      " 7   dst_host_srv_count        235445 non-null  float64\n",
      " 8   dst_host_srv_serror_rate  235445 non-null  float64\n",
      " 9   dst_host_diff_srv_rate    235445 non-null  float64\n",
      " 10  target                    235445 non-null  float64\n",
      "dtypes: float64(11)\n",
      "memory usage: 21.6 MB\n"
     ]
    }
   ],
   "source": [
    "cle_df.info()"
   ]
  },
  {
   "cell_type": "code",
   "execution_count": 57,
   "id": "d9cefc45",
   "metadata": {},
   "outputs": [
    {
     "name": "stdout",
     "output_type": "stream",
     "text": [
      "<class 'pandas.core.frame.DataFrame'>\n",
      "Int64Index: 235464 entries, 0 to 235463\n",
      "Data columns (total 41 columns):\n",
      " #   Column                       Non-Null Count   Dtype  \n",
      "---  ------                       --------------   -----  \n",
      " 0   duration                     235445 non-null  float64\n",
      " 1   protocol_type                235445 non-null  float64\n",
      " 2   service                      235445 non-null  float64\n",
      " 3   flag                         235445 non-null  float64\n",
      " 4   src_bytes                    235445 non-null  float64\n",
      " 5   dst_bytes                    235445 non-null  float64\n",
      " 6   land                         235445 non-null  float64\n",
      " 7   wrong_fragment               235445 non-null  float64\n",
      " 8   urgent                       235445 non-null  float64\n",
      " 9   hot                          235445 non-null  float64\n",
      " 10  num_failed_logins            235445 non-null  float64\n",
      " 11  logged_in                    235445 non-null  float64\n",
      " 12  num_compromised              235445 non-null  float64\n",
      " 13  root_shell                   235445 non-null  float64\n",
      " 14  su_attempted                 235445 non-null  float64\n",
      " 15  num_root                     235445 non-null  float64\n",
      " 16  num_file_creations           235445 non-null  float64\n",
      " 17  num_shells                   235445 non-null  float64\n",
      " 18  num_access_files             235445 non-null  float64\n",
      " 19  is_host_login                235445 non-null  float64\n",
      " 20  is_guest_login               235445 non-null  float64\n",
      " 21  count                        235445 non-null  float64\n",
      " 22  srv_count                    235445 non-null  float64\n",
      " 23  serror_rate                  235445 non-null  float64\n",
      " 24  srv_serror_rate              235445 non-null  float64\n",
      " 25  rerror_rate                  235445 non-null  float64\n",
      " 26  srv_rerror_rate              235445 non-null  float64\n",
      " 27  same_srv_rate                235445 non-null  float64\n",
      " 28  diff_srv_rate                235445 non-null  float64\n",
      " 29  srv_diff_host_rate           235445 non-null  float64\n",
      " 30  dst_host_count               235445 non-null  float64\n",
      " 31  dst_host_srv_count           235445 non-null  float64\n",
      " 32  dst_host_same_srv_rate       235445 non-null  float64\n",
      " 33  dst_host_diff_srv_rate       235445 non-null  float64\n",
      " 34  dst_host_same_src_port_rate  235445 non-null  float64\n",
      " 35  dst_host_srv_diff_host_rate  235445 non-null  float64\n",
      " 36  dst_host_serror_rate         235445 non-null  float64\n",
      " 37  dst_host_srv_serror_rate     235445 non-null  float64\n",
      " 38  dst_host_rerror_rate         235445 non-null  float64\n",
      " 39  dst_host_srv_rerror_rate     235445 non-null  float64\n",
      " 40  target                       235445 non-null  float64\n",
      "dtypes: float64(41)\n",
      "memory usage: 83.5 MB\n"
     ]
    }
   ],
   "source": [
    "df_scaled.info()"
   ]
  },
  {
   "cell_type": "code",
   "execution_count": null,
   "id": "8c37f572",
   "metadata": {},
   "outputs": [],
   "source": [
    "pd.c"
   ]
  }
 ],
 "metadata": {
  "kernelspec": {
   "display_name": "Python 3",
   "language": "python",
   "name": "python3"
  },
  "language_info": {
   "codemirror_mode": {
    "name": "ipython",
    "version": 3
   },
   "file_extension": ".py",
   "mimetype": "text/x-python",
   "name": "python",
   "nbconvert_exporter": "python",
   "pygments_lexer": "ipython3",
   "version": "3.8.8"
  }
 },
 "nbformat": 4,
 "nbformat_minor": 5
}
