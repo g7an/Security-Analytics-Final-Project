{
 "cells": [
  {
   "cell_type": "code",
   "execution_count": 95,
   "id": "aafd7886",
   "metadata": {},
   "outputs": [],
   "source": [
    "import pandas as pd\n",
    "import numpy as np\n",
    "import matplotlib.pyplot as plt\n",
    "from sklearn import metrics\n",
    "from sklearn.model_selection import train_test_split\n",
    "from sklearn.metrics import accuracy_score, recall_score, precision_score, ConfusionMatrixDisplay, confusion_matrix, roc_curve, auc, RocCurveDisplay, f1_score\n",
    "from sklearn.model_selection import cross_val_score\n",
    "from sklearn.model_selection import KFold, train_test_split, StratifiedKFold\n",
    "from sklearn.neighbors import NearestNeighbors\n",
    "from sklearn.mixture import GaussianMixture"
   ]
  },
  {
   "cell_type": "markdown",
   "id": "84a8dedf",
   "metadata": {},
   "source": [
    "## Pre-process data"
   ]
  },
  {
   "cell_type": "code",
   "execution_count": 148,
   "id": "69a4c746",
   "metadata": {},
   "outputs": [],
   "source": [
    "selected = ['service', 'flag', 'src_bytes', 'dst_bytes', 'count', 'same_srv_rate', 'diff_srv_rate', 'dst_host_srv_count', 'dst_host_srv_serror_rate', 'dst_host_diff_srv_rate', 'target']\n",
    "\n",
    "df = pd.read_csv('./data_filter.csv')\n",
    "df = df[selected]"
   ]
  },
  {
   "cell_type": "code",
   "execution_count": 149,
   "id": "b6c22503",
   "metadata": {},
   "outputs": [],
   "source": [
    "# Use normalizer to normalize the features\n",
    "from sklearn.preprocessing import normalize\n",
    "X, y = df.iloc[:, :-1], df['target']\n",
    "cols = X.columns\n",
    "X = normalize(X)\n",
    "X = pd.DataFrame(X, columns = cols)\n",
    "df = X.join(y)"
   ]
  },
  {
   "cell_type": "code",
   "execution_count": 68,
   "id": "194f15a5",
   "metadata": {},
   "outputs": [
    {
     "data": {
      "text/html": [
       "<div>\n",
       "<style scoped>\n",
       "    .dataframe tbody tr th:only-of-type {\n",
       "        vertical-align: middle;\n",
       "    }\n",
       "\n",
       "    .dataframe tbody tr th {\n",
       "        vertical-align: top;\n",
       "    }\n",
       "\n",
       "    .dataframe thead th {\n",
       "        text-align: right;\n",
       "    }\n",
       "</style>\n",
       "<table border=\"1\" class=\"dataframe\">\n",
       "  <thead>\n",
       "    <tr style=\"text-align: right;\">\n",
       "      <th></th>\n",
       "      <th>service</th>\n",
       "      <th>flag</th>\n",
       "      <th>src_bytes</th>\n",
       "      <th>dst_bytes</th>\n",
       "      <th>count</th>\n",
       "      <th>same_srv_rate</th>\n",
       "      <th>diff_srv_rate</th>\n",
       "      <th>dst_host_srv_count</th>\n",
       "      <th>dst_host_srv_serror_rate</th>\n",
       "      <th>dst_host_diff_srv_rate</th>\n",
       "      <th>target</th>\n",
       "    </tr>\n",
       "  </thead>\n",
       "  <tbody>\n",
       "    <tr>\n",
       "      <th>0</th>\n",
       "      <td>-0.434807</td>\n",
       "      <td>0.386113</td>\n",
       "      <td>-0.023566</td>\n",
       "      <td>-0.049237</td>\n",
       "      <td>-0.307080</td>\n",
       "      <td>0.359049</td>\n",
       "      <td>-0.202269</td>\n",
       "      <td>0.688918</td>\n",
       "      <td>-0.212926</td>\n",
       "      <td>-0.311749</td>\n",
       "      <td>0.0</td>\n",
       "    </tr>\n",
       "    <tr>\n",
       "      <th>1</th>\n",
       "      <td>1.110805</td>\n",
       "      <td>0.386113</td>\n",
       "      <td>-0.026030</td>\n",
       "      <td>-0.067749</td>\n",
       "      <td>-0.407043</td>\n",
       "      <td>0.359049</td>\n",
       "      <td>-0.202269</td>\n",
       "      <td>-1.808534</td>\n",
       "      <td>-0.212926</td>\n",
       "      <td>-0.173471</td>\n",
       "      <td>0.0</td>\n",
       "    </tr>\n",
       "    <tr>\n",
       "      <th>2</th>\n",
       "      <td>-0.434807</td>\n",
       "      <td>0.386113</td>\n",
       "      <td>-0.023256</td>\n",
       "      <td>-0.028864</td>\n",
       "      <td>-0.335641</td>\n",
       "      <td>0.359049</td>\n",
       "      <td>-0.202269</td>\n",
       "      <td>0.688918</td>\n",
       "      <td>-0.212926</td>\n",
       "      <td>-0.311749</td>\n",
       "      <td>0.0</td>\n",
       "    </tr>\n",
       "    <tr>\n",
       "      <th>3</th>\n",
       "      <td>-0.434807</td>\n",
       "      <td>0.386113</td>\n",
       "      <td>-0.024449</td>\n",
       "      <td>-0.034560</td>\n",
       "      <td>-0.149995</td>\n",
       "      <td>0.359049</td>\n",
       "      <td>-0.202269</td>\n",
       "      <td>0.688918</td>\n",
       "      <td>-0.212926</td>\n",
       "      <td>-0.311749</td>\n",
       "      <td>0.0</td>\n",
       "    </tr>\n",
       "    <tr>\n",
       "      <th>4</th>\n",
       "      <td>-0.434807</td>\n",
       "      <td>0.386113</td>\n",
       "      <td>-0.024459</td>\n",
       "      <td>-0.061142</td>\n",
       "      <td>-0.278519</td>\n",
       "      <td>0.359049</td>\n",
       "      <td>-0.202269</td>\n",
       "      <td>0.688918</td>\n",
       "      <td>-0.212926</td>\n",
       "      <td>-0.311749</td>\n",
       "      <td>0.0</td>\n",
       "    </tr>\n",
       "  </tbody>\n",
       "</table>\n",
       "</div>"
      ],
      "text/plain": [
       "    service      flag  src_bytes  dst_bytes     count  same_srv_rate  \\\n",
       "0 -0.434807  0.386113  -0.023566  -0.049237 -0.307080       0.359049   \n",
       "1  1.110805  0.386113  -0.026030  -0.067749 -0.407043       0.359049   \n",
       "2 -0.434807  0.386113  -0.023256  -0.028864 -0.335641       0.359049   \n",
       "3 -0.434807  0.386113  -0.024449  -0.034560 -0.149995       0.359049   \n",
       "4 -0.434807  0.386113  -0.024459  -0.061142 -0.278519       0.359049   \n",
       "\n",
       "   diff_srv_rate  dst_host_srv_count  dst_host_srv_serror_rate  \\\n",
       "0      -0.202269            0.688918                 -0.212926   \n",
       "1      -0.202269           -1.808534                 -0.212926   \n",
       "2      -0.202269            0.688918                 -0.212926   \n",
       "3      -0.202269            0.688918                 -0.212926   \n",
       "4      -0.202269            0.688918                 -0.212926   \n",
       "\n",
       "   dst_host_diff_srv_rate  target  \n",
       "0               -0.311749     0.0  \n",
       "1               -0.173471     0.0  \n",
       "2               -0.311749     0.0  \n",
       "3               -0.311749     0.0  \n",
       "4               -0.311749     0.0  "
      ]
     },
     "execution_count": 68,
     "metadata": {},
     "output_type": "execute_result"
    }
   ],
   "source": [
    "# df = pd.read_csv('./data_scaled_wbset10.csv')\n",
    "\n",
    "# df.head()"
   ]
  },
  {
   "cell_type": "code",
   "execution_count": 70,
   "id": "7c73b38d",
   "metadata": {},
   "outputs": [
    {
     "data": {
      "text/html": [
       "<div>\n",
       "<style scoped>\n",
       "    .dataframe tbody tr th:only-of-type {\n",
       "        vertical-align: middle;\n",
       "    }\n",
       "\n",
       "    .dataframe tbody tr th {\n",
       "        vertical-align: top;\n",
       "    }\n",
       "\n",
       "    .dataframe thead th {\n",
       "        text-align: right;\n",
       "    }\n",
       "</style>\n",
       "<table border=\"1\" class=\"dataframe\">\n",
       "  <thead>\n",
       "    <tr style=\"text-align: right;\">\n",
       "      <th></th>\n",
       "      <th>service</th>\n",
       "      <th>flag</th>\n",
       "      <th>src_bytes</th>\n",
       "      <th>dst_bytes</th>\n",
       "      <th>count</th>\n",
       "      <th>same_srv_rate</th>\n",
       "      <th>diff_srv_rate</th>\n",
       "      <th>dst_host_srv_count</th>\n",
       "      <th>dst_host_srv_serror_rate</th>\n",
       "      <th>dst_host_diff_srv_rate</th>\n",
       "      <th>target</th>\n",
       "    </tr>\n",
       "  </thead>\n",
       "  <tbody>\n",
       "    <tr>\n",
       "      <th>count</th>\n",
       "      <td>235445.000000</td>\n",
       "      <td>235445.000000</td>\n",
       "      <td>235445.000000</td>\n",
       "      <td>235445.000000</td>\n",
       "      <td>235445.000000</td>\n",
       "      <td>235445.000000</td>\n",
       "      <td>235445.000000</td>\n",
       "      <td>235445.000000</td>\n",
       "      <td>235445.000000</td>\n",
       "      <td>235445.000000</td>\n",
       "      <td>235445.000000</td>\n",
       "    </tr>\n",
       "    <tr>\n",
       "      <th>mean</th>\n",
       "      <td>0.071348</td>\n",
       "      <td>0.015751</td>\n",
       "      <td>0.309399</td>\n",
       "      <td>0.619847</td>\n",
       "      <td>0.109832</td>\n",
       "      <td>0.001831</td>\n",
       "      <td>0.000147</td>\n",
       "      <td>0.242860</td>\n",
       "      <td>0.000258</td>\n",
       "      <td>0.000262</td>\n",
       "      <td>0.121434</td>\n",
       "    </tr>\n",
       "    <tr>\n",
       "      <th>std</th>\n",
       "      <td>0.118820</td>\n",
       "      <td>0.029258</td>\n",
       "      <td>0.330254</td>\n",
       "      <td>0.401061</td>\n",
       "      <td>0.286767</td>\n",
       "      <td>0.003944</td>\n",
       "      <td>0.001319</td>\n",
       "      <td>0.276639</td>\n",
       "      <td>0.001429</td>\n",
       "      <td>0.001639</td>\n",
       "      <td>0.326632</td>\n",
       "    </tr>\n",
       "    <tr>\n",
       "      <th>min</th>\n",
       "      <td>0.000000</td>\n",
       "      <td>0.000000</td>\n",
       "      <td>0.000000</td>\n",
       "      <td>0.000000</td>\n",
       "      <td>0.000000</td>\n",
       "      <td>0.000000</td>\n",
       "      <td>0.000000</td>\n",
       "      <td>0.000000</td>\n",
       "      <td>0.000000</td>\n",
       "      <td>0.000000</td>\n",
       "      <td>0.000000</td>\n",
       "    </tr>\n",
       "    <tr>\n",
       "      <th>25%</th>\n",
       "      <td>0.009058</td>\n",
       "      <td>0.003370</td>\n",
       "      <td>0.036919</td>\n",
       "      <td>0.192810</td>\n",
       "      <td>0.001166</td>\n",
       "      <td>0.000274</td>\n",
       "      <td>0.000000</td>\n",
       "      <td>0.043423</td>\n",
       "      <td>0.000000</td>\n",
       "      <td>0.000000</td>\n",
       "      <td>0.000000</td>\n",
       "    </tr>\n",
       "    <tr>\n",
       "      <th>50%</th>\n",
       "      <td>0.029068</td>\n",
       "      <td>0.007121</td>\n",
       "      <td>0.166901</td>\n",
       "      <td>0.808332</td>\n",
       "      <td>0.004606</td>\n",
       "      <td>0.000746</td>\n",
       "      <td>0.000000</td>\n",
       "      <td>0.124025</td>\n",
       "      <td>0.000000</td>\n",
       "      <td>0.000000</td>\n",
       "      <td>0.000000</td>\n",
       "    </tr>\n",
       "    <tr>\n",
       "      <th>75%</th>\n",
       "      <td>0.057431</td>\n",
       "      <td>0.017376</td>\n",
       "      <td>0.498051</td>\n",
       "      <td>0.987501</td>\n",
       "      <td>0.018201</td>\n",
       "      <td>0.001890</td>\n",
       "      <td>0.000000</td>\n",
       "      <td>0.358505</td>\n",
       "      <td>0.000000</td>\n",
       "      <td>0.000035</td>\n",
       "      <td>0.000000</td>\n",
       "    </tr>\n",
       "    <tr>\n",
       "      <th>max</th>\n",
       "      <td>0.999427</td>\n",
       "      <td>0.601248</td>\n",
       "      <td>1.000000</td>\n",
       "      <td>1.000000</td>\n",
       "      <td>0.999862</td>\n",
       "      <td>0.218218</td>\n",
       "      <td>0.240772</td>\n",
       "      <td>0.997373</td>\n",
       "      <td>0.081650</td>\n",
       "      <td>0.240772</td>\n",
       "      <td>1.000000</td>\n",
       "    </tr>\n",
       "  </tbody>\n",
       "</table>\n",
       "</div>"
      ],
      "text/plain": [
       "             service           flag      src_bytes      dst_bytes  \\\n",
       "count  235445.000000  235445.000000  235445.000000  235445.000000   \n",
       "mean        0.071348       0.015751       0.309399       0.619847   \n",
       "std         0.118820       0.029258       0.330254       0.401061   \n",
       "min         0.000000       0.000000       0.000000       0.000000   \n",
       "25%         0.009058       0.003370       0.036919       0.192810   \n",
       "50%         0.029068       0.007121       0.166901       0.808332   \n",
       "75%         0.057431       0.017376       0.498051       0.987501   \n",
       "max         0.999427       0.601248       1.000000       1.000000   \n",
       "\n",
       "               count  same_srv_rate  diff_srv_rate  dst_host_srv_count  \\\n",
       "count  235445.000000  235445.000000  235445.000000       235445.000000   \n",
       "mean        0.109832       0.001831       0.000147            0.242860   \n",
       "std         0.286767       0.003944       0.001319            0.276639   \n",
       "min         0.000000       0.000000       0.000000            0.000000   \n",
       "25%         0.001166       0.000274       0.000000            0.043423   \n",
       "50%         0.004606       0.000746       0.000000            0.124025   \n",
       "75%         0.018201       0.001890       0.000000            0.358505   \n",
       "max         0.999862       0.218218       0.240772            0.997373   \n",
       "\n",
       "       dst_host_srv_serror_rate  dst_host_diff_srv_rate         target  \n",
       "count             235445.000000           235445.000000  235445.000000  \n",
       "mean                   0.000258                0.000262       0.121434  \n",
       "std                    0.001429                0.001639       0.326632  \n",
       "min                    0.000000                0.000000       0.000000  \n",
       "25%                    0.000000                0.000000       0.000000  \n",
       "50%                    0.000000                0.000000       0.000000  \n",
       "75%                    0.000000                0.000035       0.000000  \n",
       "max                    0.081650                0.240772       1.000000  "
      ]
     },
     "execution_count": 70,
     "metadata": {},
     "output_type": "execute_result"
    }
   ],
   "source": [
    "# df.drop(['protocol_type', 'service', 'flag'],axis=1)\n",
    "df.describe()"
   ]
  },
  {
   "cell_type": "code",
   "execution_count": 71,
   "id": "378dfcae",
   "metadata": {},
   "outputs": [
    {
     "name": "stdout",
     "output_type": "stream",
     "text": [
      "0    206854\n",
      "1     28591\n",
      "Name: target, dtype: int64\n"
     ]
    }
   ],
   "source": [
    "print(df['target'].value_counts())"
   ]
  },
  {
   "cell_type": "markdown",
   "id": "ebb4d3c4",
   "metadata": {},
   "source": [
    "## Split data \n",
    "In this part, we are trying to conduct novelty detection, which is a kind of anomaly detection: https://scikit-learn.org/stable/modules/outlier_detection.html#outlier-detection\n",
    "Use normal data as the training data, and abnormal data + normal data as the testing data"
   ]
  },
  {
   "cell_type": "code",
   "execution_count": 142,
   "id": "117e4905",
   "metadata": {},
   "outputs": [],
   "source": [
    "# get normal and abnormal data in df\n",
    "y_normal = df[df['target'] == 0]['target']\n",
    "X_normal = df[df['target'] == 0].drop(['target'], axis=1, inplace=False)\n",
    "\n",
    "y_attack = df[df['target'] == 1]['target']\n",
    "X_attack = df[df['target'] == 1].drop(['target'], axis=1, inplace=False)\n",
    "\n",
    "# 80% normal only data for training\n",
    "X_train, X_left_normal, y_train, y_left_normal = train_test_split(X_normal, y_normal, test_size=0.3, random_state=42)\n",
    "\n",
    "# 10% normal + 50% attack data for valid, 10% normal + 50% attack data for testing\n",
    "X_valid_normal, X_test_normal, y_valid_normal, y_test_normal = train_test_split(X_left_normal, y_left_normal, test_size=0.5)\n",
    "X_valid_attack, X_test_attack, y_valid_attack, y_test_attack = train_test_split(X_attack, y_attack, test_size=0.5)\n",
    "\n",
    "# # # prepare data for valid, testing\n",
    "X_valid = pd.concat([X_valid_normal, X_valid_attack])\n",
    "y_valid = pd.concat([y_valid_normal, y_valid_attack])\n",
    "\n",
    "X_test = pd.concat([X_test_normal, X_test_attack])\n",
    "y_test = pd.concat([y_test_normal, y_test_attack])"
   ]
  },
  {
   "cell_type": "code",
   "execution_count": 21,
   "id": "93f16e6a",
   "metadata": {},
   "outputs": [],
   "source": [
    "# split data into train and test\n",
    "# X_train = df[df['target'] == 0].drop(['target'], axis=1, inplace=False)\n",
    "# y_train = df[df['target'] == 0]['target']\n",
    "\n",
    "# X_test = test_df.drop(['target'], axis=1, inplace=False)\n",
    "# y_test = test_df['target']\n",
    "\n",
    "# # get normal and abnormal data in df\n",
    "# y = df[df['target'] == 0]['target']\n",
    "# X = df[df['target'] == 0].drop(['target'], axis=1, inplace=False)\n",
    "\n",
    "# y_outlier = df[df['target'] == 1]['target']\n",
    "# X_outlier = df[df['target'] == 1].drop(['target'], axis=1, inplace=False)\n",
    "\n",
    "# # split data into train and test\n",
    "# # 70% normal only data for training\n",
    "# X_train, X_test_normal, y_train, y_test_normal = train_test_split(X, y, test_size=0.3, random_state=42)\n",
    "\n",
    "# # 30% normal + 50% abnormal data for testing\n",
    "# _, X_test_ab, _, y_test_ab = train_test_split(X_outlier, y_outlier, test_size=0.5, random_state=42)\n",
    "\n",
    "# # # # prepare data for testing\n",
    "# X_test = pd.concat([X_test_normal, X_test_ab])\n",
    "# y_test = pd.concat([y_test_normal, y_test_ab])"
   ]
  },
  {
   "cell_type": "markdown",
   "id": "7a78a661",
   "metadata": {},
   "source": [
    "## Anomaly Detection (Nearest Neighbor)"
   ]
  },
  {
   "cell_type": "code",
   "execution_count": 119,
   "id": "31c361e6",
   "metadata": {},
   "outputs": [],
   "source": [
    "neigh = NearestNeighbors(n_neighbors=1)\n",
    "neigh.fit(X_train)\n",
    "distances, _ = neigh.kneighbors(X_valid)"
   ]
  },
  {
   "cell_type": "code",
   "execution_count": 124,
   "id": "3012ca96",
   "metadata": {},
   "outputs": [
    {
     "name": "stdout",
     "output_type": "stream",
     "text": [
      "label\n",
      "0.0    0.340635\n",
      "1.0    0.310188\n",
      "Name: distance, dtype: float64\n"
     ]
    }
   ],
   "source": [
    "distances_ = pd.Series([dist[0] for dist in distances])\n",
    "label_distances = pd.DataFrame({'label': y_valid, 'distance': distances_})\n",
    "max_dist = label_distances.groupby('label')['distance'].max()\n",
    "print(max_dist)"
   ]
  },
  {
   "cell_type": "code",
   "execution_count": 130,
   "id": "6b346065",
   "metadata": {},
   "outputs": [
    {
     "data": {
      "image/png": "[encoded data removed]",
      "text/plain": [
       "<Figure size 432x288 with 1 Axes>"
      ]
     },
     "metadata": {
      "needs_background": "light"
     },
     "output_type": "display_data"
    }
   ],
   "source": [
    "interval = (max_dist[1] - 0)/100\n",
    "thresholds = np.arange(0, max_dist[1], interval)\n",
    "\n",
    "FPR, TPR = [], []\n",
    "F1 = []\n",
    "pred_list = []\n",
    "\n",
    "for thres in thresholds:\n",
    "    pred = distances_.copy()\n",
    "    pred[pred>=thres] = 1\n",
    "    pred[pred<thres] = 0\n",
    "    tn, fp, fn, tp = confusion_matrix(y_valid, pred).ravel()\n",
    "    fpr = (fp)/(fp+tn)\n",
    "    tpr = (tp)/(tp+fn)\n",
    "    FPR.append(fpr)\n",
    "    TPR.append(tpr)\n",
    "#     print(f\"When threshold = {thres:.5f}, FPR: {fpr:.5f}  TPR: {tpr:.5f}\")\n",
    "    F1.append(f1_score(y_valid, pred))\n",
    "    pred_list.append(pred)\n",
    "\n",
    "FPR.append(0)\n",
    "TPR.append(0)\n",
    "roc_auc = auc(FPR, TPR)\n",
    "display = RocCurveDisplay(fpr=FPR, tpr=TPR, roc_auc=roc_auc, estimator_name='NearestNeighbors')\n",
    "display.plot()\n",
    "plt.show()"
   ]
  },
  {
   "cell_type": "code",
   "execution_count": 131,
   "id": "c868d887",
   "metadata": {},
   "outputs": [
    {
     "name": "stdout",
     "output_type": "stream",
     "text": [
      "The max f1 is: 0.9401522627943043\n",
      "The best threshold is: 0.012407532096433216\n"
     ]
    },
    {
     "data": {
      "image/png": "[encoded data removed]",
      "text/plain": [
       "<Figure size 432x288 with 1 Axes>"
      ]
     },
     "metadata": {
      "needs_background": "light"
     },
     "output_type": "display_data"
    }
   ],
   "source": [
    "f1_max = np.array(F1).max()\n",
    "print(f\"The max f1 is: {f1_max}\")\n",
    "best_thres = thresholds[np.array(F1).argmax()]\n",
    "print(f\"The best threshold is: {best_thres}\")\n",
    "plt.plot(thresholds, F1)\n",
    "plt.xlabel(\"Threshold\")\n",
    "plt.ylabel(\"Score\")\n",
    "plt.title(\"f1 score\")\n",
    "plt.show()"
   ]
  },
  {
   "cell_type": "code",
   "execution_count": 132,
   "id": "0f0413f5",
   "metadata": {},
   "outputs": [],
   "source": [
    "def print_metrics(model_name, y_test, y_pred):\n",
    "    print()\n",
    "    print(f\"============================== {model_name} Model Evaluation ==============================\")\n",
    "    print()\n",
    "    accuracy = metrics.accuracy_score(y_test, y_pred)\n",
    "    print (\"Model Accuracy:\" \"\\n\", accuracy)\n",
    "    print()\n",
    "    classification = metrics.classification_report(y_test, y_pred)\n",
    "    print(\"Classification report:\" \"\\n\", classification) \n",
    "    print()\n",
    "    \n",
    "    ConfusionMatrixDisplay.from_predictions(y_test, y_pred, labels=[0, 1], display_labels=['Normal', 'Abormal'])\n",
    "    # remove grid lines\n",
    "    plt.tick_params(axis=u'both', which=u'both',length=0)\n",
    "    plt.grid(visible=None)\n",
    "    plt.show()"
   ]
  },
  {
   "cell_type": "code",
   "execution_count": 133,
   "id": "2af26754",
   "metadata": {},
   "outputs": [
    {
     "name": "stdout",
     "output_type": "stream",
     "text": [
      "\n",
      "============================== NearestNeighbor Model Evaluation ==============================\n",
      "\n",
      "Model Accuracy:\n",
      " 0.9627137341423055\n",
      "\n",
      "Classification report:\n",
      "               precision    recall  f1-score   support\n",
      "\n",
      "           0       0.97      0.98      0.97     31029\n",
      "           1       0.95      0.93      0.94     14296\n",
      "\n",
      "    accuracy                           0.96     45325\n",
      "   macro avg       0.96      0.96      0.96     45325\n",
      "weighted avg       0.96      0.96      0.96     45325\n",
      "\n",
      "\n"
     ]
    },
    {
     "data": {
      "image/png": "[encoded data removed]",
      "text/plain": [
       "<Figure size 432x288 with 2 Axes>"
      ]
     },
     "metadata": {
      "needs_background": "light"
     },
     "output_type": "display_data"
    }
   ],
   "source": [
    "distances, _ = neigh.kneighbors(X_test)\n",
    "distances_ = pd.Series([dist[0] for dist in distances])\n",
    "\n",
    "y_pred = distances_.copy()\n",
    "y_pred[y_pred>=best_thres] = 1\n",
    "y_pred[y_pred<best_thres] = 0\n",
    "\n",
    "print_metrics(\"NearestNeighbor\", y_test, y_pred)"
   ]
  },
  {
   "cell_type": "markdown",
   "id": "3374a28e",
   "metadata": {},
   "source": [
    "## Anomaly Detection (Gussian Mixture Model)"
   ]
  },
  {
   "cell_type": "code",
   "execution_count": 150,
   "id": "414b03c7",
   "metadata": {},
   "outputs": [
    {
     "name": "stdout",
     "output_type": "stream",
     "text": [
      "35.39252503184164\n",
      "-24.106588929138212\n"
     ]
    }
   ],
   "source": [
    "gmm = GaussianMixture(n_components=2)\n",
    "gmm.fit(X_train)\n",
    "\n",
    "# valid = X_valid.join(y_valid)\n",
    "\n",
    "# X_test_normal = test[test.target == 0].drop(['target'],axis=1)\n",
    "# X_test_attack = test[test.target == 1].drop(['target'],axis=1)\n",
    "\n",
    "valid_normal_score = gmm.score(X_valid_normal)\n",
    "valid_attack_score = gmm.score(X_valid_attack)\n",
    "\n",
    "print(valid_normal_score)\n",
    "print(valid_attack_score)"
   ]
  },
  {
   "cell_type": "code",
   "execution_count": 151,
   "id": "bd5f2fee",
   "metadata": {},
   "outputs": [
    {
     "data": {
      "image/png": "[encoded data removed]",
      "text/plain": [
       "<Figure size 432x288 with 1 Axes>"
      ]
     },
     "metadata": {
      "needs_background": "light"
     },
     "output_type": "display_data"
    }
   ],
   "source": [
    "thresholds = np.arange(valid_attack_score, valid_normal_score, 1)\n",
    "\n",
    "precision, recall, f1 = [], [], []\n",
    "\n",
    "for thres in thresholds:\n",
    "    valid_ss = gmm.score_samples(X_valid)\n",
    "    pred = valid_ss.copy()\n",
    "    pred[pred>=thres] = 0\n",
    "    pred[pred<thres] = 1\n",
    "    recall.append(recall_score(y_valid, pred))\n",
    "    precision.append(precision_score(y_valid, pred))\n",
    "    f1.append(f1_score(y_valid, pred))\n",
    "\n",
    "plt.plot(thresholds, recall, label=\"$Recall$\")\n",
    "plt.plot(thresholds, precision, label=\"$Precision$\")\n",
    "plt.plot(thresholds, f1, label=\"$F_1$\")\n",
    "plt.legend(loc='best')\n",
    "plt.xlabel(\"Threshold\")\n",
    "plt.ylabel(\"Score\")\n",
    "plt.show()"
   ]
  },
  {
   "cell_type": "code",
   "execution_count": 152,
   "id": "2c60e016",
   "metadata": {},
   "outputs": [
    {
     "name": "stdout",
     "output_type": "stream",
     "text": [
      "The max f1 is: 0.9054397752723685\n",
      "The best threshold is: -6.106588929138212\n"
     ]
    },
    {
     "data": {
      "image/png": "[encoded data removed]",
      "text/plain": [
       "<Figure size 432x288 with 1 Axes>"
      ]
     },
     "metadata": {
      "needs_background": "light"
     },
     "output_type": "display_data"
    }
   ],
   "source": [
    "f1_max = np.array(f1).max()\n",
    "print(f\"The max f1 is: {f1_max}\")\n",
    "best_thres = thresholds[np.array(f1).argmax()]\n",
    "print(f\"The best threshold is: {best_thres}\")\n",
    "plt.plot(thresholds, f1)\n",
    "plt.xlabel(\"Threshold\")\n",
    "plt.ylabel(\"Score\")\n",
    "plt.title(\"f1 score\")\n",
    "plt.show()"
   ]
  },
  {
   "cell_type": "code",
   "execution_count": 153,
   "id": "f07cba5c",
   "metadata": {},
   "outputs": [
    {
     "name": "stdout",
     "output_type": "stream",
     "text": [
      "\n",
      "============================== GMM Model Evaluation ==============================\n",
      "\n",
      "Model Accuracy:\n",
      " 0.9442029784886927\n",
      "\n",
      "Classification report:\n",
      "               precision    recall  f1-score   support\n",
      "\n",
      "           0       0.93      1.00      0.96     31029\n",
      "           1       0.99      0.83      0.90     14296\n",
      "\n",
      "    accuracy                           0.94     45325\n",
      "   macro avg       0.96      0.91      0.93     45325\n",
      "weighted avg       0.95      0.94      0.94     45325\n",
      "\n",
      "\n"
     ]
    },
    {
     "data": {
      "image/png": "[encoded data removed]",
      "text/plain": [
       "<Figure size 432x288 with 2 Axes>"
      ]
     },
     "metadata": {
      "needs_background": "light"
     },
     "output_type": "display_data"
    }
   ],
   "source": [
    "test_ss = gmm.score_samples(X_test)\n",
    "test_pred = test_ss.copy()\n",
    "\n",
    "test_pred[test_pred>=best_thres] = 0\n",
    "test_pred[test_pred<best_thres] = 1\n",
    "\n",
    "print_metrics(\"GMM\", y_test, test_pred)"
   ]
  },
  {
   "cell_type": "code",
   "execution_count": 154,
   "id": "c89b19ee",
   "metadata": {},
   "outputs": [
    {
     "data": {
      "image/png": "[encoded data removed]",
      "text/plain": [
       "<Figure size 432x288 with 1 Axes>"
      ]
     },
     "metadata": {
      "needs_background": "light"
     },
     "output_type": "display_data"
    }
   ],
   "source": [
    "fpr, tpr, _ = roc_curve(y_test, test_pred)\n",
    "roc_auc = auc(fpr, tpr)\n",
    "display = metrics.RocCurveDisplay(fpr=fpr, tpr=tpr, roc_auc=roc_auc,\n",
    "                                   estimator_name='Gussian Mixture Model')\n",
    "display.plot()\n",
    "plt.show()"
   ]
  },
  {
   "cell_type": "markdown",
   "id": "be1df50c",
   "metadata": {},
   "source": [
    "## Misuse Detection (Machine Learning Algorithms)"
   ]
  },
  {
   "cell_type": "code",
   "execution_count": 157,
   "id": "47b1d773",
   "metadata": {},
   "outputs": [],
   "source": [
    "selected = ['service', 'flag', 'src_bytes', 'dst_bytes', 'count', 'same_srv_rate', 'diff_srv_rate', 'dst_host_srv_count', 'dst_host_srv_serror_rate', 'dst_host_diff_srv_rate', 'target']\n",
    "\n",
    "df = pd.read_csv('./data_filter.csv')\n",
    "df = df[selected]"
   ]
  },
  {
   "cell_type": "code",
   "execution_count": 158,
   "id": "4a72d8c6",
   "metadata": {},
   "outputs": [],
   "source": [
    "# Use normalizer to normalize the features\n",
    "from sklearn.preprocessing import normalize\n",
    "X, y = df.iloc[:, :-1], df['target']\n",
    "cols = X.columns\n",
    "X = normalize(X)\n",
    "X = pd.DataFrame(X, columns = cols)\n",
    "df = X.join(y)"
   ]
  },
  {
   "cell_type": "code",
   "execution_count": 156,
   "id": "e16dc126",
   "metadata": {},
   "outputs": [
    {
     "data": {
      "text/html": [
       "<div>\n",
       "<style scoped>\n",
       "    .dataframe tbody tr th:only-of-type {\n",
       "        vertical-align: middle;\n",
       "    }\n",
       "\n",
       "    .dataframe tbody tr th {\n",
       "        vertical-align: top;\n",
       "    }\n",
       "\n",
       "    .dataframe thead th {\n",
       "        text-align: right;\n",
       "    }\n",
       "</style>\n",
       "<table border=\"1\" class=\"dataframe\">\n",
       "  <thead>\n",
       "    <tr style=\"text-align: right;\">\n",
       "      <th></th>\n",
       "      <th>service</th>\n",
       "      <th>flag</th>\n",
       "      <th>src_bytes</th>\n",
       "      <th>dst_bytes</th>\n",
       "      <th>count</th>\n",
       "      <th>same_srv_rate</th>\n",
       "      <th>diff_srv_rate</th>\n",
       "      <th>dst_host_srv_count</th>\n",
       "      <th>dst_host_srv_serror_rate</th>\n",
       "      <th>dst_host_diff_srv_rate</th>\n",
       "      <th>target</th>\n",
       "    </tr>\n",
       "  </thead>\n",
       "  <tbody>\n",
       "    <tr>\n",
       "      <th>count</th>\n",
       "      <td>235445.000000</td>\n",
       "      <td>235445.000000</td>\n",
       "      <td>2.354450e+05</td>\n",
       "      <td>2.354450e+05</td>\n",
       "      <td>235445.000000</td>\n",
       "      <td>235445.000000</td>\n",
       "      <td>235445.000000</td>\n",
       "      <td>235445.000000</td>\n",
       "      <td>235445.000000</td>\n",
       "      <td>235445.000000</td>\n",
       "      <td>235445.000000</td>\n",
       "    </tr>\n",
       "    <tr>\n",
       "      <th>mean</th>\n",
       "      <td>28.063709</td>\n",
       "      <td>8.063654</td>\n",
       "      <td>2.731510e+03</td>\n",
       "      <td>3.616230e+03</td>\n",
       "      <td>29.503493</td>\n",
       "      <td>0.896692</td>\n",
       "      <td>0.024709</td>\n",
       "      <td>187.141260</td>\n",
       "      <td>0.042286</td>\n",
       "      <td>0.045090</td>\n",
       "      <td>0.121434</td>\n",
       "    </tr>\n",
       "    <tr>\n",
       "      <th>std</th>\n",
       "      <td>11.645892</td>\n",
       "      <td>2.425061</td>\n",
       "      <td>1.030929e+05</td>\n",
       "      <td>5.266818e+04</td>\n",
       "      <td>70.025935</td>\n",
       "      <td>0.287726</td>\n",
       "      <td>0.122158</td>\n",
       "      <td>98.500598</td>\n",
       "      <td>0.198595</td>\n",
       "      <td>0.144636</td>\n",
       "      <td>0.326632</td>\n",
       "    </tr>\n",
       "    <tr>\n",
       "      <th>min</th>\n",
       "      <td>0.000000</td>\n",
       "      <td>0.000000</td>\n",
       "      <td>0.000000e+00</td>\n",
       "      <td>0.000000e+00</td>\n",
       "      <td>0.000000</td>\n",
       "      <td>0.000000</td>\n",
       "      <td>0.000000</td>\n",
       "      <td>0.000000</td>\n",
       "      <td>0.000000</td>\n",
       "      <td>0.000000</td>\n",
       "      <td>0.000000</td>\n",
       "    </tr>\n",
       "    <tr>\n",
       "      <th>25%</th>\n",
       "      <td>23.000000</td>\n",
       "      <td>9.000000</td>\n",
       "      <td>1.470000e+02</td>\n",
       "      <td>1.050000e+02</td>\n",
       "      <td>1.000000</td>\n",
       "      <td>1.000000</td>\n",
       "      <td>0.000000</td>\n",
       "      <td>106.000000</td>\n",
       "      <td>0.000000</td>\n",
       "      <td>0.000000</td>\n",
       "      <td>0.000000</td>\n",
       "    </tr>\n",
       "    <tr>\n",
       "      <th>50%</th>\n",
       "      <td>23.000000</td>\n",
       "      <td>9.000000</td>\n",
       "      <td>2.320000e+02</td>\n",
       "      <td>4.750000e+02</td>\n",
       "      <td>5.000000</td>\n",
       "      <td>1.000000</td>\n",
       "      <td>0.000000</td>\n",
       "      <td>255.000000</td>\n",
       "      <td>0.000000</td>\n",
       "      <td>0.000000</td>\n",
       "      <td>0.000000</td>\n",
       "    </tr>\n",
       "    <tr>\n",
       "      <th>75%</th>\n",
       "      <td>23.000000</td>\n",
       "      <td>9.000000</td>\n",
       "      <td>3.130000e+02</td>\n",
       "      <td>2.264000e+03</td>\n",
       "      <td>15.000000</td>\n",
       "      <td>1.000000</td>\n",
       "      <td>0.000000</td>\n",
       "      <td>255.000000</td>\n",
       "      <td>0.000000</td>\n",
       "      <td>0.030000</td>\n",
       "      <td>0.000000</td>\n",
       "    </tr>\n",
       "    <tr>\n",
       "      <th>max</th>\n",
       "      <td>66.000000</td>\n",
       "      <td>10.000000</td>\n",
       "      <td>2.441878e+07</td>\n",
       "      <td>7.068759e+06</td>\n",
       "      <td>511.000000</td>\n",
       "      <td>1.000000</td>\n",
       "      <td>1.000000</td>\n",
       "      <td>255.000000</td>\n",
       "      <td>1.000000</td>\n",
       "      <td>1.000000</td>\n",
       "      <td>1.000000</td>\n",
       "    </tr>\n",
       "  </tbody>\n",
       "</table>\n",
       "</div>"
      ],
      "text/plain": [
       "             service           flag     src_bytes     dst_bytes  \\\n",
       "count  235445.000000  235445.000000  2.354450e+05  2.354450e+05   \n",
       "mean       28.063709       8.063654  2.731510e+03  3.616230e+03   \n",
       "std        11.645892       2.425061  1.030929e+05  5.266818e+04   \n",
       "min         0.000000       0.000000  0.000000e+00  0.000000e+00   \n",
       "25%        23.000000       9.000000  1.470000e+02  1.050000e+02   \n",
       "50%        23.000000       9.000000  2.320000e+02  4.750000e+02   \n",
       "75%        23.000000       9.000000  3.130000e+02  2.264000e+03   \n",
       "max        66.000000      10.000000  2.441878e+07  7.068759e+06   \n",
       "\n",
       "               count  same_srv_rate  diff_srv_rate  dst_host_srv_count  \\\n",
       "count  235445.000000  235445.000000  235445.000000       235445.000000   \n",
       "mean       29.503493       0.896692       0.024709          187.141260   \n",
       "std        70.025935       0.287726       0.122158           98.500598   \n",
       "min         0.000000       0.000000       0.000000            0.000000   \n",
       "25%         1.000000       1.000000       0.000000          106.000000   \n",
       "50%         5.000000       1.000000       0.000000          255.000000   \n",
       "75%        15.000000       1.000000       0.000000          255.000000   \n",
       "max       511.000000       1.000000       1.000000          255.000000   \n",
       "\n",
       "       dst_host_srv_serror_rate  dst_host_diff_srv_rate         target  \n",
       "count             235445.000000           235445.000000  235445.000000  \n",
       "mean                   0.042286                0.045090       0.121434  \n",
       "std                    0.198595                0.144636       0.326632  \n",
       "min                    0.000000                0.000000       0.000000  \n",
       "25%                    0.000000                0.000000       0.000000  \n",
       "50%                    0.000000                0.000000       0.000000  \n",
       "75%                    0.000000                0.030000       0.000000  \n",
       "max                    1.000000                1.000000       1.000000  "
      ]
     },
     "execution_count": 156,
     "metadata": {},
     "output_type": "execute_result"
    }
   ],
   "source": [
    "# df = pd.read_csv('./data_scaled_wbset10.csv')\n",
    "df.describe()"
   ]
  },
  {
   "cell_type": "code",
   "execution_count": 112,
   "id": "bcba9dbd",
   "metadata": {},
   "outputs": [],
   "source": [
    "# 0 for normal conn., 1 for abnormal conn.\n",
    "y = df['target']\n",
    "X = df.drop(['target'], axis=1)\n",
    "\n",
    "# split data into train and test\n",
    "X_train, X_test, y_train, y_test = train_test_split(X, y, test_size=0.3, random_state=42)\n"
   ]
  },
  {
   "cell_type": "code",
   "execution_count": 113,
   "id": "8dc41e13",
   "metadata": {},
   "outputs": [],
   "source": [
    "def train_classifier(models, X_train, y_train, X_test, y_test):\n",
    "    model_name, model = models\n",
    "    model.fit(X_train, y_train)\n",
    "    y_pred = model.predict(X_test)\n",
    "    scores = cross_val_score(model, X_train, y_train, cv=10)\n",
    "    accuracy = metrics.accuracy_score(y_test, y_pred)\n",
    "    classification = metrics.classification_report(y_test, y_pred)\n",
    "    print()\n",
    "    print(f\"============================== {model_name} Model Evaluation ==============================\")\n",
    "    print()\n",
    "    print (\"Cross Validation Mean Score:\" \"\\n\", scores.mean())\n",
    "    print()\n",
    "    print (\"Model Accuracy:\" \"\\n\", accuracy)\n",
    "    print()\n",
    "    print(\"Classification report:\" \"\\n\", classification) \n",
    "    print()\n",
    "    \n",
    "    ConfusionMatrixDisplay.from_predictions(y_test, y_pred, labels=[0, 1], display_labels=['Normal', 'Abnormal'])\n",
    "    # remove grid lines\n",
    "    plt.tick_params(axis=u'both', which=u'both',length=0)\n",
    "    plt.grid(visible=None)\n",
    "    plt.show()\n",
    "    return y_pred\n"
   ]
  },
  {
   "cell_type": "code",
   "execution_count": 114,
   "id": "332b5bb8",
   "metadata": {},
   "outputs": [],
   "source": [
    "# function to plot roc curve\n",
    "def plot_kfold_roc_curve(classifier,X,y,title):\n",
    "\n",
    "    # Run classifier with cross-validation and plot ROC curves\n",
    "    cv = StratifiedKFold(n_splits=5)\n",
    "\n",
    "    # defining the lists\n",
    "    tprs = []\n",
    "    aucs = []\n",
    "    f1s = []\n",
    "    mean_fpr = np.linspace(0, 1, 100)\n",
    "    \n",
    "    fig, ax = plt.subplots(figsize=(8,6))\n",
    "    for i, (train, test) in enumerate(cv.split(X, y)):\n",
    "        classifier.fit(X.iloc[train], y.iloc[train].values.ravel())\n",
    "        # Compute ROC curve and area under the curve (roc/auc)\n",
    "        viz = RocCurveDisplay.from_estimator(\n",
    "            classifier,\n",
    "            X.iloc[test],\n",
    "            y.iloc[test],\n",
    "            name=f\"ROC fold {i}\",\n",
    "            alpha=0.3,\n",
    "            lw=1,\n",
    "            ax=ax,\n",
    "        )\n",
    "        interp_tpr = np.interp(mean_fpr, viz.fpr, viz.tpr)\n",
    "        interp_tpr[0] = 0.0\n",
    "        tprs.append(interp_tpr)\n",
    "        aucs.append(viz.roc_auc)\n",
    "        y_pred = classifier.predict(X.iloc[test])\n",
    "        f1s.append(f1_score(y_true = y.iloc[test],y_pred = y_pred))\n",
    "    print(f\"average f1 score is: {sum(f1s)/len(f1s)}\")\n",
    "    ax.plot([0, 1], [0, 1], linestyle=\"--\", lw=2, color=\"r\", label=\"Chance\", alpha=0.8)\n",
    "\n",
    "    mean_tpr = np.mean(tprs, axis=0)\n",
    "    mean_tpr[-1] = 1.0\n",
    "    mean_auc = auc(mean_fpr, mean_tpr)\n",
    "    std_auc = np.std(aucs)\n",
    "    ax.plot(\n",
    "        mean_fpr,\n",
    "        mean_tpr,\n",
    "        color=\"b\",\n",
    "        label=r\"Mean ROC (AUC = %0.2f $\\pm$ %0.2f)\" % (mean_auc, std_auc),\n",
    "        lw=2,\n",
    "        alpha=0.8,\n",
    "    )\n",
    "\n",
    "    std_tpr = np.std(tprs, axis=0)\n",
    "    tprs_upper = np.minimum(mean_tpr + std_tpr, 1)\n",
    "    tprs_lower = np.maximum(mean_tpr - std_tpr, 0)\n",
    "    ax.fill_between(\n",
    "        mean_fpr,\n",
    "        tprs_lower,\n",
    "        tprs_upper,\n",
    "        color=\"grey\",\n",
    "        alpha=0.2,\n",
    "        label=r\"$\\pm$ 1 std. dev.\",\n",
    "    )\n",
    "\n",
    "    ax.set(\n",
    "        xlim=[-0.05, 1.05],\n",
    "        ylim=[-0.05, 1.05],\n",
    "        title=title,\n",
    "    )\n",
    "    ax.legend(loc=\"lower right\")\n",
    "    plt.show()\n",
    "    "
   ]
  },
  {
   "cell_type": "markdown",
   "id": "f90d0569",
   "metadata": {},
   "source": [
    "### K Nearest Neighbors"
   ]
  },
  {
   "cell_type": "code",
   "execution_count": 115,
   "id": "fdae4e4c",
   "metadata": {},
   "outputs": [
    {
     "name": "stdout",
     "output_type": "stream",
     "text": [
      "\n",
      "============================== KNN Model Evaluation ==============================\n",
      "\n",
      "Cross Validation Mean Score:\n",
      " 0.9964686829702988\n",
      "\n",
      "Model Accuracy:\n",
      " 0.9968853526630235\n",
      "\n",
      "Classification report:\n",
      "               precision    recall  f1-score   support\n",
      "\n",
      "           0       1.00      1.00      1.00     62073\n",
      "           1       0.99      0.98      0.99      8561\n",
      "\n",
      "    accuracy                           1.00     70634\n",
      "   macro avg       0.99      0.99      0.99     70634\n",
      "weighted avg       1.00      1.00      1.00     70634\n",
      "\n",
      "\n"
     ]
    },
    {
     "data": {
      "image/png": "[encoded data removed]",
      "text/plain": [
       "<Figure size 432x288 with 2 Axes>"
      ]
     },
     "metadata": {
      "needs_background": "light"
     },
     "output_type": "display_data"
    },
    {
     "data": {
      "text/plain": [
       "array([0, 0, 0, ..., 0, 1, 0], dtype=int64)"
      ]
     },
     "execution_count": 115,
     "metadata": {},
     "output_type": "execute_result"
    }
   ],
   "source": [
    "from sklearn.neighbors import KNeighborsClassifier\n",
    "\n",
    "train_classifier((\"KNN\", KNeighborsClassifier(n_neighbors=7)), X_train, y_train, X_test, y_test)"
   ]
  },
  {
   "cell_type": "code",
   "execution_count": 116,
   "id": "a2a4f745",
   "metadata": {},
   "outputs": [
    {
     "name": "stdout",
     "output_type": "stream",
     "text": [
      "average f1 score is: 0.9870592885951046\n"
     ]
    },
    {
     "data": {
      "image/png": "[encoded data removed]",
      "text/plain": [
       "<Figure size 576x432 with 1 Axes>"
      ]
     },
     "metadata": {
      "needs_background": "light"
     },
     "output_type": "display_data"
    }
   ],
   "source": [
    "classifier = KNeighborsClassifier(n_neighbors=7)\n",
    "plot_kfold_roc_curve(classifier, X, y, title = \"ROC curve\")"
   ]
  }
 ],
 "metadata": {
  "kernelspec": {
   "display_name": "Python (secana)",
   "language": "python",
   "name": "secana"
  },
  "language_info": {
   "codemirror_mode": {
    "name": "ipython",
    "version": 3
   },
   "file_extension": ".py",
   "mimetype": "text/x-python",
   "name": "python",
   "nbconvert_exporter": "python",
   "pygments_lexer": "ipython3",
   "version": "3.9.7"
  }
 },
 "nbformat": 4,
 "nbformat_minor": 5
}
