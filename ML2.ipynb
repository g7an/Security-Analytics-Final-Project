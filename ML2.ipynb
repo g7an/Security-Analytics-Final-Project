{
 "cells": [
  {
   "cell_type": "code",
   "execution_count": 123,
   "id": "aafd7886",
   "metadata": {},
   "outputs": [],
   "source": [
    "import pandas as pd\n",
    "import numpy as np\n",
    "import matplotlib.pyplot as plt\n",
    "from sklearn import metrics\n",
    "from sklearn.model_selection import train_test_split\n",
    "from sklearn.metrics import accuracy_score, recall_score, precision_score, ConfusionMatrixDisplay, confusion_matrix, roc_curve, auc, RocCurveDisplay, f1_score, PrecisionRecallDisplay\n",
    "from sklearn.model_selection import cross_val_score\n",
    "from sklearn.model_selection import KFold, train_test_split, StratifiedKFold\n",
    "from sklearn.neighbors import NearestNeighbors\n",
    "from sklearn.mixture import GaussianMixture"
   ]
  },
  {
   "cell_type": "markdown",
   "id": "84a8dedf",
   "metadata": {},
   "source": [
    "## Read data"
   ]
  },
  {
   "cell_type": "code",
   "execution_count": 124,
   "id": "7c73b38d",
   "metadata": {},
   "outputs": [
    {
     "data": {
      "text/html": [
       "<div>\n",
       "<style scoped>\n",
       "    .dataframe tbody tr th:only-of-type {\n",
       "        vertical-align: middle;\n",
       "    }\n",
       "\n",
       "    .dataframe tbody tr th {\n",
       "        vertical-align: top;\n",
       "    }\n",
       "\n",
       "    .dataframe thead th {\n",
       "        text-align: right;\n",
       "    }\n",
       "</style>\n",
       "<table border=\"1\" class=\"dataframe\">\n",
       "  <thead>\n",
       "    <tr style=\"text-align: right;\">\n",
       "      <th></th>\n",
       "      <th>service</th>\n",
       "      <th>flag</th>\n",
       "      <th>src_bytes</th>\n",
       "      <th>dst_bytes</th>\n",
       "      <th>count</th>\n",
       "      <th>same_srv_rate</th>\n",
       "      <th>diff_srv_rate</th>\n",
       "      <th>dst_host_srv_count</th>\n",
       "      <th>dst_host_srv_serror_rate</th>\n",
       "      <th>dst_host_diff_srv_rate</th>\n",
       "      <th>target</th>\n",
       "    </tr>\n",
       "  </thead>\n",
       "  <tbody>\n",
       "    <tr>\n",
       "      <th>count</th>\n",
       "      <td>235445.000000</td>\n",
       "      <td>235445.000000</td>\n",
       "      <td>235445.000000</td>\n",
       "      <td>235445.000000</td>\n",
       "      <td>235445.000000</td>\n",
       "      <td>235445.000000</td>\n",
       "      <td>235445.000000</td>\n",
       "      <td>235445.000000</td>\n",
       "      <td>235445.000000</td>\n",
       "      <td>235445.000000</td>\n",
       "      <td>235445.000000</td>\n",
       "    </tr>\n",
       "    <tr>\n",
       "      <th>mean</th>\n",
       "      <td>0.071348</td>\n",
       "      <td>0.015751</td>\n",
       "      <td>0.309399</td>\n",
       "      <td>0.619847</td>\n",
       "      <td>0.109832</td>\n",
       "      <td>0.001831</td>\n",
       "      <td>0.000147</td>\n",
       "      <td>0.242860</td>\n",
       "      <td>0.000258</td>\n",
       "      <td>0.000262</td>\n",
       "      <td>0.121434</td>\n",
       "    </tr>\n",
       "    <tr>\n",
       "      <th>std</th>\n",
       "      <td>0.118820</td>\n",
       "      <td>0.029258</td>\n",
       "      <td>0.330254</td>\n",
       "      <td>0.401061</td>\n",
       "      <td>0.286767</td>\n",
       "      <td>0.003944</td>\n",
       "      <td>0.001319</td>\n",
       "      <td>0.276639</td>\n",
       "      <td>0.001429</td>\n",
       "      <td>0.001639</td>\n",
       "      <td>0.326632</td>\n",
       "    </tr>\n",
       "    <tr>\n",
       "      <th>min</th>\n",
       "      <td>0.000000</td>\n",
       "      <td>0.000000</td>\n",
       "      <td>0.000000</td>\n",
       "      <td>0.000000</td>\n",
       "      <td>0.000000</td>\n",
       "      <td>0.000000</td>\n",
       "      <td>0.000000</td>\n",
       "      <td>0.000000</td>\n",
       "      <td>0.000000</td>\n",
       "      <td>0.000000</td>\n",
       "      <td>0.000000</td>\n",
       "    </tr>\n",
       "    <tr>\n",
       "      <th>25%</th>\n",
       "      <td>0.009058</td>\n",
       "      <td>0.003370</td>\n",
       "      <td>0.036919</td>\n",
       "      <td>0.192810</td>\n",
       "      <td>0.001166</td>\n",
       "      <td>0.000274</td>\n",
       "      <td>0.000000</td>\n",
       "      <td>0.043423</td>\n",
       "      <td>0.000000</td>\n",
       "      <td>0.000000</td>\n",
       "      <td>0.000000</td>\n",
       "    </tr>\n",
       "    <tr>\n",
       "      <th>50%</th>\n",
       "      <td>0.029068</td>\n",
       "      <td>0.007121</td>\n",
       "      <td>0.166901</td>\n",
       "      <td>0.808332</td>\n",
       "      <td>0.004606</td>\n",
       "      <td>0.000746</td>\n",
       "      <td>0.000000</td>\n",
       "      <td>0.124025</td>\n",
       "      <td>0.000000</td>\n",
       "      <td>0.000000</td>\n",
       "      <td>0.000000</td>\n",
       "    </tr>\n",
       "    <tr>\n",
       "      <th>75%</th>\n",
       "      <td>0.057431</td>\n",
       "      <td>0.017376</td>\n",
       "      <td>0.498051</td>\n",
       "      <td>0.987501</td>\n",
       "      <td>0.018201</td>\n",
       "      <td>0.001890</td>\n",
       "      <td>0.000000</td>\n",
       "      <td>0.358505</td>\n",
       "      <td>0.000000</td>\n",
       "      <td>0.000035</td>\n",
       "      <td>0.000000</td>\n",
       "    </tr>\n",
       "    <tr>\n",
       "      <th>max</th>\n",
       "      <td>0.999427</td>\n",
       "      <td>0.601248</td>\n",
       "      <td>1.000000</td>\n",
       "      <td>1.000000</td>\n",
       "      <td>0.999862</td>\n",
       "      <td>0.218218</td>\n",
       "      <td>0.240772</td>\n",
       "      <td>0.997373</td>\n",
       "      <td>0.081650</td>\n",
       "      <td>0.240772</td>\n",
       "      <td>1.000000</td>\n",
       "    </tr>\n",
       "  </tbody>\n",
       "</table>\n",
       "</div>"
      ],
      "text/plain": [
       "             service           flag      src_bytes      dst_bytes  \\\n",
       "count  235445.000000  235445.000000  235445.000000  235445.000000   \n",
       "mean        0.071348       0.015751       0.309399       0.619847   \n",
       "std         0.118820       0.029258       0.330254       0.401061   \n",
       "min         0.000000       0.000000       0.000000       0.000000   \n",
       "25%         0.009058       0.003370       0.036919       0.192810   \n",
       "50%         0.029068       0.007121       0.166901       0.808332   \n",
       "75%         0.057431       0.017376       0.498051       0.987501   \n",
       "max         0.999427       0.601248       1.000000       1.000000   \n",
       "\n",
       "               count  same_srv_rate  diff_srv_rate  dst_host_srv_count  \\\n",
       "count  235445.000000  235445.000000  235445.000000       235445.000000   \n",
       "mean        0.109832       0.001831       0.000147            0.242860   \n",
       "std         0.286767       0.003944       0.001319            0.276639   \n",
       "min         0.000000       0.000000       0.000000            0.000000   \n",
       "25%         0.001166       0.000274       0.000000            0.043423   \n",
       "50%         0.004606       0.000746       0.000000            0.124025   \n",
       "75%         0.018201       0.001890       0.000000            0.358505   \n",
       "max         0.999862       0.218218       0.240772            0.997373   \n",
       "\n",
       "       dst_host_srv_serror_rate  dst_host_diff_srv_rate         target  \n",
       "count             235445.000000           235445.000000  235445.000000  \n",
       "mean                   0.000258                0.000262       0.121434  \n",
       "std                    0.001429                0.001639       0.326632  \n",
       "min                    0.000000                0.000000       0.000000  \n",
       "25%                    0.000000                0.000000       0.000000  \n",
       "50%                    0.000000                0.000000       0.000000  \n",
       "75%                    0.000000                0.000035       0.000000  \n",
       "max                    0.081650                0.240772       1.000000  "
      ]
     },
     "execution_count": 124,
     "metadata": {},
     "output_type": "execute_result"
    }
   ],
   "source": [
    "df = pd.read_csv('./data_normalized.csv')\n",
    "df.describe()"
   ]
  },
  {
   "cell_type": "code",
   "execution_count": 125,
   "id": "378dfcae",
   "metadata": {},
   "outputs": [
    {
     "name": "stdout",
     "output_type": "stream",
     "text": [
      "0    206854\n",
      "1     28591\n",
      "Name: target, dtype: int64\n"
     ]
    }
   ],
   "source": [
    "print(df['target'].value_counts())"
   ]
  },
  {
   "cell_type": "markdown",
   "id": "ebb4d3c4",
   "metadata": {},
   "source": [
    "## Split data \n",
    "In this part, we are trying to conduct novelty detection, which is a kind of anomaly detection: https://scikit-learn.org/stable/modules/outlier_detection.html#outlier-detection\n",
    "Use normal data as the training data, and abnormal data + normal data as the testing data"
   ]
  },
  {
   "cell_type": "code",
   "execution_count": 126,
   "id": "b543b588",
   "metadata": {},
   "outputs": [],
   "source": [
    "# get normal and abnormal data in df\n",
    "y_normal = df[df['target'] == 0]['target']\n",
    "X_normal = df[df['target'] == 0].drop(['target'], axis=1, inplace=False)\n",
    "\n",
    "y_attack = df[df['target'] == 1]['target']\n",
    "X_attack = df[df['target'] == 1].drop(['target'], axis=1, inplace=False)\n",
    "\n",
    "# 70% normal only data for training\n",
    "X_train, X_left_normal, y_train, y_left_normal = train_test_split(X_normal, y_normal, test_size=0.3, random_state=42)\n",
    "\n",
    "# 15% normal + 50% attack data for valid, 15% normal + 50% attack data for testing\n",
    "X_valid_normal, X_test_normal, y_valid_normal, y_test_normal = train_test_split(X_left_normal, y_left_normal, test_size=0.5)\n",
    "X_valid_attack, X_test_attack, y_valid_attack, y_test_attack = train_test_split(X_attack, y_attack, test_size=0.5)\n",
    "\n",
    "# # # prepare data for valid, testing\n",
    "X_valid = pd.concat([X_valid_normal, X_valid_attack])\n",
    "y_valid = pd.concat([y_valid_normal, y_valid_attack])\n",
    "\n",
    "X_test = pd.concat([X_test_normal, X_test_attack])\n",
    "y_test = pd.concat([y_test_normal, y_test_attack])"
   ]
  },
  {
   "cell_type": "markdown",
   "id": "7a78a661",
   "metadata": {},
   "source": [
    "## Anomaly Detection (Nearest Neighbor)"
   ]
  },
  {
   "cell_type": "code",
   "execution_count": 127,
   "id": "31c361e6",
   "metadata": {},
   "outputs": [],
   "source": [
    "neigh = NearestNeighbors(n_neighbors=1)\n",
    "neigh.fit(X_train)\n",
    "distances, _ = neigh.kneighbors(X_valid)"
   ]
  },
  {
   "cell_type": "code",
   "execution_count": 128,
   "id": "3012ca96",
   "metadata": {},
   "outputs": [],
   "source": [
    "distances_ = pd.Series([dist[0] for dist in distances])\n",
    "label_distances = pd.DataFrame({'label': y_valid, 'distance': distances_})\n",
    "max_dist = label_distances.groupby('label')['distance'].max()"
   ]
  },
  {
   "cell_type": "code",
   "execution_count": 129,
   "id": "6b346065",
   "metadata": {},
   "outputs": [
    {
     "data": {
      "image/png": "[encoded data removed]",
      "text/plain": [
       "<Figure size 432x288 with 1 Axes>"
      ]
     },
     "metadata": {
      "needs_background": "light"
     },
     "output_type": "display_data"
    },
    {
     "data": {
      "text/plain": [
       "<sklearn.metrics._plot.precision_recall_curve.PrecisionRecallDisplay at 0x1bb8e55e2b0>"
      ]
     },
     "execution_count": 129,
     "metadata": {},
     "output_type": "execute_result"
    },
    {
     "data": {
      "image/png": "[encoded data removed]",
      "text/plain": [
       "<Figure size 432x288 with 1 Axes>"
      ]
     },
     "metadata": {
      "needs_background": "light"
     },
     "output_type": "display_data"
    }
   ],
   "source": [
    "interval = (max_dist[1] - 0)/50\n",
    "thresholds = np.arange(0, max_dist[1], interval)\n",
    "\n",
    "FPR, TPR = [], []\n",
    "recall, precision, F1 = [1], [0], []\n",
    "pred_list = []\n",
    "\n",
    "for thres in thresholds:\n",
    "    pred = distances_.copy()\n",
    "    pred[pred>=thres] = 1\n",
    "    pred[pred<thres] = 0\n",
    "    tn, fp, fn, tp = confusion_matrix(y_valid, pred).ravel()\n",
    "    fpr = (fp)/(fp+tn)\n",
    "    tpr = (tp)/(tp+fn)\n",
    "    FPR.append(fpr)\n",
    "    TPR.append(tpr)\n",
    "    rec = recall_score(y_valid, pred)\n",
    "    prec = precision_score(y_valid, pred)\n",
    "    recall.append(rec)\n",
    "    precision.append(prec)\n",
    "#     print(f\"When threshold = {thres:.5f}, FPR: {fpr:.5f}  TPR: {tpr:.5f}, recall: {rec}, precision: {prec}\")\n",
    "    F1.append(f1_score(y_valid, pred))\n",
    "    pred_list.append(pred)\n",
    "\n",
    "FPR.append(0)\n",
    "TPR.append(0)\n",
    "roc_auc = auc(FPR, TPR)\n",
    "display = RocCurveDisplay(fpr=FPR, tpr=TPR, roc_auc=roc_auc, estimator_name='NearestNeighbors')\n",
    "display.plot()\n",
    "plt.show()\n",
    "\n",
    "recall.append(0)\n",
    "precision.append(1)\n",
    "disp = PrecisionRecallDisplay(precision=precision, recall=recall)\n",
    "disp.plot()"
   ]
  },
  {
   "cell_type": "code",
   "execution_count": 130,
   "id": "c868d887",
   "metadata": {},
   "outputs": [
    {
     "name": "stdout",
     "output_type": "stream",
     "text": [
      "The max f1 is: 0.9389085957934717\n",
      "The best threshold is: 0.01554879389725812\n"
     ]
    },
    {
     "data": {
      "image/png": "[encoded data removed]",
      "text/plain": [
       "<Figure size 432x288 with 1 Axes>"
      ]
     },
     "metadata": {
      "needs_background": "light"
     },
     "output_type": "display_data"
    }
   ],
   "source": [
    "f1_max = np.array(F1).max()\n",
    "print(f\"The max f1 is: {f1_max}\")\n",
    "best_thres = thresholds[np.array(F1).argmax()]\n",
    "print(f\"The best threshold is: {best_thres}\")\n",
    "plt.plot(thresholds, F1)\n",
    "plt.xlabel(\"Threshold\")\n",
    "plt.ylabel(\"Score\")\n",
    "plt.title(\"f1 score\")\n",
    "plt.show()"
   ]
  },
  {
   "cell_type": "code",
   "execution_count": 131,
   "id": "0f0413f5",
   "metadata": {},
   "outputs": [],
   "source": [
    "def print_metrics(model_name, y_test, y_pred):\n",
    "    print()\n",
    "    print(f\"============================== {model_name} Model Evaluation ==============================\")\n",
    "    print()\n",
    "    accuracy = metrics.accuracy_score(y_test, y_pred)\n",
    "    print (\"Model Accuracy:\" \"\\n\", accuracy)\n",
    "    print()\n",
    "    classification = metrics.classification_report(y_test, y_pred)\n",
    "    print(\"Classification report:\" \"\\n\", classification) \n",
    "    print()\n",
    "    \n",
    "    ConfusionMatrixDisplay.from_predictions(y_test, y_pred, labels=[0, 1], display_labels=['Normal', 'Abormal'])\n",
    "    # remove grid lines\n",
    "    plt.tick_params(axis=u'both', which=u'both',length=0)\n",
    "    plt.grid(visible=None)\n",
    "    plt.show()"
   ]
  },
  {
   "cell_type": "code",
   "execution_count": 132,
   "id": "2af26754",
   "metadata": {},
   "outputs": [
    {
     "name": "stdout",
     "output_type": "stream",
     "text": [
      "\n",
      "============================== NearestNeighbor Model Evaluation ==============================\n",
      "\n",
      "Model Accuracy:\n",
      " 0.9627137341423055\n",
      "\n",
      "Classification report:\n",
      "               precision    recall  f1-score   support\n",
      "\n",
      "           0       0.96      0.98      0.97     31029\n",
      "           1       0.96      0.92      0.94     14296\n",
      "\n",
      "    accuracy                           0.96     45325\n",
      "   macro avg       0.96      0.95      0.96     45325\n",
      "weighted avg       0.96      0.96      0.96     45325\n",
      "\n",
      "\n"
     ]
    },
    {
     "data": {
      "image/png": "[encoded data removed]",
      "text/plain": [
       "<Figure size 432x288 with 2 Axes>"
      ]
     },
     "metadata": {
      "needs_background": "light"
     },
     "output_type": "display_data"
    }
   ],
   "source": [
    "distances, _ = neigh.kneighbors(X_test)\n",
    "distances_ = pd.Series([dist[0] for dist in distances])\n",
    "\n",
    "y_pred = distances_.copy()\n",
    "y_pred[y_pred>=best_thres] = 1\n",
    "y_pred[y_pred<best_thres] = 0\n",
    "\n",
    "print_metrics(\"NearestNeighbor\", y_test, y_pred)"
   ]
  },
  {
   "cell_type": "markdown",
   "id": "8ca93143",
   "metadata": {},
   "source": [
    "## Anomaly Detection (Gussian Mixture Model)"
   ]
  },
  {
   "cell_type": "code",
   "execution_count": 133,
   "id": "414b03c7",
   "metadata": {},
   "outputs": [
    {
     "name": "stdout",
     "output_type": "stream",
     "text": [
      "26.668523056629507\n",
      "-84.13013796433022\n",
      "35.44204567920885\n",
      "-23.457402866498438\n",
      "37.38420729809428\n",
      "-5.687822630455868\n"
     ]
    }
   ],
   "source": [
    "gmm = [GaussianMixture(n_components=i).fit(X_train) for i in [1,2,3]]\n",
    "\n",
    "ave_score = []\n",
    "for i in range(3):\n",
    "    valid_normal_score = gmm[i].score(X_valid_normal)\n",
    "    valid_attack_score = gmm[i].score(X_valid_attack)\n",
    "    ave_score.append((valid_attack_score, valid_normal_score))\n",
    "\n",
    "    print(valid_normal_score)\n",
    "    print(valid_attack_score)"
   ]
  },
  {
   "cell_type": "code",
   "execution_count": 134,
   "id": "bd5f2fee",
   "metadata": {
    "scrolled": true
   },
   "outputs": [
    {
     "name": "stdout",
     "output_type": "stream",
     "text": [
      "The max f1 is: 0.9028549676437\n",
      "The best threshold is: -59.13013796433022\n",
      "The max f1 is: 0.9031522111106888\n",
      "The best threshold is: -5.4574028664984375\n",
      "The max f1 is: 0.8649735783579146\n",
      "The best threshold is: -0.6878226304558677\n"
     ]
    },
    {
     "data": {
      "image/png": "[encoded data removed]",
      "text/plain": [
       "<Figure size 432x288 with 1 Axes>"
      ]
     },
     "metadata": {
      "needs_background": "light"
     },
     "output_type": "display_data"
    },
    {
     "data": {
      "image/png": "[encoded data removed]",
      "text/plain": [
       "<Figure size 432x288 with 1 Axes>"
      ]
     },
     "metadata": {
      "needs_background": "light"
     },
     "output_type": "display_data"
    },
    {
     "data": {
      "image/png": "[encoded data removed]",
      "text/plain": [
       "<Figure size 432x288 with 1 Axes>"
      ]
     },
     "metadata": {
      "needs_background": "light"
     },
     "output_type": "display_data"
    }
   ],
   "source": [
    "best_thres_list = []\n",
    "for i in range(3):\n",
    "    thresholds = np.arange(ave_score[i][0], ave_score[i][1], 1)\n",
    "\n",
    "    precision, recall, f1 = [1], [0], []\n",
    "    FPR, TPR = [0], [0]\n",
    "\n",
    "    for thres in thresholds:\n",
    "        valid_ss = gmm[i].score_samples(X_valid)\n",
    "        pred = valid_ss.copy()\n",
    "        pred[pred>=thres] = 0\n",
    "        pred[pred<thres] = 1\n",
    "        tn, fp, fn, tp = confusion_matrix(y_valid, pred).ravel()\n",
    "        fpr = (fp)/(fp+tn)\n",
    "        tpr = (tp)/(tp+fn)\n",
    "        FPR.append(fpr)\n",
    "        TPR.append(tpr)\n",
    "        rec = recall_score(y_valid, pred)\n",
    "        prec = precision_score(y_valid, pred)\n",
    "#         print(f\"When threshold = {thres:.5f}, fpr: {fpr:.5f}, tpr: {tpr:.5f}, recall: {rec:.5f}  precision: {prec:.5f}\")\n",
    "        recall.append(rec)\n",
    "        precision.append(prec)\n",
    "        f1.append(f1_score(y_valid, pred))\n",
    "\n",
    "    recall.append(1)\n",
    "    precision.append(0)\n",
    "    disp = PrecisionRecallDisplay(precision=precision, recall=recall)\n",
    "    disp.plot()\n",
    "    \n",
    "    f1_max = np.array(f1).max()\n",
    "    print(f\"The max f1 is: {f1_max}\")\n",
    "    best_thres = thresholds[np.array(f1).argmax()]\n",
    "    print(f\"The best threshold is: {best_thres}\")\n",
    "    best_thres_list.append(best_thres)"
   ]
  },
  {
   "cell_type": "code",
   "execution_count": 135,
   "id": "f07cba5c",
   "metadata": {},
   "outputs": [
    {
     "name": "stdout",
     "output_type": "stream",
     "text": [
      "\n",
      "============================== GMM Model Evaluation ==============================\n",
      "\n",
      "Model Accuracy:\n",
      " 0.9452840595697739\n",
      "\n",
      "Classification report:\n",
      "               precision    recall  f1-score   support\n",
      "\n",
      "           0       0.93      1.00      0.96     31029\n",
      "           1       0.99      0.83      0.91     14296\n",
      "\n",
      "    accuracy                           0.95     45325\n",
      "   macro avg       0.96      0.92      0.93     45325\n",
      "weighted avg       0.95      0.95      0.94     45325\n",
      "\n",
      "\n"
     ]
    },
    {
     "data": {
      "image/png": "[encoded data removed]",
      "text/plain": [
       "<Figure size 432x288 with 2 Axes>"
      ]
     },
     "metadata": {
      "needs_background": "light"
     },
     "output_type": "display_data"
    },
    {
     "name": "stdout",
     "output_type": "stream",
     "text": [
      "\n",
      "============================== GMM Model Evaluation ==============================\n",
      "\n",
      "Model Accuracy:\n",
      " 0.9455488141202427\n",
      "\n",
      "Classification report:\n",
      "               precision    recall  f1-score   support\n",
      "\n",
      "           0       0.93      1.00      0.96     31029\n",
      "           1       0.99      0.84      0.91     14296\n",
      "\n",
      "    accuracy                           0.95     45325\n",
      "   macro avg       0.96      0.92      0.93     45325\n",
      "weighted avg       0.95      0.95      0.94     45325\n",
      "\n",
      "\n"
     ]
    },
    {
     "data": {
      "image/png": "[encoded data removed]",
      "text/plain": [
       "<Figure size 432x288 with 2 Axes>"
      ]
     },
     "metadata": {
      "needs_background": "light"
     },
     "output_type": "display_data"
    },
    {
     "name": "stdout",
     "output_type": "stream",
     "text": [
      "\n",
      "============================== GMM Model Evaluation ==============================\n",
      "\n",
      "Model Accuracy:\n",
      " 0.9241257584114727\n",
      "\n",
      "Classification report:\n",
      "               precision    recall  f1-score   support\n",
      "\n",
      "           0       0.90      1.00      0.95     31029\n",
      "           1       0.99      0.77      0.86     14296\n",
      "\n",
      "    accuracy                           0.92     45325\n",
      "   macro avg       0.95      0.88      0.91     45325\n",
      "weighted avg       0.93      0.92      0.92     45325\n",
      "\n",
      "\n"
     ]
    },
    {
     "data": {
      "image/png": "[encoded data removed]",
      "text/plain": [
       "<Figure size 432x288 with 2 Axes>"
      ]
     },
     "metadata": {
      "needs_background": "light"
     },
     "output_type": "display_data"
    }
   ],
   "source": [
    "for i in range(3):\n",
    "    test_ss = gmm[i].score_samples(X_test)\n",
    "    test_pred = test_ss.copy()\n",
    "\n",
    "    best_thres = best_thres_list[i]\n",
    "    \n",
    "    test_pred[test_pred>=best_thres] = 0\n",
    "    test_pred[test_pred<best_thres] = 1\n",
    "\n",
    "    print_metrics(\"GMM\", y_test, test_pred)"
   ]
  },
  {
   "cell_type": "markdown",
   "id": "be1df50c",
   "metadata": {},
   "source": [
    "## Misuse Detection (Machine Learning Algorithms)"
   ]
  },
  {
   "cell_type": "code",
   "execution_count": 136,
   "id": "29aa32b3",
   "metadata": {},
   "outputs": [
    {
     "data": {
      "text/html": [
       "<div>\n",
       "<style scoped>\n",
       "    .dataframe tbody tr th:only-of-type {\n",
       "        vertical-align: middle;\n",
       "    }\n",
       "\n",
       "    .dataframe tbody tr th {\n",
       "        vertical-align: top;\n",
       "    }\n",
       "\n",
       "    .dataframe thead th {\n",
       "        text-align: right;\n",
       "    }\n",
       "</style>\n",
       "<table border=\"1\" class=\"dataframe\">\n",
       "  <thead>\n",
       "    <tr style=\"text-align: right;\">\n",
       "      <th></th>\n",
       "      <th>service</th>\n",
       "      <th>flag</th>\n",
       "      <th>src_bytes</th>\n",
       "      <th>dst_bytes</th>\n",
       "      <th>count</th>\n",
       "      <th>same_srv_rate</th>\n",
       "      <th>diff_srv_rate</th>\n",
       "      <th>dst_host_srv_count</th>\n",
       "      <th>dst_host_srv_serror_rate</th>\n",
       "      <th>dst_host_diff_srv_rate</th>\n",
       "      <th>target</th>\n",
       "    </tr>\n",
       "  </thead>\n",
       "  <tbody>\n",
       "    <tr>\n",
       "      <th>count</th>\n",
       "      <td>235445.000000</td>\n",
       "      <td>235445.000000</td>\n",
       "      <td>235445.000000</td>\n",
       "      <td>235445.000000</td>\n",
       "      <td>235445.000000</td>\n",
       "      <td>235445.000000</td>\n",
       "      <td>235445.000000</td>\n",
       "      <td>235445.000000</td>\n",
       "      <td>235445.000000</td>\n",
       "      <td>235445.000000</td>\n",
       "      <td>235445.000000</td>\n",
       "    </tr>\n",
       "    <tr>\n",
       "      <th>mean</th>\n",
       "      <td>0.071348</td>\n",
       "      <td>0.015751</td>\n",
       "      <td>0.309399</td>\n",
       "      <td>0.619847</td>\n",
       "      <td>0.109832</td>\n",
       "      <td>0.001831</td>\n",
       "      <td>0.000147</td>\n",
       "      <td>0.242860</td>\n",
       "      <td>0.000258</td>\n",
       "      <td>0.000262</td>\n",
       "      <td>0.121434</td>\n",
       "    </tr>\n",
       "    <tr>\n",
       "      <th>std</th>\n",
       "      <td>0.118820</td>\n",
       "      <td>0.029258</td>\n",
       "      <td>0.330254</td>\n",
       "      <td>0.401061</td>\n",
       "      <td>0.286767</td>\n",
       "      <td>0.003944</td>\n",
       "      <td>0.001319</td>\n",
       "      <td>0.276639</td>\n",
       "      <td>0.001429</td>\n",
       "      <td>0.001639</td>\n",
       "      <td>0.326632</td>\n",
       "    </tr>\n",
       "    <tr>\n",
       "      <th>min</th>\n",
       "      <td>0.000000</td>\n",
       "      <td>0.000000</td>\n",
       "      <td>0.000000</td>\n",
       "      <td>0.000000</td>\n",
       "      <td>0.000000</td>\n",
       "      <td>0.000000</td>\n",
       "      <td>0.000000</td>\n",
       "      <td>0.000000</td>\n",
       "      <td>0.000000</td>\n",
       "      <td>0.000000</td>\n",
       "      <td>0.000000</td>\n",
       "    </tr>\n",
       "    <tr>\n",
       "      <th>25%</th>\n",
       "      <td>0.009058</td>\n",
       "      <td>0.003370</td>\n",
       "      <td>0.036919</td>\n",
       "      <td>0.192810</td>\n",
       "      <td>0.001166</td>\n",
       "      <td>0.000274</td>\n",
       "      <td>0.000000</td>\n",
       "      <td>0.043423</td>\n",
       "      <td>0.000000</td>\n",
       "      <td>0.000000</td>\n",
       "      <td>0.000000</td>\n",
       "    </tr>\n",
       "    <tr>\n",
       "      <th>50%</th>\n",
       "      <td>0.029068</td>\n",
       "      <td>0.007121</td>\n",
       "      <td>0.166901</td>\n",
       "      <td>0.808332</td>\n",
       "      <td>0.004606</td>\n",
       "      <td>0.000746</td>\n",
       "      <td>0.000000</td>\n",
       "      <td>0.124025</td>\n",
       "      <td>0.000000</td>\n",
       "      <td>0.000000</td>\n",
       "      <td>0.000000</td>\n",
       "    </tr>\n",
       "    <tr>\n",
       "      <th>75%</th>\n",
       "      <td>0.057431</td>\n",
       "      <td>0.017376</td>\n",
       "      <td>0.498051</td>\n",
       "      <td>0.987501</td>\n",
       "      <td>0.018201</td>\n",
       "      <td>0.001890</td>\n",
       "      <td>0.000000</td>\n",
       "      <td>0.358505</td>\n",
       "      <td>0.000000</td>\n",
       "      <td>0.000035</td>\n",
       "      <td>0.000000</td>\n",
       "    </tr>\n",
       "    <tr>\n",
       "      <th>max</th>\n",
       "      <td>0.999427</td>\n",
       "      <td>0.601248</td>\n",
       "      <td>1.000000</td>\n",
       "      <td>1.000000</td>\n",
       "      <td>0.999862</td>\n",
       "      <td>0.218218</td>\n",
       "      <td>0.240772</td>\n",
       "      <td>0.997373</td>\n",
       "      <td>0.081650</td>\n",
       "      <td>0.240772</td>\n",
       "      <td>1.000000</td>\n",
       "    </tr>\n",
       "  </tbody>\n",
       "</table>\n",
       "</div>"
      ],
      "text/plain": [
       "             service           flag      src_bytes      dst_bytes  \\\n",
       "count  235445.000000  235445.000000  235445.000000  235445.000000   \n",
       "mean        0.071348       0.015751       0.309399       0.619847   \n",
       "std         0.118820       0.029258       0.330254       0.401061   \n",
       "min         0.000000       0.000000       0.000000       0.000000   \n",
       "25%         0.009058       0.003370       0.036919       0.192810   \n",
       "50%         0.029068       0.007121       0.166901       0.808332   \n",
       "75%         0.057431       0.017376       0.498051       0.987501   \n",
       "max         0.999427       0.601248       1.000000       1.000000   \n",
       "\n",
       "               count  same_srv_rate  diff_srv_rate  dst_host_srv_count  \\\n",
       "count  235445.000000  235445.000000  235445.000000       235445.000000   \n",
       "mean        0.109832       0.001831       0.000147            0.242860   \n",
       "std         0.286767       0.003944       0.001319            0.276639   \n",
       "min         0.000000       0.000000       0.000000            0.000000   \n",
       "25%         0.001166       0.000274       0.000000            0.043423   \n",
       "50%         0.004606       0.000746       0.000000            0.124025   \n",
       "75%         0.018201       0.001890       0.000000            0.358505   \n",
       "max         0.999862       0.218218       0.240772            0.997373   \n",
       "\n",
       "       dst_host_srv_serror_rate  dst_host_diff_srv_rate         target  \n",
       "count             235445.000000           235445.000000  235445.000000  \n",
       "mean                   0.000258                0.000262       0.121434  \n",
       "std                    0.001429                0.001639       0.326632  \n",
       "min                    0.000000                0.000000       0.000000  \n",
       "25%                    0.000000                0.000000       0.000000  \n",
       "50%                    0.000000                0.000000       0.000000  \n",
       "75%                    0.000000                0.000035       0.000000  \n",
       "max                    0.081650                0.240772       1.000000  "
      ]
     },
     "execution_count": 136,
     "metadata": {},
     "output_type": "execute_result"
    }
   ],
   "source": [
    "df = pd.read_csv('./data_normalized.csv')\n",
    "df.describe()"
   ]
  },
  {
   "cell_type": "code",
   "execution_count": 137,
   "id": "7d695676",
   "metadata": {},
   "outputs": [],
   "source": [
    "# get normal and abnormal data in df\n",
    "y_normal = df[df['target'] == 0]['target']\n",
    "X_normal = df[df['target'] == 0].drop(['target'], axis=1, inplace=False)\n",
    "\n",
    "y_attack = df[df['target'] == 1]['target']\n",
    "X_attack = df[df['target'] == 1].drop(['target'], axis=1, inplace=False)\n",
    "\n",
    "# split data into train and test\n",
    "# 70% normal data for training, 30% attack data for testing\n",
    "X_train_normal, X_test_normal, y_train_normal, y_test_normal = train_test_split(X_normal, y_normal, test_size=0.3, random_state=42)\n",
    "\n",
    "# 70% attack data for training, 30% attack data for testing\n",
    "X_train_attack, X_test_attack, y_train_attack, y_test_attack = train_test_split(X_attack, y_attack, test_size=0.3, random_state=42)\n",
    "\n",
    "# # # prepare data for train and test set\n",
    "X_train = pd.concat([X_train_normal, X_train_attack])\n",
    "y_train = pd.concat([y_train_normal, y_train_attack])\n",
    "\n",
    "X_test = pd.concat([X_test_normal, X_test_attack])\n",
    "y_test = pd.concat([y_test_normal, y_test_attack])"
   ]
  },
  {
   "cell_type": "code",
   "execution_count": 138,
   "id": "8dc41e13",
   "metadata": {},
   "outputs": [],
   "source": [
    "def train_classifier(models, X_train, y_train, X_test, y_test):\n",
    "    model_name, model = models\n",
    "    model.fit(X_train, y_train)\n",
    "    y_pred = model.predict(X_test)\n",
    "    scores = cross_val_score(model, X_train, y_train, cv=10)\n",
    "    accuracy = metrics.accuracy_score(y_test, y_pred)\n",
    "    classification = metrics.classification_report(y_test, y_pred)\n",
    "    print()\n",
    "    print(f\"============================== {model_name} Model Evaluation ==============================\")\n",
    "    print()\n",
    "    print (\"Cross Validation Mean Score:\" \"\\n\", scores.mean())\n",
    "    print()\n",
    "    print (\"Model Accuracy:\" \"\\n\", accuracy)\n",
    "    print()\n",
    "    print(\"Classification report:\" \"\\n\", classification) \n",
    "    print()\n",
    "    \n",
    "    ConfusionMatrixDisplay.from_predictions(y_test, y_pred, labels=[0, 1], display_labels=['Normal', 'Abnormal'])\n",
    "    # remove grid lines\n",
    "    plt.tick_params(axis=u'both', which=u'both',length=0)\n",
    "    plt.grid(visible=None)\n",
    "    plt.show()\n",
    "    return accuracy\n"
   ]
  },
  {
   "cell_type": "code",
   "execution_count": 139,
   "id": "332b5bb8",
   "metadata": {},
   "outputs": [],
   "source": [
    "# function to plot roc curve\n",
    "def plot_kfold_roc_curve(classifier,X,y,title):\n",
    "\n",
    "    # Run classifier with cross-validation and plot ROC curves\n",
    "    cv = StratifiedKFold(n_splits=5)\n",
    "\n",
    "    # defining the lists\n",
    "    tprs = []\n",
    "    aucs = []\n",
    "    f1s = []\n",
    "    mean_fpr = np.linspace(0, 1, 100)\n",
    "    \n",
    "    fig, ax = plt.subplots(figsize=(8,6))\n",
    "    for i, (train, test) in enumerate(cv.split(X, y)):\n",
    "        classifier.fit(X.iloc[train], y.iloc[train].values.ravel())\n",
    "        # Compute ROC curve and area under the curve (roc/auc)\n",
    "        viz = RocCurveDisplay.from_estimator(\n",
    "            classifier,\n",
    "            X.iloc[test],\n",
    "            y.iloc[test],\n",
    "            name=f\"ROC fold {i}\",\n",
    "            alpha=0.3,\n",
    "            lw=1,\n",
    "            ax=ax,\n",
    "        )\n",
    "        interp_tpr = np.interp(mean_fpr, viz.fpr, viz.tpr)\n",
    "        interp_tpr[0] = 0.0\n",
    "        tprs.append(interp_tpr)\n",
    "        aucs.append(viz.roc_auc)\n",
    "        y_pred = classifier.predict(X.iloc[test])\n",
    "        f1s.append(f1_score(y_true = y.iloc[test],y_pred = y_pred))\n",
    "    print(f\"average f1 score is: {sum(f1s)/len(f1s)}\")\n",
    "    ax.plot([0, 1], [0, 1], linestyle=\"--\", lw=2, color=\"r\", label=\"Chance\", alpha=0.8)\n",
    "\n",
    "    mean_tpr = np.mean(tprs, axis=0)\n",
    "    mean_tpr[-1] = 1.0\n",
    "    mean_auc = auc(mean_fpr, mean_tpr)\n",
    "    std_auc = np.std(aucs)\n",
    "    ax.plot(\n",
    "        mean_fpr,\n",
    "        mean_tpr,\n",
    "        color=\"b\",\n",
    "        label=r\"Mean ROC (AUC = %0.2f $\\pm$ %0.2f)\" % (mean_auc, std_auc),\n",
    "        lw=2,\n",
    "        alpha=0.8,\n",
    "    )\n",
    "\n",
    "    std_tpr = np.std(tprs, axis=0)\n",
    "    tprs_upper = np.minimum(mean_tpr + std_tpr, 1)\n",
    "    tprs_lower = np.maximum(mean_tpr - std_tpr, 0)\n",
    "    ax.fill_between(\n",
    "        mean_fpr,\n",
    "        tprs_lower,\n",
    "        tprs_upper,\n",
    "        color=\"grey\",\n",
    "        alpha=0.2,\n",
    "        label=r\"$\\pm$ 1 std. dev.\",\n",
    "    )\n",
    "\n",
    "    ax.set(\n",
    "        xlim=[-0.05, 1.05],\n",
    "        ylim=[-0.05, 1.05],\n",
    "        title=title,\n",
    "    )\n",
    "    ax.legend(loc=\"lower right\")\n",
    "    plt.show()\n",
    "    "
   ]
  },
  {
   "cell_type": "code",
   "execution_count": 140,
   "id": "d9a18430",
   "metadata": {},
   "outputs": [],
   "source": [
    "# function to plot prc curve\n",
    "\n",
    "def plot_prc_curve(classifier, X, y, title, n_folds = 5):\n",
    "    \n",
    "    cv = StratifiedKFold(n_splits = n_folds)    \n",
    "\n",
    "    # defining the lists\n",
    "    prs = []\n",
    "    aucs = []\n",
    "    mean_recall = np.linspace(0, 1, 100)\n",
    "    f1s = []\n",
    "    \n",
    "    plt.figure(figsize=(8 , 6))\n",
    "    i = 0\n",
    "    for train, test in cv.split(X, y):\n",
    "        probas_ = classifier.fit(X.iloc[train], y.iloc[train].values.ravel()).predict_proba(X.iloc[test])\n",
    "        # Compute PR curve and area the curve\n",
    "        precision, recall, thresholds = precision_recall_curve(y.iloc[test], probas_[:, 1])\n",
    "        prs.append(np.interp(mean_recall, precision, recall))\n",
    "        pr_auc = auc(recall, precision)\n",
    "        aucs.append(pr_auc)\n",
    "        \n",
    "        #compute f1 score\n",
    "        y_pred = classifier.predict(X.iloc[test])\n",
    "        f1s.append(f1_score(y_true = y.iloc[test],y_pred = y_pred))\n",
    "        \n",
    "        plt.plot(recall, precision, lw=1, alpha=0.5, label='Fold %d (AUCPR = %0.2f)' % (i+1, pr_auc))\n",
    "        i += 1\n",
    "    \n",
    "    plt.plot([0, 1], [1, 0], linestyle='--', lw=2, color='r', label='Chance', alpha=.8)\n",
    "    mean_precision = np.mean(prs, axis=0)\n",
    "    mean_auc = auc(mean_recall, mean_precision)\n",
    "    std_auc = np.std(aucs)\n",
    "    print(\"Average f1 score is: %f\" % (sum(f1s)/len(f1s)))\n",
    "    plt.plot(mean_precision, mean_recall, color='b',\n",
    "             label=r'Mean (AUCPR = %0.3f $\\pm$ %0.2f)' % (mean_auc, std_auc),\n",
    "             lw=2)\n",
    "    \n",
    "\n",
    "    plt.xlim([-0.05, 1.05])\n",
    "    plt.ylim([-0.05, 1.05])\n",
    "    plt.xlabel('Recall' )\n",
    "    plt.ylabel('Precision')\n",
    "    plt.title(title)\n",
    "#     plt.tick_params(axis='both', which='major', labelsize=20)\n",
    "    plt.legend(loc = \"lower left\")\n",
    "    plt.show()"
   ]
  },
  {
   "cell_type": "markdown",
   "id": "f90d0569",
   "metadata": {},
   "source": [
    "### K Nearest Neighbors"
   ]
  },
  {
   "cell_type": "code",
   "execution_count": 142,
   "id": "fdae4e4c",
   "metadata": {},
   "outputs": [
    {
     "name": "stdout",
     "output_type": "stream",
     "text": [
      "\n",
      "============================== KNN Model Evaluation ==============================\n",
      "\n",
      "Cross Validation Mean Score:\n",
      " 0.9971664340756021\n",
      "\n",
      "Model Accuracy:\n",
      " 0.9974092163941389\n",
      "\n",
      "Classification report:\n",
      "               precision    recall  f1-score   support\n",
      "\n",
      "           0       1.00      1.00      1.00     62057\n",
      "           1       1.00      0.98      0.99      8578\n",
      "\n",
      "    accuracy                           1.00     70635\n",
      "   macro avg       1.00      0.99      0.99     70635\n",
      "weighted avg       1.00      1.00      1.00     70635\n",
      "\n",
      "\n"
     ]
    },
    {
     "data": {
      "image/png": "[encoded data removed]",
      "text/plain": [
       "<Figure size 432x288 with 2 Axes>"
      ]
     },
     "metadata": {
      "needs_background": "light"
     },
     "output_type": "display_data"
    },
    {
     "name": "stdout",
     "output_type": "stream",
     "text": [
      "\n",
      "============================== KNN Model Evaluation ==============================\n",
      "\n",
      "Cross Validation Mean Score:\n",
      " 0.9971603664826162\n",
      "\n",
      "Model Accuracy:\n",
      " 0.9975932611311673\n",
      "\n",
      "Classification report:\n",
      "               precision    recall  f1-score   support\n",
      "\n",
      "           0       1.00      1.00      1.00     62057\n",
      "           1       0.99      0.99      0.99      8578\n",
      "\n",
      "    accuracy                           1.00     70635\n",
      "   macro avg       0.99      0.99      0.99     70635\n",
      "weighted avg       1.00      1.00      1.00     70635\n",
      "\n",
      "\n"
     ]
    },
    {
     "data": {
      "image/png": "[encoded data removed]",
      "text/plain": [
       "<Figure size 432x288 with 2 Axes>"
      ]
     },
     "metadata": {
      "needs_background": "light"
     },
     "output_type": "display_data"
    },
    {
     "name": "stdout",
     "output_type": "stream",
     "text": [
      "\n",
      "============================== KNN Model Evaluation ==============================\n",
      "\n",
      "Cross Validation Mean Score:\n",
      " 0.9969662035070688\n",
      "\n",
      "Model Accuracy:\n",
      " 0.9972676435195017\n",
      "\n",
      "Classification report:\n",
      "               precision    recall  f1-score   support\n",
      "\n",
      "           0       1.00      1.00      1.00     62057\n",
      "           1       0.99      0.98      0.99      8578\n",
      "\n",
      "    accuracy                           1.00     70635\n",
      "   macro avg       1.00      0.99      0.99     70635\n",
      "weighted avg       1.00      1.00      1.00     70635\n",
      "\n",
      "\n"
     ]
    },
    {
     "data": {
      "image/png": "[encoded data removed]",
      "text/plain": [
       "<Figure size 432x288 with 2 Axes>"
      ]
     },
     "metadata": {
      "needs_background": "light"
     },
     "output_type": "display_data"
    },
    {
     "name": "stdout",
     "output_type": "stream",
     "text": [
      "\n",
      "============================== KNN Model Evaluation ==============================\n",
      "\n",
      "Cross Validation Mean Score:\n",
      " 0.9968630544263091\n",
      "\n",
      "Model Accuracy:\n",
      " 0.9972251716571104\n",
      "\n",
      "Classification report:\n",
      "               precision    recall  f1-score   support\n",
      "\n",
      "           0       1.00      1.00      1.00     62057\n",
      "           1       0.99      0.99      0.99      8578\n",
      "\n",
      "    accuracy                           1.00     70635\n",
      "   macro avg       0.99      0.99      0.99     70635\n",
      "weighted avg       1.00      1.00      1.00     70635\n",
      "\n",
      "\n"
     ]
    },
    {
     "data": {
      "image/png": "[encoded data removed]",
      "text/plain": [
       "<Figure size 432x288 with 2 Axes>"
      ]
     },
     "metadata": {
      "needs_background": "light"
     },
     "output_type": "display_data"
    },
    {
     "name": "stdout",
     "output_type": "stream",
     "text": [
      "\n",
      "============================== KNN Model Evaluation ==============================\n",
      "\n",
      "Cross Validation Mean Score:\n",
      " 0.9967174321946484\n",
      "\n",
      "Model Accuracy:\n",
      " 0.9969278686203723\n",
      "\n",
      "Classification report:\n",
      "               precision    recall  f1-score   support\n",
      "\n",
      "           0       1.00      1.00      1.00     62057\n",
      "           1       0.99      0.98      0.99      8578\n",
      "\n",
      "    accuracy                           1.00     70635\n",
      "   macro avg       0.99      0.99      0.99     70635\n",
      "weighted avg       1.00      1.00      1.00     70635\n",
      "\n",
      "\n"
     ]
    },
    {
     "data": {
      "image/png": "[encoded data removed]",
      "text/plain": [
       "<Figure size 432x288 with 2 Axes>"
      ]
     },
     "metadata": {
      "needs_background": "light"
     },
     "output_type": "display_data"
    },
    {
     "name": "stdout",
     "output_type": "stream",
     "text": [
      "\n",
      "============================== KNN Model Evaluation ==============================\n",
      "\n",
      "Cross Validation Mean Score:\n",
      " 0.9965900127419453\n",
      "\n",
      "Model Accuracy:\n",
      " 0.9968712394705175\n",
      "\n",
      "Classification report:\n",
      "               precision    recall  f1-score   support\n",
      "\n",
      "           0       1.00      1.00      1.00     62057\n",
      "           1       0.99      0.98      0.99      8578\n",
      "\n",
      "    accuracy                           1.00     70635\n",
      "   macro avg       0.99      0.99      0.99     70635\n",
      "weighted avg       1.00      1.00      1.00     70635\n",
      "\n",
      "\n"
     ]
    },
    {
     "data": {
      "image/png": "[encoded data removed]",
      "text/plain": [
       "<Figure size 432x288 with 2 Axes>"
      ]
     },
     "metadata": {
      "needs_background": "light"
     },
     "output_type": "display_data"
    },
    {
     "name": "stdout",
     "output_type": "stream",
     "text": [
      "\n",
      "============================== KNN Model Evaluation ==============================\n",
      "\n",
      "Cross Validation Mean Score:\n",
      " 0.9964140525453555\n",
      "\n",
      "Model Accuracy:\n",
      " 0.996588093721243\n",
      "\n",
      "Classification report:\n",
      "               precision    recall  f1-score   support\n",
      "\n",
      "           0       1.00      1.00      1.00     62057\n",
      "           1       0.99      0.98      0.99      8578\n",
      "\n",
      "    accuracy                           1.00     70635\n",
      "   macro avg       0.99      0.99      0.99     70635\n",
      "weighted avg       1.00      1.00      1.00     70635\n",
      "\n",
      "\n"
     ]
    },
    {
     "data": {
      "image/png": "[encoded data removed]",
      "text/plain": [
       "<Figure size 432x288 with 2 Axes>"
      ]
     },
     "metadata": {
      "needs_background": "light"
     },
     "output_type": "display_data"
    },
    {
     "name": "stdout",
     "output_type": "stream",
     "text": [
      "\n",
      "============================== KNN Model Evaluation ==============================\n",
      "\n",
      "Cross Validation Mean Score:\n",
      " 0.9962380923487653\n",
      "\n",
      "Model Accuracy:\n",
      " 0.9964465208466058\n",
      "\n",
      "Classification report:\n",
      "               precision    recall  f1-score   support\n",
      "\n",
      "           0       1.00      1.00      1.00     62057\n",
      "           1       0.99      0.98      0.99      8578\n",
      "\n",
      "    accuracy                           1.00     70635\n",
      "   macro avg       0.99      0.99      0.99     70635\n",
      "weighted avg       1.00      1.00      1.00     70635\n",
      "\n",
      "\n"
     ]
    },
    {
     "data": {
      "image/png": "[encoded data removed]",
      "text/plain": [
       "<Figure size 432x288 with 2 Axes>"
      ]
     },
     "metadata": {
      "needs_background": "light"
     },
     "output_type": "display_data"
    },
    {
     "name": "stdout",
     "output_type": "stream",
     "text": [
      "\n",
      "============================== KNN Model Evaluation ==============================\n",
      "\n",
      "Cross Validation Mean Score:\n",
      " 0.9960924701171047\n",
      "\n",
      "Model Accuracy:\n",
      " 0.9963615771218235\n",
      "\n",
      "Classification report:\n",
      "               precision    recall  f1-score   support\n",
      "\n",
      "           0       1.00      1.00      1.00     62057\n",
      "           1       0.99      0.98      0.98      8578\n",
      "\n",
      "    accuracy                           1.00     70635\n",
      "   macro avg       0.99      0.99      0.99     70635\n",
      "weighted avg       1.00      1.00      1.00     70635\n",
      "\n",
      "\n"
     ]
    },
    {
     "data": {
      "image/png": "[encoded data removed]",
      "text/plain": [
       "<Figure size 432x288 with 2 Axes>"
      ]
     },
     "metadata": {
      "needs_background": "light"
     },
     "output_type": "display_data"
    },
    {
     "name": "stdout",
     "output_type": "stream",
     "text": [
      "the best parameter k: 3\n"
     ]
    }
   ],
   "source": [
    "from sklearn.neighbors import KNeighborsClassifier\n",
    "\n",
    "acry_list = []\n",
    "k_list = range(2,11)\n",
    "for k in k_list:\n",
    "    accuracy = train_classifier((\"KNN\", KNeighborsClassifier(n_neighbors=k)), X_train, y_train, X_test, y_test)\n",
    "    acry_list.append(accuracy)\n",
    "    \n",
    "idx = acry_list.index(max(acry_list))\n",
    "best_k = list(k_list)[idx]\n",
    "print(f\"the best parameter k: {best_k}\")"
   ]
  },
  {
   "cell_type": "code",
   "execution_count": 122,
   "id": "a2a4f745",
   "metadata": {},
   "outputs": [
    {
     "name": "stdout",
     "output_type": "stream",
     "text": [
      "Average f1 score is: 0.942440\n"
     ]
    },
    {
     "data": {
      "image/png": "[encoded data removed]",
      "text/plain": [
       "<Figure size 576x432 with 1 Axes>"
      ]
     },
     "metadata": {
      "needs_background": "light"
     },
     "output_type": "display_data"
    }
   ],
   "source": [
    "classifier = KNeighborsClassifier(n_neighbors=best_k)\n",
    "X2 = X.iloc[:5000, :]\n",
    "y2 = y.iloc[:5000]\n",
    "plot_prc_curve(classifier, X2, y2, title = \"PRC curve\")"
   ]
  },
  {
   "cell_type": "code",
   "execution_count": null,
   "id": "2604c6fe",
   "metadata": {},
   "outputs": [],
   "source": []
  }
 ],
 "metadata": {
  "kernelspec": {
   "display_name": "Python (secana)",
   "language": "python",
   "name": "secana"
  },
  "language_info": {
   "codemirror_mode": {
    "name": "ipython",
    "version": 3
   },
   "file_extension": ".py",
   "mimetype": "text/x-python",
   "name": "python",
   "nbconvert_exporter": "python",
   "pygments_lexer": "ipython3",
   "version": "3.9.7"
  }
 },
 "nbformat": 4,
 "nbformat_minor": 5
}
