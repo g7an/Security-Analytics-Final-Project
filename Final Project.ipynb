{
 "cells": [
  {
   "cell_type": "code",
   "execution_count": 20,
   "id": "aafd7886",
   "metadata": {},
   "outputs": [],
   "source": [
    "import pandas as pd\n",
    "import numpy as np\n",
    "import matplotlib.pyplot as plt\n",
    "from sklearn import metrics\n",
    "from sklearn.model_selection import train_test_split\n",
    "from sklearn.svm import OneClassSVM\n",
    "from sklearn.metrics import accuracy_score\n",
    "# Use GridSearchCV to find the best parameters for the model\n",
    "from sklearn.model_selection import GridSearchCV\n",
    "from sklearn.metrics import ConfusionMatrixDisplay, roc_curve, auc, precision_recall_curve, RocCurveDisplay, f1_score\n",
    "from sklearn.model_selection import cross_val_score\n",
    "from sklearn.ensemble import RandomForestClassifier\n",
    "from sklearn.model_selection import KFold, train_test_split, StratifiedKFold\n",
    "from xgboost import XGBClassifier"
   ]
  },
  {
   "cell_type": "markdown",
   "id": "991071ee",
   "metadata": {},
   "source": [
    "# Anomaly Detection using One class SVM"
   ]
  },
  {
   "cell_type": "markdown",
   "id": "84a8dedf",
   "metadata": {},
   "source": [
    "## Pre-process data"
   ]
  },
  {
   "cell_type": "code",
   "execution_count": 21,
   "id": "194f15a5",
   "metadata": {},
   "outputs": [
    {
     "data": {
      "text/html": [
       "<div>\n",
       "<style scoped>\n",
       "    .dataframe tbody tr th:only-of-type {\n",
       "        vertical-align: middle;\n",
       "    }\n",
       "\n",
       "    .dataframe tbody tr th {\n",
       "        vertical-align: top;\n",
       "    }\n",
       "\n",
       "    .dataframe thead th {\n",
       "        text-align: right;\n",
       "    }\n",
       "</style>\n",
       "<table border=\"1\" class=\"dataframe\">\n",
       "  <thead>\n",
       "    <tr style=\"text-align: right;\">\n",
       "      <th></th>\n",
       "      <th>duration</th>\n",
       "      <th>protocol_type</th>\n",
       "      <th>service</th>\n",
       "      <th>flag</th>\n",
       "      <th>src_bytes</th>\n",
       "      <th>dst_bytes</th>\n",
       "      <th>land</th>\n",
       "      <th>wrong_fragment</th>\n",
       "      <th>urgent</th>\n",
       "      <th>hot</th>\n",
       "      <th>...</th>\n",
       "      <th>dst_host_srv_count</th>\n",
       "      <th>dst_host_same_srv_rate</th>\n",
       "      <th>dst_host_diff_srv_rate</th>\n",
       "      <th>dst_host_same_src_port_rate</th>\n",
       "      <th>dst_host_srv_diff_host_rate</th>\n",
       "      <th>dst_host_serror_rate</th>\n",
       "      <th>dst_host_srv_serror_rate</th>\n",
       "      <th>dst_host_rerror_rate</th>\n",
       "      <th>dst_host_srv_rerror_rate</th>\n",
       "      <th>target</th>\n",
       "    </tr>\n",
       "  </thead>\n",
       "  <tbody>\n",
       "    <tr>\n",
       "      <th>0</th>\n",
       "      <td>0</td>\n",
       "      <td>2</td>\n",
       "      <td>23</td>\n",
       "      <td>9</td>\n",
       "      <td>302</td>\n",
       "      <td>1023</td>\n",
       "      <td>0</td>\n",
       "      <td>0</td>\n",
       "      <td>0</td>\n",
       "      <td>0</td>\n",
       "      <td>...</td>\n",
       "      <td>255</td>\n",
       "      <td>1.00</td>\n",
       "      <td>0.00</td>\n",
       "      <td>0.00</td>\n",
       "      <td>0.00</td>\n",
       "      <td>0.0</td>\n",
       "      <td>0.0</td>\n",
       "      <td>0.0</td>\n",
       "      <td>0.0</td>\n",
       "      <td>0</td>\n",
       "    </tr>\n",
       "    <tr>\n",
       "      <th>1</th>\n",
       "      <td>0</td>\n",
       "      <td>3</td>\n",
       "      <td>41</td>\n",
       "      <td>9</td>\n",
       "      <td>48</td>\n",
       "      <td>48</td>\n",
       "      <td>0</td>\n",
       "      <td>0</td>\n",
       "      <td>0</td>\n",
       "      <td>0</td>\n",
       "      <td>...</td>\n",
       "      <td>9</td>\n",
       "      <td>0.08</td>\n",
       "      <td>0.02</td>\n",
       "      <td>0.08</td>\n",
       "      <td>0.00</td>\n",
       "      <td>0.0</td>\n",
       "      <td>0.0</td>\n",
       "      <td>0.0</td>\n",
       "      <td>0.0</td>\n",
       "      <td>0</td>\n",
       "    </tr>\n",
       "    <tr>\n",
       "      <th>2</th>\n",
       "      <td>0</td>\n",
       "      <td>2</td>\n",
       "      <td>23</td>\n",
       "      <td>9</td>\n",
       "      <td>334</td>\n",
       "      <td>2096</td>\n",
       "      <td>0</td>\n",
       "      <td>0</td>\n",
       "      <td>0</td>\n",
       "      <td>0</td>\n",
       "      <td>...</td>\n",
       "      <td>255</td>\n",
       "      <td>1.00</td>\n",
       "      <td>0.00</td>\n",
       "      <td>0.03</td>\n",
       "      <td>0.03</td>\n",
       "      <td>0.0</td>\n",
       "      <td>0.0</td>\n",
       "      <td>0.0</td>\n",
       "      <td>0.0</td>\n",
       "      <td>0</td>\n",
       "    </tr>\n",
       "    <tr>\n",
       "      <th>3</th>\n",
       "      <td>0</td>\n",
       "      <td>2</td>\n",
       "      <td>23</td>\n",
       "      <td>9</td>\n",
       "      <td>211</td>\n",
       "      <td>1796</td>\n",
       "      <td>0</td>\n",
       "      <td>0</td>\n",
       "      <td>0</td>\n",
       "      <td>0</td>\n",
       "      <td>...</td>\n",
       "      <td>255</td>\n",
       "      <td>1.00</td>\n",
       "      <td>0.00</td>\n",
       "      <td>0.05</td>\n",
       "      <td>0.04</td>\n",
       "      <td>0.0</td>\n",
       "      <td>0.0</td>\n",
       "      <td>0.0</td>\n",
       "      <td>0.0</td>\n",
       "      <td>0</td>\n",
       "    </tr>\n",
       "    <tr>\n",
       "      <th>4</th>\n",
       "      <td>0</td>\n",
       "      <td>2</td>\n",
       "      <td>23</td>\n",
       "      <td>9</td>\n",
       "      <td>210</td>\n",
       "      <td>396</td>\n",
       "      <td>0</td>\n",
       "      <td>0</td>\n",
       "      <td>0</td>\n",
       "      <td>0</td>\n",
       "      <td>...</td>\n",
       "      <td>255</td>\n",
       "      <td>1.00</td>\n",
       "      <td>0.00</td>\n",
       "      <td>0.00</td>\n",
       "      <td>0.00</td>\n",
       "      <td>0.0</td>\n",
       "      <td>0.0</td>\n",
       "      <td>0.0</td>\n",
       "      <td>0.0</td>\n",
       "      <td>0</td>\n",
       "    </tr>\n",
       "  </tbody>\n",
       "</table>\n",
       "<p>5 rows × 41 columns</p>\n",
       "</div>"
      ],
      "text/plain": [
       "   duration  protocol_type  service  flag  src_bytes  dst_bytes  land  \\\n",
       "0         0              2       23     9        302       1023     0   \n",
       "1         0              3       41     9         48         48     0   \n",
       "2         0              2       23     9        334       2096     0   \n",
       "3         0              2       23     9        211       1796     0   \n",
       "4         0              2       23     9        210        396     0   \n",
       "\n",
       "   wrong_fragment  urgent  hot  ...  dst_host_srv_count  \\\n",
       "0               0       0    0  ...                 255   \n",
       "1               0       0    0  ...                   9   \n",
       "2               0       0    0  ...                 255   \n",
       "3               0       0    0  ...                 255   \n",
       "4               0       0    0  ...                 255   \n",
       "\n",
       "   dst_host_same_srv_rate  dst_host_diff_srv_rate  \\\n",
       "0                    1.00                    0.00   \n",
       "1                    0.08                    0.02   \n",
       "2                    1.00                    0.00   \n",
       "3                    1.00                    0.00   \n",
       "4                    1.00                    0.00   \n",
       "\n",
       "   dst_host_same_src_port_rate  dst_host_srv_diff_host_rate  \\\n",
       "0                         0.00                         0.00   \n",
       "1                         0.08                         0.00   \n",
       "2                         0.03                         0.03   \n",
       "3                         0.05                         0.04   \n",
       "4                         0.00                         0.00   \n",
       "\n",
       "   dst_host_serror_rate  dst_host_srv_serror_rate  dst_host_rerror_rate  \\\n",
       "0                   0.0                       0.0                   0.0   \n",
       "1                   0.0                       0.0                   0.0   \n",
       "2                   0.0                       0.0                   0.0   \n",
       "3                   0.0                       0.0                   0.0   \n",
       "4                   0.0                       0.0                   0.0   \n",
       "\n",
       "   dst_host_srv_rerror_rate  target  \n",
       "0                       0.0       0  \n",
       "1                       0.0       0  \n",
       "2                       0.0       0  \n",
       "3                       0.0       0  \n",
       "4                       0.0       0  \n",
       "\n",
       "[5 rows x 41 columns]"
      ]
     },
     "execution_count": 21,
     "metadata": {},
     "output_type": "execute_result"
    }
   ],
   "source": [
    "df = pd.read_csv('data_cleaned.csv')\n",
    "\n",
    "df.head()"
   ]
  },
  {
   "cell_type": "code",
   "execution_count": 22,
   "id": "378dfcae",
   "metadata": {},
   "outputs": [
    {
     "data": {
      "text/plain": [
       " 1    206854\n",
       "-1     28591\n",
       "Name: target, dtype: int64"
      ]
     },
     "execution_count": 22,
     "metadata": {},
     "output_type": "execute_result"
    }
   ],
   "source": [
    "# process data, 1: normal; [0, 3, 4] -> -1: abnormal\n",
    "\n",
    "df['target'] = df['target'].apply(lambda x: -1 if x==1  else 1)\n",
    "# print(df['target'])\n",
    "\n",
    "# count values of each target\n",
    "df['target'].value_counts()"
   ]
  },
  {
   "cell_type": "markdown",
   "id": "ebb4d3c4",
   "metadata": {},
   "source": [
    "## Split data \n",
    "In this part, we are trying to conduct novelty detection, which is a kind of anomaly detection: https://scikit-learn.org/stable/modules/outlier_detection.html#outlier-detection\n",
    "Use normal data as the training data, and abnormal data + normal data as the testing data"
   ]
  },
  {
   "cell_type": "code",
   "execution_count": 23,
   "id": "93f16e6a",
   "metadata": {},
   "outputs": [],
   "source": [
    "# split data into train and test\n",
    "\n",
    "\n",
    "# get normal and abnormal data in df\n",
    "y = df[df['target'] == 1]['target']\n",
    "X = df[df['target'] == 1].drop(['target'], axis=1, inplace=False)\n",
    "\n",
    "y_outlier = df[df['target'] == -1]['target']\n",
    "X_outlier = df[df['target'] == -1].drop(['target'], axis=1, inplace=False)\n",
    "\n",
    "# split data into train and test\n",
    "# 50% normal only data for training\n",
    "X_train, X_test_normal, y_train, y_test_normal = train_test_split(X, y, test_size=0.3, random_state=42)\n",
    "\n",
    "# 50% normal + 50% abnormal data for testing\n",
    "_, X_test_ab, _, y_test_ab = train_test_split(X_outlier, y_outlier, test_size=0.5, random_state=42)\n",
    "\n",
    "# # # prepare data for testing\n",
    "X_test = pd.concat([X_test_normal, X_test_ab])\n",
    "y_test = pd.concat([y_test_normal, y_test_ab])\n",
    "\n",
    "\n"
   ]
  },
  {
   "cell_type": "markdown",
   "id": "91f1606c",
   "metadata": {},
   "source": [
    "## Fine tune model\n",
    "Use GridSearchCV to fine-tune the model and find the best parameter set."
   ]
  },
  {
   "cell_type": "code",
   "execution_count": 24,
   "id": "ef6a3d43",
   "metadata": {},
   "outputs": [],
   "source": [
    "# only run this if you want to train on a portion of dataset\n",
    "X_train = X_train.iloc[:5000, :]\n",
    "y_train = y_train.iloc[:5000]\n",
    "\n",
    "X_test1 = X_test.iloc[:2500, :]\n",
    "X_test2 = X_test.iloc[-2500:, :]\n",
    "y_test1 = y_test.iloc[:2500]\n",
    "y_test2 = y_test.iloc[-2500:]\n",
    "\n",
    "X_test = pd.concat([X_test1, X_test2], axis=0)\n",
    "y_test = pd.concat([y_test1, y_test2], axis=0)"
   ]
  },
  {
   "cell_type": "code",
   "execution_count": 30,
   "id": "52885674",
   "metadata": {},
   "outputs": [
    {
     "name": "stdout",
     "output_type": "stream",
     "text": [
      "    mean_test_score  std_test_score  \\\n",
      "0               1.0             0.0   \n",
      "1               1.0             0.0   \n",
      "20              1.0             0.0   \n",
      "21              1.0             0.0   \n",
      "22              1.0             0.0   \n",
      "\n",
      "                                            params  \n",
      "0   {'gamma': 0.005, 'kernel': 'rbf', 'nu': 0.001}  \n",
      "1    {'gamma': 0.005, 'kernel': 'rbf', 'nu': 0.01}  \n",
      "20    {'gamma': 0.25, 'kernel': 'rbf', 'nu': 0.05}  \n",
      "21     {'gamma': 0.25, 'kernel': 'rbf', 'nu': 0.1}  \n",
      "22    {'gamma': 0.25, 'kernel': 'rbf', 'nu': 0.25}  \n",
      "Best parameters set found on development set:\n",
      "\n",
      "{'gamma': 0.005, 'kernel': 'rbf', 'nu': 0.001}\n",
      "   mean_test_score  std_test_score  \\\n",
      "0         0.065600        0.001025   \n",
      "6         0.063599        0.003684   \n",
      "1         0.062399        0.002229   \n",
      "3         0.059799        0.004265   \n",
      "2         0.057999        0.003661   \n",
      "\n",
      "                                           params  \n",
      "0  {'gamma': 0.005, 'kernel': 'rbf', 'nu': 0.001}  \n",
      "6   {'gamma': 0.01, 'kernel': 'rbf', 'nu': 0.001}  \n",
      "1   {'gamma': 0.005, 'kernel': 'rbf', 'nu': 0.01}  \n",
      "3    {'gamma': 0.005, 'kernel': 'rbf', 'nu': 0.1}  \n",
      "2   {'gamma': 0.005, 'kernel': 'rbf', 'nu': 0.05}  \n",
      "Best parameters set found on development set:\n",
      "\n",
      "{'gamma': 0.005, 'kernel': 'rbf', 'nu': 0.001}\n"
     ]
    }
   ],
   "source": [
    "\n",
    "# suppress `zero_division` warning (we are just using normal data to train)\n",
    "import warnings\n",
    "warnings.filterwarnings('ignore')\n",
    "\n",
    "nus = [0.001, 0.01, 0.05, 0.1, 0.25, 0.5]\n",
    "gammas = [0.005, 0.01, 0.1, 0.25, 0.5, 1]\n",
    "\n",
    "tuned_parameters = {'kernel' : ['rbf'], 'gamma' : gammas, 'nu': nus}\n",
    "scores = ['precision', 'recall']\n",
    "\n",
    "\n",
    "for score in scores:\n",
    "    clf = GridSearchCV(OneClassSVM(), tuned_parameters, cv=3,\n",
    "                           scoring=f'{score}', return_train_score=True)\n",
    "\n",
    "    clf.fit(X_train, y_train)\n",
    "\n",
    "    resultDf = pd.DataFrame(clf.cv_results_)\n",
    "    print(resultDf[[\"mean_test_score\", \"std_test_score\", \"params\"]].sort_values(by=[\"mean_test_score\"], ascending=False).head())\n",
    "\n",
    "    print(\"Best parameters set found on development set:\")\n",
    "    print()\n",
    "    print(clf.best_params_)"
   ]
  },
  {
   "cell_type": "markdown",
   "id": "94632ce9",
   "metadata": {},
   "source": [
    "## Train the model with the best parameter set"
   ]
  },
  {
   "cell_type": "code",
   "execution_count": 25,
   "id": "766b5f3e",
   "metadata": {},
   "outputs": [],
   "source": [
    "\n",
    "\n",
    "def train_classifier(models, X_train, y_train, X_test, y_test):\n",
    "    model_name, model = models\n",
    "    model.fit(X_train, y_train)\n",
    "    y_pred = model.predict(X_test)\n",
    "    accuracy = metrics.accuracy_score(y_test, y_pred)\n",
    "    classification = metrics.classification_report(y_test, y_pred)\n",
    "    print()\n",
    "    print(f\"============================== {model_name} Model Evaluation ==============================\")\n",
    "    print()\n",
    "    print (\"Model Accuracy:\" \"\\n\", accuracy)\n",
    "    print()\n",
    "    print(\"Classification report:\" \"\\n\", classification) \n",
    "    print()\n",
    "    \n",
    "    ConfusionMatrixDisplay.from_predictions(y_test, y_pred)\n",
    "    plt.show()"
   ]
  },
  {
   "cell_type": "code",
   "execution_count": 26,
   "id": "43bba938",
   "metadata": {},
   "outputs": [],
   "source": [
    "model = OneClassSVM(kernel = 'rbf', gamma = 0.001, nu = 0.05).fit(X_train)\n",
    "# predict normal and abnormal data\n",
    "y_pred = model.predict(X_test)"
   ]
  },
  {
   "cell_type": "code",
   "execution_count": 27,
   "id": "85b63ea1",
   "metadata": {},
   "outputs": [
    {
     "data": {
      "text/plain": [
       "0.6004"
      ]
     },
     "execution_count": 27,
     "metadata": {},
     "output_type": "execute_result"
    }
   ],
   "source": [
    "accuracy_score(y_test, y_pred)"
   ]
  },
  {
   "cell_type": "code",
   "execution_count": 28,
   "id": "9b76e6c3",
   "metadata": {},
   "outputs": [
    {
     "name": "stdout",
     "output_type": "stream",
     "text": [
      "\n",
      "============================== OneClassSVM Model Evaluation ==============================\n",
      "\n",
      "Model Accuracy:\n",
      " 0.6004\n",
      "\n",
      "Classification report:\n",
      "               precision    recall  f1-score   support\n",
      "\n",
      "          -1       0.56      0.99      0.71      2500\n",
      "           1       0.96      0.21      0.34      2500\n",
      "\n",
      "    accuracy                           0.60      5000\n",
      "   macro avg       0.76      0.60      0.53      5000\n",
      "weighted avg       0.76      0.60      0.53      5000\n",
      "\n",
      "\n"
     ]
    },
    {
     "data": {
      "image/png": "[encoded data removed]",
      "text/plain": [
       "<Figure size 432x288 with 2 Axes>"
      ]
     },
     "metadata": {
      "needs_background": "light"
     },
     "output_type": "display_data"
    }
   ],
   "source": [
    "model = OneClassSVM(kernel = 'rbf', gamma = 0.001, nu = 0.05)\n",
    "\n",
    "train_classifier(('OneClassSVM', model), X_train, y_train, X_test, y_test)"
   ]
  },
  {
   "cell_type": "code",
   "execution_count": 29,
   "id": "2b1d8f98",
   "metadata": {},
   "outputs": [
    {
     "data": {
      "text/plain": [
       "[<matplotlib.lines.Line2D at 0x7fc7b02a4940>]"
      ]
     },
     "execution_count": 29,
     "metadata": {},
     "output_type": "execute_result"
    },
    {
     "data": {
      "image/png": "[encoded data removed]",
      "text/plain": [
       "<Figure size 576x432 with 1 Axes>"
      ]
     },
     "metadata": {
      "needs_background": "light"
     },
     "output_type": "display_data"
    }
   ],
   "source": [
    "\n",
    "\n",
    "fpr, tpr, thresholds = roc_curve(y_test, y_pred)\n",
    "\n",
    "# then you can plot(fpr, tpr) to get the roc curve and compute the AUC with:\n",
    "AUC = auc(fpr, tpr)\n",
    "fig, ax = plt.subplots(figsize=(8,6))\n",
    "# plot the roc curve\n",
    "ax.plot([0, 1], [0, 1], linestyle=\"--\", lw=2, color=\"r\", label=\"Chance\", alpha=0.8)\n",
    "\n",
    "plt.plot(fpr, tpr, label='ROC curve (area = %0.2f)' % AUC)\n"
   ]
  },
  {
   "cell_type": "markdown",
   "id": "be1df50c",
   "metadata": {},
   "source": [
    "## Misused Detection (Machine Learning Algorithms)"
   ]
  },
  {
   "cell_type": "code",
   "execution_count": 136,
   "id": "aea5ec7c",
   "metadata": {},
   "outputs": [],
   "source": [
    "# import libraries\n",
    "\n"
   ]
  },
  {
   "cell_type": "code",
   "execution_count": 118,
   "id": "e16dc126",
   "metadata": {},
   "outputs": [
    {
     "data": {
      "text/html": [
       "<div>\n",
       "<style scoped>\n",
       "    .dataframe tbody tr th:only-of-type {\n",
       "        vertical-align: middle;\n",
       "    }\n",
       "\n",
       "    .dataframe tbody tr th {\n",
       "        vertical-align: top;\n",
       "    }\n",
       "\n",
       "    .dataframe thead th {\n",
       "        text-align: right;\n",
       "    }\n",
       "</style>\n",
       "<table border=\"1\" class=\"dataframe\">\n",
       "  <thead>\n",
       "    <tr style=\"text-align: right;\">\n",
       "      <th></th>\n",
       "      <th>duration</th>\n",
       "      <th>protocol_type</th>\n",
       "      <th>service</th>\n",
       "      <th>flag</th>\n",
       "      <th>src_bytes</th>\n",
       "      <th>dst_bytes</th>\n",
       "      <th>land</th>\n",
       "      <th>wrong_fragment</th>\n",
       "      <th>urgent</th>\n",
       "      <th>hot</th>\n",
       "      <th>...</th>\n",
       "      <th>dst_host_srv_count</th>\n",
       "      <th>dst_host_same_srv_rate</th>\n",
       "      <th>dst_host_diff_srv_rate</th>\n",
       "      <th>dst_host_same_src_port_rate</th>\n",
       "      <th>dst_host_srv_diff_host_rate</th>\n",
       "      <th>dst_host_serror_rate</th>\n",
       "      <th>dst_host_srv_serror_rate</th>\n",
       "      <th>dst_host_rerror_rate</th>\n",
       "      <th>dst_host_srv_rerror_rate</th>\n",
       "      <th>target</th>\n",
       "    </tr>\n",
       "  </thead>\n",
       "  <tbody>\n",
       "    <tr>\n",
       "      <th>0</th>\n",
       "      <td>0</td>\n",
       "      <td>2</td>\n",
       "      <td>23</td>\n",
       "      <td>9</td>\n",
       "      <td>302</td>\n",
       "      <td>1023</td>\n",
       "      <td>0</td>\n",
       "      <td>0</td>\n",
       "      <td>0</td>\n",
       "      <td>0</td>\n",
       "      <td>...</td>\n",
       "      <td>255</td>\n",
       "      <td>1.00</td>\n",
       "      <td>0.00</td>\n",
       "      <td>0.00</td>\n",
       "      <td>0.00</td>\n",
       "      <td>0.0</td>\n",
       "      <td>0.0</td>\n",
       "      <td>0.0</td>\n",
       "      <td>0.0</td>\n",
       "      <td>0</td>\n",
       "    </tr>\n",
       "    <tr>\n",
       "      <th>1</th>\n",
       "      <td>0</td>\n",
       "      <td>3</td>\n",
       "      <td>41</td>\n",
       "      <td>9</td>\n",
       "      <td>48</td>\n",
       "      <td>48</td>\n",
       "      <td>0</td>\n",
       "      <td>0</td>\n",
       "      <td>0</td>\n",
       "      <td>0</td>\n",
       "      <td>...</td>\n",
       "      <td>9</td>\n",
       "      <td>0.08</td>\n",
       "      <td>0.02</td>\n",
       "      <td>0.08</td>\n",
       "      <td>0.00</td>\n",
       "      <td>0.0</td>\n",
       "      <td>0.0</td>\n",
       "      <td>0.0</td>\n",
       "      <td>0.0</td>\n",
       "      <td>0</td>\n",
       "    </tr>\n",
       "    <tr>\n",
       "      <th>2</th>\n",
       "      <td>0</td>\n",
       "      <td>2</td>\n",
       "      <td>23</td>\n",
       "      <td>9</td>\n",
       "      <td>334</td>\n",
       "      <td>2096</td>\n",
       "      <td>0</td>\n",
       "      <td>0</td>\n",
       "      <td>0</td>\n",
       "      <td>0</td>\n",
       "      <td>...</td>\n",
       "      <td>255</td>\n",
       "      <td>1.00</td>\n",
       "      <td>0.00</td>\n",
       "      <td>0.03</td>\n",
       "      <td>0.03</td>\n",
       "      <td>0.0</td>\n",
       "      <td>0.0</td>\n",
       "      <td>0.0</td>\n",
       "      <td>0.0</td>\n",
       "      <td>0</td>\n",
       "    </tr>\n",
       "    <tr>\n",
       "      <th>3</th>\n",
       "      <td>0</td>\n",
       "      <td>2</td>\n",
       "      <td>23</td>\n",
       "      <td>9</td>\n",
       "      <td>211</td>\n",
       "      <td>1796</td>\n",
       "      <td>0</td>\n",
       "      <td>0</td>\n",
       "      <td>0</td>\n",
       "      <td>0</td>\n",
       "      <td>...</td>\n",
       "      <td>255</td>\n",
       "      <td>1.00</td>\n",
       "      <td>0.00</td>\n",
       "      <td>0.05</td>\n",
       "      <td>0.04</td>\n",
       "      <td>0.0</td>\n",
       "      <td>0.0</td>\n",
       "      <td>0.0</td>\n",
       "      <td>0.0</td>\n",
       "      <td>0</td>\n",
       "    </tr>\n",
       "    <tr>\n",
       "      <th>4</th>\n",
       "      <td>0</td>\n",
       "      <td>2</td>\n",
       "      <td>23</td>\n",
       "      <td>9</td>\n",
       "      <td>210</td>\n",
       "      <td>396</td>\n",
       "      <td>0</td>\n",
       "      <td>0</td>\n",
       "      <td>0</td>\n",
       "      <td>0</td>\n",
       "      <td>...</td>\n",
       "      <td>255</td>\n",
       "      <td>1.00</td>\n",
       "      <td>0.00</td>\n",
       "      <td>0.00</td>\n",
       "      <td>0.00</td>\n",
       "      <td>0.0</td>\n",
       "      <td>0.0</td>\n",
       "      <td>0.0</td>\n",
       "      <td>0.0</td>\n",
       "      <td>0</td>\n",
       "    </tr>\n",
       "  </tbody>\n",
       "</table>\n",
       "<p>5 rows × 41 columns</p>\n",
       "</div>"
      ],
      "text/plain": [
       "   duration  protocol_type  service  flag  src_bytes  dst_bytes  land  \\\n",
       "0         0              2       23     9        302       1023     0   \n",
       "1         0              3       41     9         48         48     0   \n",
       "2         0              2       23     9        334       2096     0   \n",
       "3         0              2       23     9        211       1796     0   \n",
       "4         0              2       23     9        210        396     0   \n",
       "\n",
       "   wrong_fragment  urgent  hot  ...  dst_host_srv_count  \\\n",
       "0               0       0    0  ...                 255   \n",
       "1               0       0    0  ...                   9   \n",
       "2               0       0    0  ...                 255   \n",
       "3               0       0    0  ...                 255   \n",
       "4               0       0    0  ...                 255   \n",
       "\n",
       "   dst_host_same_srv_rate  dst_host_diff_srv_rate  \\\n",
       "0                    1.00                    0.00   \n",
       "1                    0.08                    0.02   \n",
       "2                    1.00                    0.00   \n",
       "3                    1.00                    0.00   \n",
       "4                    1.00                    0.00   \n",
       "\n",
       "   dst_host_same_src_port_rate  dst_host_srv_diff_host_rate  \\\n",
       "0                         0.00                         0.00   \n",
       "1                         0.08                         0.00   \n",
       "2                         0.03                         0.03   \n",
       "3                         0.05                         0.04   \n",
       "4                         0.00                         0.00   \n",
       "\n",
       "   dst_host_serror_rate  dst_host_srv_serror_rate  dst_host_rerror_rate  \\\n",
       "0                   0.0                       0.0                   0.0   \n",
       "1                   0.0                       0.0                   0.0   \n",
       "2                   0.0                       0.0                   0.0   \n",
       "3                   0.0                       0.0                   0.0   \n",
       "4                   0.0                       0.0                   0.0   \n",
       "\n",
       "   dst_host_srv_rerror_rate  target  \n",
       "0                       0.0       0  \n",
       "1                       0.0       0  \n",
       "2                       0.0       0  \n",
       "3                       0.0       0  \n",
       "4                       0.0       0  \n",
       "\n",
       "[5 rows x 41 columns]"
      ]
     },
     "execution_count": 118,
     "metadata": {},
     "output_type": "execute_result"
    }
   ],
   "source": [
    "df = pd.read_csv('data_cleaned.csv')\n",
    "\n",
    "df.head()"
   ]
  },
  {
   "cell_type": "code",
   "execution_count": 131,
   "id": "bcba9dbd",
   "metadata": {},
   "outputs": [],
   "source": [
    "# 0 for normal conn., 1 for abnormal conn.\n",
    "y = df['target']\n",
    "X = df.drop(['target'], axis=1)\n",
    "\n",
    "# split data into train and test\n",
    "X_train, X_test, y_train, y_test = train_test_split(X, y, test_size=0.3, random_state=42)\n"
   ]
  },
  {
   "cell_type": "code",
   "execution_count": 144,
   "id": "8dc41e13",
   "metadata": {},
   "outputs": [],
   "source": [
    "\n",
    "def train_classifier(models, X_train, y_train, X_test, y_test):\n",
    "    model_name, model = models\n",
    "    model.fit(X_train, y_train)\n",
    "    y_pred = model.predict(X_test)\n",
    "    scores = cross_val_score(model, X_train, y_train, cv=10)\n",
    "    accuracy = metrics.accuracy_score(y_test, y_pred)\n",
    "    classification = metrics.classification_report(y_test, y_pred)\n",
    "    print()\n",
    "    print(f\"============================== {model_name} Model Evaluation ==============================\")\n",
    "    print()\n",
    "    print (\"Cross Validation Mean Score:\" \"\\n\", scores.mean())\n",
    "    print()\n",
    "    print (\"Model Accuracy:\" \"\\n\", accuracy)\n",
    "    print()\n",
    "    print(\"Classification report:\" \"\\n\", classification) \n",
    "    print()\n",
    "    \n",
    "    ConfusionMatrixDisplay.from_predictions(y_test, y_pred)\n",
    "    plt.show()\n"
   ]
  },
  {
   "cell_type": "code",
   "execution_count": 146,
   "id": "2a412af5",
   "metadata": {},
   "outputs": [],
   "source": [
    "# refered to code: https://amirhessam88.github.io/roc-vs-pr/\n",
    "def plot_prc_curve(classifier, X, y, n_folds=5):\n",
    "    \"\"\"\n",
    "    Function to:\n",
    "    1. train RF classification model using cross-validation, \n",
    "    2. plot PRC curve, and \n",
    "    3. get avg F1 score\n",
    "    \"\"\"\n",
    "    \n",
    "    cv = StratifiedKFold(n_splits=n_folds)\n",
    "\n",
    "    # defining the lists\n",
    "    prs = []\n",
    "    aucs = []\n",
    "    mean_recall = np.linspace(0, 1, 100)\n",
    "    f1_score_lst = []\n",
    "    \n",
    "    plt.figure(figsize=(9, 7))\n",
    "    index = 0\n",
    "    for train, test in cv.split(X, y):\n",
    "        probas_ = classifier.fit(X.iloc[train], y.iloc[train].values.ravel()).predict_proba(X.iloc[test])\n",
    "        # Compute PR curve and area under the curve (prc/auc)\n",
    "        precision, recall, thresholds = precision_recall_curve(y.iloc[test], probas_[:, 1])\n",
    "        prs.append(np.interp(mean_recall, precision, recall))\n",
    "        pr_auc = auc(recall, precision)\n",
    "        aucs.append(pr_auc)\n",
    "        \n",
    "        # append f1 score\n",
    "        y_pred = classifier.predict(X.iloc[test])\n",
    "        rf_f1 = f1_score(y_true=y.iloc[test], y_pred=y_pred)\n",
    "        f1_score_lst.append(rf_f1)\n",
    "        \n",
    "        plt.plot(recall, precision, lw=1, alpha=0.5, label='Fold %d (AUCPR = %0.2f)' % (index+1, pr_auc))\n",
    "        index += 1\n",
    "    \n",
    "    plt.plot([0, 1], [1, 0], linestyle='--', lw=1, color='k', label='No Skill', alpha=.8)\n",
    "    mean_precision = np.mean(prs, axis=0)\n",
    "    mean_auc = auc(mean_recall, mean_precision)\n",
    "    std_auc = np.std(aucs)\n",
    "    f1_array = np.array(f1_score_lst)\n",
    "    print(f\"average F1-scores: {np.mean(f1_array)}\")\n",
    "    plt.plot(mean_precision, mean_recall, color='navy',\n",
    "             label=r'Mean (AUCPR = %0.3f $\\pm$ %0.2f)' % (mean_auc, std_auc),\n",
    "             lw=2)\n",
    "    \n",
    "\n",
    "    plt.xlim([-0.05, 1.05])\n",
    "    plt.ylim([-0.05, 1.05])\n",
    "    plt.xlabel('Recall' ,  fontweight = \"bold\" , fontsize=30)\n",
    "    plt.ylabel('Precision',fontweight = \"bold\" , fontsize=30)\n",
    "    plt.tick_params(axis='both', which='major', labelsize=20)\n",
    "    plt.legend( prop={'size':20} , loc = 0)\n",
    "    plt.show()"
   ]
  },
  {
   "cell_type": "markdown",
   "id": "e5f0862e",
   "metadata": {},
   "source": [
    "### RandomForest Classifier"
   ]
  },
  {
   "cell_type": "code",
   "execution_count": 145,
   "id": "f266f345",
   "metadata": {},
   "outputs": [
    {
     "name": "stdout",
     "output_type": "stream",
     "text": [
      "\n",
      "============================== Random Forest Model Evaluation ==============================\n",
      "\n",
      "Cross Validation Mean Score:\n",
      " 0.9969999999999999\n",
      "\n",
      "Model Accuracy:\n",
      " 0.9973\n",
      "\n",
      "Classification report:\n",
      "               precision    recall  f1-score   support\n",
      "\n",
      "           0       1.00      1.00      1.00      8790\n",
      "           1       0.99      0.98      0.99      1210\n",
      "\n",
      "    accuracy                           1.00     10000\n",
      "   macro avg       1.00      0.99      0.99     10000\n",
      "weighted avg       1.00      1.00      1.00     10000\n",
      "\n",
      "\n"
     ]
    },
    {
     "data": {
      "image/png": "[encoded data removed]",
      "text/plain": [
       "<Figure size 432x288 with 2 Axes>"
      ]
     },
     "metadata": {
      "needs_background": "light"
     },
     "output_type": "display_data"
    }
   ],
   "source": [
    "\n",
    "\n",
    "train_classifier((\"Random Forest\", RandomForestClassifier(n_estimators=100, random_state=42)), X_train.iloc[:10000, :], y_train.iloc[:10000], X_test.iloc[:10000, :], y_test.iloc[:10000])"
   ]
  },
  {
   "cell_type": "code",
   "execution_count": 147,
   "id": "ed2030c8",
   "metadata": {},
   "outputs": [
    {
     "name": "stdout",
     "output_type": "stream",
     "text": [
      "average F1-scores: 0.9828717630577206\n"
     ]
    },
    {
     "data": {
      "image/png": "[encoded data removed]",
      "text/plain": [
       "<Figure size 648x504 with 1 Axes>"
      ]
     },
     "metadata": {
      "needs_background": "light"
     },
     "output_type": "display_data"
    }
   ],
   "source": [
    "# get first 10000 data of X\n",
    "X = X.iloc[:10000, :]\n",
    "# get first 10000 data of y\n",
    "y = y.iloc[:10000]\n",
    "\n",
    "classifier = RandomForestClassifier(n_estimators=200)\n",
    "plot_prc_curve(classifier, X, y)"
   ]
  },
  {
   "cell_type": "markdown",
   "id": "ada97524",
   "metadata": {},
   "source": [
    "## XGBoost Classifier"
   ]
  },
  {
   "cell_type": "code",
   "execution_count": 150,
   "id": "cf71e85e",
   "metadata": {},
   "outputs": [
    {
     "name": "stdout",
     "output_type": "stream",
     "text": [
      "\n",
      "============================== XGBoost Model Evaluation ==============================\n",
      "\n",
      "Cross Validation Mean Score:\n",
      " 0.9971\n",
      "\n",
      "Model Accuracy:\n",
      " 0.9977\n",
      "\n",
      "Classification report:\n",
      "               precision    recall  f1-score   support\n",
      "\n",
      "           0       1.00      1.00      1.00      8790\n",
      "           1       1.00      0.99      0.99      1210\n",
      "\n",
      "    accuracy                           1.00     10000\n",
      "   macro avg       1.00      0.99      0.99     10000\n",
      "weighted avg       1.00      1.00      1.00     10000\n",
      "\n",
      "\n"
     ]
    },
    {
     "data": {
      "image/png": "[encoded data removed]",
      "text/plain": [
       "<Figure size 432x288 with 2 Axes>"
      ]
     },
     "metadata": {
      "needs_background": "light"
     },
     "output_type": "display_data"
    }
   ],
   "source": [
    "\n",
    "# Train XGBoost Classifier\n",
    "xgbc = XGBClassifier(eval_metric=\"logloss\", random_state=42)\n",
    "\n",
    "\n",
    "train_classifier((\"XGBoost\", xgbc), X_train.iloc[:10000, :], y_train.iloc[:10000], X_test.iloc[:10000, :], y_test.iloc[:10000])"
   ]
  },
  {
   "cell_type": "code",
   "execution_count": 151,
   "id": "5b9ecfff",
   "metadata": {},
   "outputs": [
    {
     "name": "stdout",
     "output_type": "stream",
     "text": [
      "average F1-scores: 0.9772129843488738\n"
     ]
    },
    {
     "data": {
      "image/png": "[encoded data removed]",
      "text/plain": [
       "<Figure size 648x504 with 1 Axes>"
      ]
     },
     "metadata": {
      "needs_background": "light"
     },
     "output_type": "display_data"
    }
   ],
   "source": [
    "# get first 10000 data of X\n",
    "X = X.iloc[:10000, :]\n",
    "# get first 10000 data of y\n",
    "y = y.iloc[:10000]\n",
    "\n",
    "plot_prc_curve(xgbc, X, y)"
   ]
  }
 ],
 "metadata": {
  "kernelspec": {
   "display_name": "Python 3 (ipykernel)",
   "language": "python",
   "name": "python3"
  },
  "language_info": {
   "codemirror_mode": {
    "name": "ipython",
    "version": 3
   },
   "file_extension": ".py",
   "mimetype": "text/x-python",
   "name": "python",
   "nbconvert_exporter": "python",
   "pygments_lexer": "ipython3",
   "version": "3.8.12"
  }
 },
 "nbformat": 4,
 "nbformat_minor": 5
}
